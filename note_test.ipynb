{
 "cells": [
  {
   "cell_type": "code",
   "execution_count": 1,
   "metadata": {},
   "outputs": [],
   "source": [
    "import numpy as np\r\n",
    "import pandas as pd\r\n",
    "import matplotlib.pyplot as plt\r\n",
    "import scanpy as sc\r\n",
    "sc.settings.verbosity = 0\r\n",
    "from anndata import AnnData\r\n",
    "import scipy\r\n",
    "from numpy.linalg import svd\r\n",
    "\r\n",
    "\r\n",
    "import warnings\r\n",
    "warnings.filterwarnings(\"ignore\")\r\n"
   ]
  },
  {
   "cell_type": "code",
   "execution_count": 2,
   "metadata": {},
   "outputs": [],
   "source": [
    "try:\r\n",
    "    from sys import path as syspath\r\n",
    "    from os import path as ospath\r\n",
    "    syspath.append(ospath.join(ospath.expanduser(\"~\"), './'))\r\n",
    "    \r\n",
    "    #from pcNet import pcNet\r\n",
    "    from main import *\r\n",
    "    #import dNN \r\n",
    "    #from neighborhood import laplacian\r\n",
    "except ImportError:\r\n",
    "    print('Module not found')"
   ]
  },
  {
   "cell_type": "code",
   "execution_count": 3,
   "metadata": {},
   "outputs": [
    {
     "data": {
      "text/plain": [
       "AnnData object with n_obs × n_vars = 5011 × 17328\n",
       "    obs: 'orig.ident', 'nCount_RNA', 'nFeature_RNA', 'patient.id', 'condition', 'labels', 'ident'\n",
       "    var: 'vst.mean', 'vst.variance', 'vst.variance.expected', 'vst.variance.standardized', 'vst.variable'"
      ]
     },
     "execution_count": 3,
     "metadata": {},
     "output_type": "execute_result"
    }
   ],
   "source": [
    "ada = sc.read_h5ad(\"data/LS.h5ad\")\r\n",
    "ada"
   ]
  },
  {
   "cell_type": "code",
   "execution_count": 4,
   "metadata": {},
   "outputs": [],
   "source": [
    "data = scipy.sparse.csr_matrix.toarray(ada.X)\r\n",
    "counts = np.asarray(np.expm1(data), dtype=int)\r\n",
    "ada.layers['raw'] = counts\r\n",
    "ada.layers['log1p'] = data"
   ]
  },
  {
   "cell_type": "code",
   "execution_count": 5,
   "metadata": {},
   "outputs": [
    {
     "data": {
      "text/plain": [
       "AnnData object with n_obs × n_vars = 5011 × 3000\n",
       "    obs: 'orig.ident', 'nCount_RNA', 'nFeature_RNA', 'patient.id', 'condition', 'labels', 'ident'\n",
       "    var: 'vst.mean', 'vst.variance', 'vst.variance.expected', 'vst.variance.standardized', 'vst.variable'\n",
       "    layers: 'raw', 'log1p'"
      ]
     },
     "execution_count": 5,
     "metadata": {},
     "output_type": "execute_result"
    }
   ],
   "source": [
    "HVG_i = np.argsort(np.asarray(ada.var['vst.variance.standardized']))[-3000:]\r\n",
    "ada = ada[:, HVG_i].copy()\r\n",
    "ada"
   ]
  },
  {
   "cell_type": "code",
   "execution_count": null,
   "metadata": {},
   "outputs": [],
   "source": []
  },
  {
   "cell_type": "code",
   "execution_count": 6,
   "metadata": {},
   "outputs": [
    {
     "data": {
      "text/plain": [
       "main.Xct_metrics"
      ]
     },
     "execution_count": 6,
     "metadata": {},
     "output_type": "execute_result"
    }
   ],
   "source": [
    "skin = Xct_metrics(ada)\r\n",
    "type(skin)"
   ]
  },
  {
   "cell_type": "code",
   "execution_count": 7,
   "metadata": {},
   "outputs": [
    {
     "data": {
      "text/html": [
       "<div>\n",
       "<style scoped>\n",
       "    .dataframe tbody tr th:only-of-type {\n",
       "        vertical-align: middle;\n",
       "    }\n",
       "\n",
       "    .dataframe tbody tr th {\n",
       "        vertical-align: top;\n",
       "    }\n",
       "\n",
       "    .dataframe thead th {\n",
       "        text-align: right;\n",
       "    }\n",
       "</style>\n",
       "<table border=\"1\" class=\"dataframe\">\n",
       "  <thead>\n",
       "    <tr style=\"text-align: right;\">\n",
       "      <th></th>\n",
       "      <th>ligand</th>\n",
       "      <th>receptor</th>\n",
       "    </tr>\n",
       "  </thead>\n",
       "  <tbody>\n",
       "    <tr>\n",
       "      <th>0</th>\n",
       "      <td>BDNF</td>\n",
       "      <td>TRPC1</td>\n",
       "    </tr>\n",
       "    <tr>\n",
       "      <th>1</th>\n",
       "      <td>CXCL12</td>\n",
       "      <td>GNAI2</td>\n",
       "    </tr>\n",
       "    <tr>\n",
       "      <th>2</th>\n",
       "      <td>PF4</td>\n",
       "      <td>GNAI2</td>\n",
       "    </tr>\n",
       "    <tr>\n",
       "      <th>3</th>\n",
       "      <td>EPOR</td>\n",
       "      <td>TRPC3</td>\n",
       "    </tr>\n",
       "    <tr>\n",
       "      <th>4</th>\n",
       "      <td>EPOR</td>\n",
       "      <td>EPO</td>\n",
       "    </tr>\n",
       "  </tbody>\n",
       "</table>\n",
       "</div>"
      ],
      "text/plain": [
       "   ligand receptor\n",
       "0    BDNF    TRPC1\n",
       "1  CXCL12    GNAI2\n",
       "2     PF4    GNAI2\n",
       "3    EPOR    TRPC3\n",
       "4    EPOR      EPO"
      ]
     },
     "execution_count": 7,
     "metadata": {},
     "output_type": "execute_result"
    }
   ],
   "source": [
    "skin.DB.head()"
   ]
  },
  {
   "cell_type": "code",
   "execution_count": 8,
   "metadata": {},
   "outputs": [
    {
     "data": {
      "text/plain": [
       "array([[1194,    0],\n",
       "       [2920,    0],\n",
       "       [   0,    0],\n",
       "       ...,\n",
       "       [   0,    0],\n",
       "       [   0,    0],\n",
       "       [   0,    0]])"
      ]
     },
     "execution_count": 8,
     "metadata": {},
     "output_type": "execute_result"
    }
   ],
   "source": [
    "skin._genes_index_DB"
   ]
  },
  {
   "cell_type": "code",
   "execution_count": 9,
   "metadata": {},
   "outputs": [
    {
     "name": "stdout",
     "output_type": "stream",
     "text": [
      "918 (intervals for fit) / 3000 (filtered -Inf) / 3000 (original) features for the fit\n"
     ]
    },
    {
     "data": {
      "image/png": "[encoded data removed]",
      "text/plain": [
       "<Figure size 480x400 with 1 Axes>"
      ]
     },
     "metadata": {
      "needs_background": "light"
     },
     "output_type": "display_data"
    },
    {
     "data": {
      "text/plain": [
       "array([ 0.048889  , -0.07626458, -0.02784309, ...,  0.78019458,\n",
       "        0.59314723,  0.22144539])"
      ]
     },
     "execution_count": 9,
     "metadata": {},
     "output_type": "execute_result"
    }
   ],
   "source": [
    "skin.chen2016_fit(ada, plot = True, verbose = True)"
   ]
  },
  {
   "cell_type": "code",
   "execution_count": null,
   "metadata": {},
   "outputs": [],
   "source": []
  },
  {
   "cell_type": "code",
   "execution_count": null,
   "metadata": {},
   "outputs": [],
   "source": []
  },
  {
   "cell_type": "code",
   "execution_count": 10,
   "metadata": {},
   "outputs": [
    {
     "data": {
      "text/html": [
       "<div>\n",
       "<style scoped>\n",
       "    .dataframe tbody tr th:only-of-type {\n",
       "        vertical-align: middle;\n",
       "    }\n",
       "\n",
       "    .dataframe tbody tr th {\n",
       "        vertical-align: top;\n",
       "    }\n",
       "\n",
       "    .dataframe thead th {\n",
       "        text-align: right;\n",
       "    }\n",
       "</style>\n",
       "<table border=\"1\" class=\"dataframe\">\n",
       "  <thead>\n",
       "    <tr style=\"text-align: right;\">\n",
       "      <th></th>\n",
       "      <th>ligand</th>\n",
       "      <th>receptor</th>\n",
       "      <th>mean_L</th>\n",
       "      <th>mean_R</th>\n",
       "      <th>var_L</th>\n",
       "      <th>var_R</th>\n",
       "      <th>disp_L</th>\n",
       "      <th>disp_R</th>\n",
       "      <th>cv_L</th>\n",
       "      <th>cv_R</th>\n",
       "      <th>cv_res_L</th>\n",
       "      <th>cv_res_R</th>\n",
       "    </tr>\n",
       "  </thead>\n",
       "  <tbody>\n",
       "    <tr>\n",
       "      <th>21</th>\n",
       "      <td>IGF1</td>\n",
       "      <td>NTRK2</td>\n",
       "      <td>0.029522</td>\n",
       "      <td>0.024446</td>\n",
       "      <td>0.067410</td>\n",
       "      <td>0.027285</td>\n",
       "      <td>2.283343</td>\n",
       "      <td>1.116142</td>\n",
       "      <td>8.794479</td>\n",
       "      <td>6.757026</td>\n",
       "      <td>0.156436</td>\n",
       "      <td>-0.338065</td>\n",
       "    </tr>\n",
       "    <tr>\n",
       "      <th>31</th>\n",
       "      <td>AREG</td>\n",
       "      <td>NTRK2</td>\n",
       "      <td>0.003443</td>\n",
       "      <td>0.024446</td>\n",
       "      <td>0.005726</td>\n",
       "      <td>0.027285</td>\n",
       "      <td>1.663072</td>\n",
       "      <td>1.116142</td>\n",
       "      <td>21.977261</td>\n",
       "      <td>6.757026</td>\n",
       "      <td>-0.221117</td>\n",
       "      <td>-0.338065</td>\n",
       "    </tr>\n",
       "    <tr>\n",
       "      <th>36</th>\n",
       "      <td>FGF2</td>\n",
       "      <td>NTRK2</td>\n",
       "      <td>0.076530</td>\n",
       "      <td>0.024446</td>\n",
       "      <td>0.142827</td>\n",
       "      <td>0.027285</td>\n",
       "      <td>1.866276</td>\n",
       "      <td>1.116142</td>\n",
       "      <td>4.938230</td>\n",
       "      <td>6.757026</td>\n",
       "      <td>-0.075862</td>\n",
       "      <td>-0.338065</td>\n",
       "    </tr>\n",
       "    <tr>\n",
       "      <th>38</th>\n",
       "      <td>FGF7</td>\n",
       "      <td>NTRK2</td>\n",
       "      <td>0.449156</td>\n",
       "      <td>0.024446</td>\n",
       "      <td>0.835224</td>\n",
       "      <td>0.027285</td>\n",
       "      <td>1.859543</td>\n",
       "      <td>1.116142</td>\n",
       "      <td>2.034720</td>\n",
       "      <td>6.757026</td>\n",
       "      <td>0.023099</td>\n",
       "      <td>-0.338065</td>\n",
       "    </tr>\n",
       "    <tr>\n",
       "      <th>56</th>\n",
       "      <td>BDNF</td>\n",
       "      <td>NTRK2</td>\n",
       "      <td>0.009386</td>\n",
       "      <td>0.024446</td>\n",
       "      <td>0.016305</td>\n",
       "      <td>0.027285</td>\n",
       "      <td>1.737234</td>\n",
       "      <td>1.116142</td>\n",
       "      <td>13.604940</td>\n",
       "      <td>6.757026</td>\n",
       "      <td>-0.094830</td>\n",
       "      <td>-0.338065</td>\n",
       "    </tr>\n",
       "    <tr>\n",
       "      <th>...</th>\n",
       "      <td>...</td>\n",
       "      <td>...</td>\n",
       "      <td>...</td>\n",
       "      <td>...</td>\n",
       "      <td>...</td>\n",
       "      <td>...</td>\n",
       "      <td>...</td>\n",
       "      <td>...</td>\n",
       "      <td>...</td>\n",
       "      <td>...</td>\n",
       "      <td>...</td>\n",
       "      <td>...</td>\n",
       "    </tr>\n",
       "    <tr>\n",
       "      <th>7974</th>\n",
       "      <td>LAMB1</td>\n",
       "      <td>SV2B</td>\n",
       "      <td>0.192922</td>\n",
       "      <td>0.015761</td>\n",
       "      <td>0.356617</td>\n",
       "      <td>0.019873</td>\n",
       "      <td>1.848509</td>\n",
       "      <td>1.260899</td>\n",
       "      <td>3.095425</td>\n",
       "      <td>8.944272</td>\n",
       "      <td>-0.019347</td>\n",
       "      <td>-0.338065</td>\n",
       "    </tr>\n",
       "    <tr>\n",
       "      <th>7980</th>\n",
       "      <td>LAMC3</td>\n",
       "      <td>SV2B</td>\n",
       "      <td>0.343355</td>\n",
       "      <td>0.015761</td>\n",
       "      <td>0.610706</td>\n",
       "      <td>0.019873</td>\n",
       "      <td>1.778645</td>\n",
       "      <td>1.260899</td>\n",
       "      <td>2.276004</td>\n",
       "      <td>8.944272</td>\n",
       "      <td>-0.046932</td>\n",
       "      <td>-0.338065</td>\n",
       "    </tr>\n",
       "    <tr>\n",
       "      <th>7984</th>\n",
       "      <td>LAMB2</td>\n",
       "      <td>SV2B</td>\n",
       "      <td>1.027162</td>\n",
       "      <td>0.015761</td>\n",
       "      <td>1.343443</td>\n",
       "      <td>0.019873</td>\n",
       "      <td>1.307918</td>\n",
       "      <td>1.260899</td>\n",
       "      <td>1.128420</td>\n",
       "      <td>8.944272</td>\n",
       "      <td>-0.030466</td>\n",
       "      <td>-0.338065</td>\n",
       "    </tr>\n",
       "    <tr>\n",
       "      <th>8113</th>\n",
       "      <td>FSTL1</td>\n",
       "      <td>DIP2A</td>\n",
       "      <td>1.154967</td>\n",
       "      <td>0.066773</td>\n",
       "      <td>1.490066</td>\n",
       "      <td>0.086209</td>\n",
       "      <td>1.290138</td>\n",
       "      <td>1.291068</td>\n",
       "      <td>1.056898</td>\n",
       "      <td>4.397163</td>\n",
       "      <td>0.014484</td>\n",
       "      <td>-0.313400</td>\n",
       "    </tr>\n",
       "    <tr>\n",
       "      <th>8132</th>\n",
       "      <td>ACP6</td>\n",
       "      <td>HEXIM1</td>\n",
       "      <td>0.004821</td>\n",
       "      <td>0.564291</td>\n",
       "      <td>0.011224</td>\n",
       "      <td>0.851861</td>\n",
       "      <td>2.328389</td>\n",
       "      <td>1.509613</td>\n",
       "      <td>21.977261</td>\n",
       "      <td>1.635615</td>\n",
       "      <td>-0.045050</td>\n",
       "      <td>-0.012821</td>\n",
       "    </tr>\n",
       "  </tbody>\n",
       "</table>\n",
       "<p>160 rows × 12 columns</p>\n",
       "</div>"
      ],
      "text/plain": [
       "     ligand receptor    mean_L    mean_R     var_L     var_R    disp_L  \\\n",
       "21     IGF1    NTRK2  0.029522  0.024446  0.067410  0.027285  2.283343   \n",
       "31     AREG    NTRK2  0.003443  0.024446  0.005726  0.027285  1.663072   \n",
       "36     FGF2    NTRK2  0.076530  0.024446  0.142827  0.027285  1.866276   \n",
       "38     FGF7    NTRK2  0.449156  0.024446  0.835224  0.027285  1.859543   \n",
       "56     BDNF    NTRK2  0.009386  0.024446  0.016305  0.027285  1.737234   \n",
       "...     ...      ...       ...       ...       ...       ...       ...   \n",
       "7974  LAMB1     SV2B  0.192922  0.015761  0.356617  0.019873  1.848509   \n",
       "7980  LAMC3     SV2B  0.343355  0.015761  0.610706  0.019873  1.778645   \n",
       "7984  LAMB2     SV2B  1.027162  0.015761  1.343443  0.019873  1.307918   \n",
       "8113  FSTL1    DIP2A  1.154967  0.066773  1.490066  0.086209  1.290138   \n",
       "8132   ACP6   HEXIM1  0.004821  0.564291  0.011224  0.851861  2.328389   \n",
       "\n",
       "        disp_R       cv_L      cv_R  cv_res_L  cv_res_R  \n",
       "21    1.116142   8.794479  6.757026  0.156436 -0.338065  \n",
       "31    1.116142  21.977261  6.757026 -0.221117 -0.338065  \n",
       "36    1.116142   4.938230  6.757026 -0.075862 -0.338065  \n",
       "38    1.116142   2.034720  6.757026  0.023099 -0.338065  \n",
       "56    1.116142  13.604940  6.757026 -0.094830 -0.338065  \n",
       "...        ...        ...       ...       ...       ...  \n",
       "7974  1.260899   3.095425  8.944272 -0.019347 -0.338065  \n",
       "7980  1.260899   2.276004  8.944272 -0.046932 -0.338065  \n",
       "7984  1.260899   1.128420  8.944272 -0.030466 -0.338065  \n",
       "8113  1.291068   1.056898  4.397163  0.014484 -0.313400  \n",
       "8132  1.509613  21.977261  1.635615 -0.045050 -0.012821  \n",
       "\n",
       "[160 rows x 12 columns]"
      ]
     },
     "execution_count": 10,
     "metadata": {},
     "output_type": "execute_result"
    }
   ],
   "source": [
    "obj1 = Xct(ada, 'Inflam. FIB', 'Inflam. DC', RUNpcNet=True)\r\n",
    "df1 = obj1.fill_metric()\r\n",
    "df1"
   ]
  },
  {
   "cell_type": "code",
   "execution_count": 11,
   "metadata": {},
   "outputs": [
    {
     "data": {
      "text/plain": [
       "((3000, 3000), (3000, 3000), (6000, 6000))"
      ]
     },
     "execution_count": 11,
     "metadata": {},
     "output_type": "execute_result"
    }
   ],
   "source": [
    "obj1._net_A.shape, obj1._net_B.shape, obj1._w.shape"
   ]
  },
  {
   "cell_type": "code",
   "execution_count": 12,
   "metadata": {},
   "outputs": [
    {
     "data": {
      "text/plain": [
       "160"
      ]
     },
     "execution_count": 12,
     "metadata": {},
     "output_type": "execute_result"
    }
   ],
   "source": [
    "#selected LR pairs\r\n",
    "candidates = [a+'_'+b for a, b in zip(np.asarray(df1['ligand'],dtype=str), np.asarray(df1['receptor'],dtype=str))]\r\n",
    "len(candidates)"
   ]
  },
  {
   "cell_type": "code",
   "execution_count": 13,
   "metadata": {},
   "outputs": [
    {
     "name": "stdout",
     "output_type": "stream",
     "text": [
      "Net(\n",
      "  (linear1): Linear(in_features=484, out_features=124, bias=True)\n",
      "  (linear2): Linear(in_features=124, out_features=31, bias=True)\n",
      "  (linear3): Linear(in_features=31, out_features=2, bias=True)\n",
      ")\n",
      "Net(\n",
      "  (linear1): Linear(in_features=81, out_features=48, bias=True)\n",
      "  (linear2): Linear(in_features=48, out_features=12, bias=True)\n",
      "  (linear3): Linear(in_features=12, out_features=2, bias=True)\n",
      ")\n",
      "0 4698.8232421875\n",
      "100 400.5235595703125\n",
      "200 325.7298583984375\n",
      "300 239.3107452392578\n",
      "400 177.91758728027344\n",
      "500 162.26528930664062\n",
      "600 150.29171752929688\n",
      "700 148.41165161132812\n",
      "800 137.0343475341797\n",
      "900 148.4192657470703\n",
      "1000 127.00245666503906\n",
      "1100 136.01211547851562\n",
      "1200 118.62393188476562\n",
      "1300 119.2399673461914\n",
      "1400 120.53225708007812\n",
      "1500 118.99088287353516\n",
      "1600 125.00253295898438\n",
      "1700 109.76364135742188\n",
      "1800 110.96172332763672\n",
      "1900 114.00531768798828\n",
      "2000 108.53489685058594\n",
      "2100 104.4301986694336\n",
      "2200 107.25914001464844\n",
      "2300 104.14509582519531\n",
      "2400 103.16535949707031\n",
      "2500 99.50951385498047\n",
      "2600 98.99259948730469\n",
      "2700 99.01136779785156\n",
      "2800 97.8166732788086\n",
      "2900 96.29280853271484\n"
     ]
    },
    {
     "data": {
      "image/png": "[encoded data removed]",
      "text/plain": [
       "<Figure size 480x400 with 1 Axes>"
      ]
     },
     "metadata": {
      "needs_background": "light"
     },
     "output_type": "display_data"
    }
   ],
   "source": [
    "projections, losses = obj1.nn_projection(plot_loss = True)"
   ]
  },
  {
   "cell_type": "code",
   "execution_count": 14,
   "metadata": {},
   "outputs": [
    {
     "name": "stdout",
     "output_type": "stream",
     "text": [
      "manifold aligned pairs: 9000000\n"
     ]
    }
   ],
   "source": [
    "#manifold alignment pair distances\r\n",
    "result_nn = obj1.pair_distance(projections) #dict\r\n",
    "print('manifold aligned pairs:', len(result_nn))\r\n"
   ]
  },
  {
   "cell_type": "code",
   "execution_count": 15,
   "metadata": {},
   "outputs": [
    {
     "name": "stdout",
     "output_type": "stream",
     "text": [
      "(3000, 3000)\n"
     ]
    },
    {
     "data": {
      "text/html": [
       "<div>\n",
       "<style scoped>\n",
       "    .dataframe tbody tr th:only-of-type {\n",
       "        vertical-align: middle;\n",
       "    }\n",
       "\n",
       "    .dataframe tbody tr th {\n",
       "        vertical-align: top;\n",
       "    }\n",
       "\n",
       "    .dataframe thead th {\n",
       "        text-align: right;\n",
       "    }\n",
       "</style>\n",
       "<table border=\"1\" class=\"dataframe\">\n",
       "  <thead>\n",
       "    <tr style=\"text-align: right;\">\n",
       "      <th></th>\n",
       "      <th>idx</th>\n",
       "      <th>dist</th>\n",
       "      <th>rank</th>\n",
       "      <th>correspondence_score</th>\n",
       "    </tr>\n",
       "  </thead>\n",
       "  <tbody>\n",
       "    <tr>\n",
       "      <th>DCN_HLA-DPB1</th>\n",
       "      <td>(2992, 2983)</td>\n",
       "      <td>0.000439</td>\n",
       "      <td>0</td>\n",
       "      <td>113545.711532</td>\n",
       "    </tr>\n",
       "    <tr>\n",
       "      <th>DCN_HLA-DPA1</th>\n",
       "      <td>(2992, 2987)</td>\n",
       "      <td>0.000444</td>\n",
       "      <td>1</td>\n",
       "      <td>114503.584525</td>\n",
       "    </tr>\n",
       "    <tr>\n",
       "      <th>DCN_CD74</th>\n",
       "      <td>(2992, 2991)</td>\n",
       "      <td>0.000457</td>\n",
       "      <td>2</td>\n",
       "      <td>190687.325452</td>\n",
       "    </tr>\n",
       "    <tr>\n",
       "      <th>COL6A3_HLA-DPB1</th>\n",
       "      <td>(2819, 2983)</td>\n",
       "      <td>0.000460</td>\n",
       "      <td>3</td>\n",
       "      <td>99799.596712</td>\n",
       "    </tr>\n",
       "    <tr>\n",
       "      <th>COL6A3_HLA-DPA1</th>\n",
       "      <td>(2819, 2987)</td>\n",
       "      <td>0.000466</td>\n",
       "      <td>4</td>\n",
       "      <td>100641.507315</td>\n",
       "    </tr>\n",
       "  </tbody>\n",
       "</table>\n",
       "</div>"
      ],
      "text/plain": [
       "                          idx      dist  rank  correspondence_score\n",
       "DCN_HLA-DPB1     (2992, 2983)  0.000439     0         113545.711532\n",
       "DCN_HLA-DPA1     (2992, 2987)  0.000444     1         114503.584525\n",
       "DCN_CD74         (2992, 2991)  0.000457     2         190687.325452\n",
       "COL6A3_HLA-DPB1  (2819, 2983)  0.000460     3          99799.596712\n",
       "COL6A3_HLA-DPA1  (2819, 2987)  0.000466     4         100641.507315"
      ]
     },
     "execution_count": 15,
     "metadata": {},
     "output_type": "execute_result"
    }
   ],
   "source": [
    "#output df\r\n",
    "df_nn = pd.DataFrame.from_dict(result_nn, orient='index', columns=['idx', 'dist']).sort_values(by=['dist'])\r\n",
    "df_nn['rank'] = np.arange(len(df_nn))\r\n",
    "\r\n",
    "w12 = obj1._w[:obj1._net_A.shape[0], obj1._net_A.shape[1]:]\r\n",
    "print(w12.shape)\r\n",
    "correspondence_score = [w12[idx] for idx in np.asarray(df_nn['idx'])]\r\n",
    "#np.count_nonzero(np.asarray(correspondence_score))\r\n",
    "df_nn['correspondence_score'] = correspondence_score\r\n",
    "df_nn.head()"
   ]
  },
  {
   "cell_type": "code",
   "execution_count": 16,
   "metadata": {},
   "outputs": [
    {
     "name": "stdout",
     "output_type": "stream",
     "text": [
      "[[ 1.         -0.17686447]\n",
      " [-0.17686447  1.        ]]\n"
     ]
    },
    {
     "data": {
      "image/png": "[encoded data removed]",
      "text/plain": [
       "<Figure size 432x288 with 1 Axes>"
      ]
     },
     "metadata": {
      "needs_background": "light"
     },
     "output_type": "display_data"
    }
   ],
   "source": [
    "#check corr\r\n",
    "select = df_nn['correspondence_score'] != 0\r\n",
    "nX = np.asarray(df_nn['correspondence_score'][select])\r\n",
    "nY = np.asarray(df_nn['dist'][select])\r\n",
    "r = np.corrcoef(nX, nY)\r\n",
    "print(r)\r\n",
    "\r\n",
    "plt.scatter(nX, nY, s=3)\r\n",
    "plt.xlim(0, 100)\r\n",
    "plt.show()"
   ]
  },
  {
   "cell_type": "code",
   "execution_count": 17,
   "metadata": {},
   "outputs": [
    {
     "name": "stdout",
     "output_type": "stream",
     "text": [
      "CCL2_CXCR4 idx, dist, rank, score, rank%: (2820, 2548) 0.0006897841230966151 146 7621.785189064844 0.00162%\n",
      "CXCL12_CXCR4 idx, dist, rank, score, rank%: (2919, 2548) 0.0006837776745669544 142 8023.881675573323 0.00158%\n",
      "CCL19_CXCR4 idx, dist, rank, score, rank%: (2993, 2548) 0.0005793552845716476 50 14435.245117772507 0.00056%\n",
      "CXCL14_CXCR4 idx, dist, rank, score, rank%: (2994, 2548) 0.0005849227891303599 53 14198.10450116181 0.00059%\n",
      "CCL2_CCR7 idx, dist, rank, score, rank%: (2820, 2138) 0.0006584888324141502 119 10891.684103334594 0.00132%\n",
      "CXCL12_CCR7 idx, dist, rank, score, rank%: (2919, 2138) 0.0006521482719108462 115 11466.288057850983 0.00128%\n",
      "CCL19_CCR7 idx, dist, rank, score, rank%: (2993, 2138) 0.0005477624945342541 30 20628.25517603859 0.00033%\n",
      "CXCL14_CCR7 idx, dist, rank, score, rank%: (2994, 2138) 0.000553401536308229 35 20289.376472411597 0.00039%\n",
      "\n",
      "Total enriched: 8\n"
     ]
    }
   ],
   "source": [
    "#distance rank of L-R candidates\r\n",
    "i = 0 \r\n",
    "for p in candidates:\r\n",
    "    if df_nn.loc[p].values[2] < 200: #rank < ?\r\n",
    "        i += 1\r\n",
    "        print(p, \"idx, dist, rank, score, rank%:\", ' '.join(map(str, df_nn.loc[p].values)), f'{round(100* df_nn.loc[p].values[2]/len(df_nn), 5)}%')\r\n",
    "\r\n",
    "print('\\nTotal enriched:', i)"
   ]
  }
 ],
 "metadata": {
  "interpreter": {
   "hash": "514d33539f695348636c0e2c99b007f53126e6287d73c40e4d4d0de0e565564b"
  },
  "kernelspec": {
   "display_name": "Python 3.9.4 64-bit ('py': conda)",
   "name": "python3"
  },
  "language_info": {
   "codemirror_mode": {
    "name": "ipython",
    "version": 3
   },
   "file_extension": ".py",
   "mimetype": "text/x-python",
   "name": "python",
   "nbconvert_exporter": "python",
   "pygments_lexer": "ipython3",
   "version": "3.9.4"
  },
  "orig_nbformat": 4
 },
 "nbformat": 4,
 "nbformat_minor": 2
}