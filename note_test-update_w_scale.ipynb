{
 "cells": [
  {
   "cell_type": "code",
   "execution_count": 1,
   "metadata": {},
   "outputs": [],
   "source": [
    "import numpy as np\n",
    "import pandas as pd\n",
    "import matplotlib.pyplot as plt\n",
    "import scanpy as sc\n",
    "sc.settings.verbosity = 0\n",
    "#from anndata import AnnData\n",
    "import scipy\n",
    "#from numpy.linalg import svd\n",
    "\n",
    "\n",
    "import warnings\n",
    "warnings.filterwarnings(\"ignore\")\n"
   ]
  },
  {
   "cell_type": "code",
   "execution_count": 2,
   "metadata": {},
   "outputs": [],
   "source": [
    "try:\n",
    "    from sys import path as syspath\n",
    "    from os import path as ospath\n",
    "    syspath.append(ospath.join(ospath.expanduser(\"~\"), './'))\n",
    "    \n",
    "    from main import *\n",
    "except ImportError:\n",
    "    print('Module not found')"
   ]
  },
  {
   "cell_type": "code",
   "execution_count": 3,
   "metadata": {},
   "outputs": [
    {
     "data": {
      "text/plain": [
       "AnnData object with n_obs × n_vars = 5011 × 17328\n",
       "    obs: 'orig.ident', 'nCount_RNA', 'nFeature_RNA', 'patient.id', 'condition', 'labels', 'ident'\n",
       "    var: 'vst.mean', 'vst.variance', 'vst.variance.expected', 'vst.variance.standardized', 'vst.variable'"
      ]
     },
     "execution_count": 3,
     "metadata": {},
     "output_type": "execute_result"
    }
   ],
   "source": [
    "ada = sc.read_h5ad(\"data/LS.h5ad\")\n",
    "ada"
   ]
  },
  {
   "cell_type": "code",
   "execution_count": 4,
   "metadata": {},
   "outputs": [],
   "source": [
    "data = scipy.sparse.csr_matrix.toarray(ada.X)\n",
    "counts = np.asarray(np.expm1(data), dtype=int)\n",
    "ada.layers['raw'] = counts\n",
    "ada.layers['log1p'] = data"
   ]
  },
  {
   "cell_type": "code",
   "execution_count": 5,
   "metadata": {},
   "outputs": [
    {
     "data": {
      "text/plain": [
       "AnnData object with n_obs × n_vars = 5011 × 3000\n",
       "    obs: 'orig.ident', 'nCount_RNA', 'nFeature_RNA', 'patient.id', 'condition', 'labels', 'ident'\n",
       "    var: 'vst.mean', 'vst.variance', 'vst.variance.expected', 'vst.variance.standardized', 'vst.variable'\n",
       "    layers: 'raw', 'log1p'"
      ]
     },
     "execution_count": 5,
     "metadata": {},
     "output_type": "execute_result"
    }
   ],
   "source": [
    "HVG_i = np.argsort(np.asarray(ada.var['vst.variance.standardized']))[-3000:]\n",
    "ada = ada[:, HVG_i].copy()\n",
    "ada"
   ]
  },
  {
   "cell_type": "markdown",
   "metadata": {},
   "source": [
    "## create a Xct_metrics obj:"
   ]
  },
  {
   "cell_type": "code",
   "execution_count": 6,
   "metadata": {},
   "outputs": [
    {
     "data": {
      "text/plain": [
       "main.Xct_metrics"
      ]
     },
     "execution_count": 6,
     "metadata": {},
     "output_type": "execute_result"
    }
   ],
   "source": [
    "skin = Xct_metrics(ada)\n",
    "type(skin)"
   ]
  },
  {
   "cell_type": "code",
   "execution_count": 7,
   "metadata": {},
   "outputs": [
    {
     "data": {
      "text/html": [
       "<div>\n",
       "<style scoped>\n",
       "    .dataframe tbody tr th:only-of-type {\n",
       "        vertical-align: middle;\n",
       "    }\n",
       "\n",
       "    .dataframe tbody tr th {\n",
       "        vertical-align: top;\n",
       "    }\n",
       "\n",
       "    .dataframe thead th {\n",
       "        text-align: right;\n",
       "    }\n",
       "</style>\n",
       "<table border=\"1\" class=\"dataframe\">\n",
       "  <thead>\n",
       "    <tr style=\"text-align: right;\">\n",
       "      <th></th>\n",
       "      <th>ligand</th>\n",
       "      <th>receptor</th>\n",
       "    </tr>\n",
       "  </thead>\n",
       "  <tbody>\n",
       "    <tr>\n",
       "      <th>0</th>\n",
       "      <td>BDNF</td>\n",
       "      <td>TRPC1</td>\n",
       "    </tr>\n",
       "    <tr>\n",
       "      <th>1</th>\n",
       "      <td>CXCL12</td>\n",
       "      <td>GNAI2</td>\n",
       "    </tr>\n",
       "    <tr>\n",
       "      <th>2</th>\n",
       "      <td>PF4</td>\n",
       "      <td>GNAI2</td>\n",
       "    </tr>\n",
       "    <tr>\n",
       "      <th>3</th>\n",
       "      <td>EPOR</td>\n",
       "      <td>TRPC3</td>\n",
       "    </tr>\n",
       "    <tr>\n",
       "      <th>4</th>\n",
       "      <td>EPOR</td>\n",
       "      <td>EPO</td>\n",
       "    </tr>\n",
       "  </tbody>\n",
       "</table>\n",
       "</div>"
      ],
      "text/plain": [
       "   ligand receptor\n",
       "0    BDNF    TRPC1\n",
       "1  CXCL12    GNAI2\n",
       "2     PF4    GNAI2\n",
       "3    EPOR    TRPC3\n",
       "4    EPOR      EPO"
      ]
     },
     "execution_count": 7,
     "metadata": {},
     "output_type": "execute_result"
    }
   ],
   "source": [
    "skin.DB.head()"
   ]
  },
  {
   "cell_type": "code",
   "execution_count": 8,
   "metadata": {},
   "outputs": [
    {
     "data": {
      "text/plain": [
       "array([[1194,    0],\n",
       "       [2920,    0],\n",
       "       [   0,    0],\n",
       "       ...,\n",
       "       [   0,    0],\n",
       "       [   0,    0],\n",
       "       [   0,    0]])"
      ]
     },
     "execution_count": 8,
     "metadata": {},
     "output_type": "execute_result"
    }
   ],
   "source": [
    "skin._genes_index_DB"
   ]
  },
  {
   "cell_type": "code",
   "execution_count": 9,
   "metadata": {},
   "outputs": [
    {
     "data": {
      "text/plain": [
       "'BDNF'"
      ]
     },
     "execution_count": 9,
     "metadata": {},
     "output_type": "execute_result"
    }
   ],
   "source": [
    "ada.var_names[1194-1] #check"
   ]
  },
  {
   "cell_type": "code",
   "execution_count": 10,
   "metadata": {},
   "outputs": [
    {
     "name": "stdout",
     "output_type": "stream",
     "text": [
      "918 (intervals for fit) / 3000 (filtered -Inf) / 3000 (original) features for the fit\n"
     ]
    },
    {
     "data": {
      "image/png": "[encoded data removed]",
      "text/plain": [
       "<Figure size 480x400 with 1 Axes>"
      ]
     },
     "metadata": {
      "needs_background": "light"
     },
     "output_type": "display_data"
    },
    {
     "data": {
      "text/plain": [
       "array([ 0.048889  , -0.07626458, -0.02784309, ...,  0.78019458,\n",
       "        0.59314723,  0.22144539])"
      ]
     },
     "execution_count": 10,
     "metadata": {},
     "output_type": "execute_result"
    }
   ],
   "source": [
    "skin.chen2016_fit(ada, plot = True, verbose = True)"
   ]
  },
  {
   "cell_type": "markdown",
   "metadata": {},
   "source": [
    "## create a Xct obj with GRN building:"
   ]
  },
  {
   "cell_type": "code",
   "execution_count": 11,
   "metadata": {},
   "outputs": [
    {
     "name": "stdout",
     "output_type": "stream",
     "text": [
      "initiating an Xct object for interactions from Inflam. FIB (484) to Inflam. DC (81)...\n",
      "GRNs loaded...\n",
      "correspondence has been built...\n",
      "Xct object with the interaction between cells Inflam. FIB X Inflam. DC = 484 X 81\n",
      "# of genes = 3000 X 3000 \n",
      "Correspondence = 6000 X 6000\n"
     ]
    }
   ],
   "source": [
    "obj1 = Xct(ada, 'Inflam. FIB', 'Inflam. DC', build_GRN = False, pcNet_name = 'skin_net', mode = 'full', verbose = True)\n",
    "\n",
    "print(obj1)"
   ]
  },
  {
   "cell_type": "code",
   "execution_count": 12,
   "metadata": {},
   "outputs": [
    {
     "data": {
      "text/html": [
       "<div>\n",
       "<style scoped>\n",
       "    .dataframe tbody tr th:only-of-type {\n",
       "        vertical-align: middle;\n",
       "    }\n",
       "\n",
       "    .dataframe tbody tr th {\n",
       "        vertical-align: top;\n",
       "    }\n",
       "\n",
       "    .dataframe thead th {\n",
       "        text-align: right;\n",
       "    }\n",
       "</style>\n",
       "<table border=\"1\" class=\"dataframe\">\n",
       "  <thead>\n",
       "    <tr style=\"text-align: right;\">\n",
       "      <th></th>\n",
       "      <th>ligand</th>\n",
       "      <th>receptor</th>\n",
       "      <th>mean_L</th>\n",
       "      <th>mean_R</th>\n",
       "      <th>var_L</th>\n",
       "      <th>var_R</th>\n",
       "      <th>disp_L</th>\n",
       "      <th>disp_R</th>\n",
       "      <th>cv_L</th>\n",
       "      <th>cv_R</th>\n",
       "      <th>cv_res_L</th>\n",
       "      <th>cv_res_R</th>\n",
       "    </tr>\n",
       "  </thead>\n",
       "  <tbody>\n",
       "    <tr>\n",
       "      <th>21</th>\n",
       "      <td>IGF1</td>\n",
       "      <td>NTRK2</td>\n",
       "      <td>0.029522</td>\n",
       "      <td>0.024446</td>\n",
       "      <td>0.067410</td>\n",
       "      <td>0.027285</td>\n",
       "      <td>2.283343</td>\n",
       "      <td>1.116142</td>\n",
       "      <td>8.794479</td>\n",
       "      <td>6.757026</td>\n",
       "      <td>0.156436</td>\n",
       "      <td>-0.338065</td>\n",
       "    </tr>\n",
       "    <tr>\n",
       "      <th>31</th>\n",
       "      <td>AREG</td>\n",
       "      <td>NTRK2</td>\n",
       "      <td>0.003443</td>\n",
       "      <td>0.024446</td>\n",
       "      <td>0.005726</td>\n",
       "      <td>0.027285</td>\n",
       "      <td>1.663072</td>\n",
       "      <td>1.116142</td>\n",
       "      <td>21.977261</td>\n",
       "      <td>6.757026</td>\n",
       "      <td>-0.221117</td>\n",
       "      <td>-0.338065</td>\n",
       "    </tr>\n",
       "    <tr>\n",
       "      <th>36</th>\n",
       "      <td>FGF2</td>\n",
       "      <td>NTRK2</td>\n",
       "      <td>0.076530</td>\n",
       "      <td>0.024446</td>\n",
       "      <td>0.142827</td>\n",
       "      <td>0.027285</td>\n",
       "      <td>1.866276</td>\n",
       "      <td>1.116142</td>\n",
       "      <td>4.938230</td>\n",
       "      <td>6.757026</td>\n",
       "      <td>-0.075862</td>\n",
       "      <td>-0.338065</td>\n",
       "    </tr>\n",
       "    <tr>\n",
       "      <th>38</th>\n",
       "      <td>FGF7</td>\n",
       "      <td>NTRK2</td>\n",
       "      <td>0.449156</td>\n",
       "      <td>0.024446</td>\n",
       "      <td>0.835224</td>\n",
       "      <td>0.027285</td>\n",
       "      <td>1.859543</td>\n",
       "      <td>1.116142</td>\n",
       "      <td>2.034720</td>\n",
       "      <td>6.757026</td>\n",
       "      <td>0.023099</td>\n",
       "      <td>-0.338065</td>\n",
       "    </tr>\n",
       "    <tr>\n",
       "      <th>56</th>\n",
       "      <td>BDNF</td>\n",
       "      <td>NTRK2</td>\n",
       "      <td>0.009386</td>\n",
       "      <td>0.024446</td>\n",
       "      <td>0.016305</td>\n",
       "      <td>0.027285</td>\n",
       "      <td>1.737234</td>\n",
       "      <td>1.116142</td>\n",
       "      <td>13.604940</td>\n",
       "      <td>6.757026</td>\n",
       "      <td>-0.094830</td>\n",
       "      <td>-0.338065</td>\n",
       "    </tr>\n",
       "    <tr>\n",
       "      <th>...</th>\n",
       "      <td>...</td>\n",
       "      <td>...</td>\n",
       "      <td>...</td>\n",
       "      <td>...</td>\n",
       "      <td>...</td>\n",
       "      <td>...</td>\n",
       "      <td>...</td>\n",
       "      <td>...</td>\n",
       "      <td>...</td>\n",
       "      <td>...</td>\n",
       "      <td>...</td>\n",
       "      <td>...</td>\n",
       "    </tr>\n",
       "    <tr>\n",
       "      <th>7974</th>\n",
       "      <td>LAMB1</td>\n",
       "      <td>SV2B</td>\n",
       "      <td>0.192922</td>\n",
       "      <td>0.015761</td>\n",
       "      <td>0.356617</td>\n",
       "      <td>0.019873</td>\n",
       "      <td>1.848509</td>\n",
       "      <td>1.260899</td>\n",
       "      <td>3.095425</td>\n",
       "      <td>8.944272</td>\n",
       "      <td>-0.019347</td>\n",
       "      <td>-0.338065</td>\n",
       "    </tr>\n",
       "    <tr>\n",
       "      <th>7980</th>\n",
       "      <td>LAMC3</td>\n",
       "      <td>SV2B</td>\n",
       "      <td>0.343355</td>\n",
       "      <td>0.015761</td>\n",
       "      <td>0.610706</td>\n",
       "      <td>0.019873</td>\n",
       "      <td>1.778645</td>\n",
       "      <td>1.260899</td>\n",
       "      <td>2.276004</td>\n",
       "      <td>8.944272</td>\n",
       "      <td>-0.046932</td>\n",
       "      <td>-0.338065</td>\n",
       "    </tr>\n",
       "    <tr>\n",
       "      <th>7984</th>\n",
       "      <td>LAMB2</td>\n",
       "      <td>SV2B</td>\n",
       "      <td>1.027162</td>\n",
       "      <td>0.015761</td>\n",
       "      <td>1.343443</td>\n",
       "      <td>0.019873</td>\n",
       "      <td>1.307918</td>\n",
       "      <td>1.260899</td>\n",
       "      <td>1.128420</td>\n",
       "      <td>8.944272</td>\n",
       "      <td>-0.030466</td>\n",
       "      <td>-0.338065</td>\n",
       "    </tr>\n",
       "    <tr>\n",
       "      <th>8113</th>\n",
       "      <td>FSTL1</td>\n",
       "      <td>DIP2A</td>\n",
       "      <td>1.154967</td>\n",
       "      <td>0.066773</td>\n",
       "      <td>1.490066</td>\n",
       "      <td>0.086209</td>\n",
       "      <td>1.290138</td>\n",
       "      <td>1.291068</td>\n",
       "      <td>1.056898</td>\n",
       "      <td>4.397163</td>\n",
       "      <td>0.014484</td>\n",
       "      <td>-0.313400</td>\n",
       "    </tr>\n",
       "    <tr>\n",
       "      <th>8132</th>\n",
       "      <td>ACP6</td>\n",
       "      <td>HEXIM1</td>\n",
       "      <td>0.004821</td>\n",
       "      <td>0.564291</td>\n",
       "      <td>0.011224</td>\n",
       "      <td>0.851861</td>\n",
       "      <td>2.328389</td>\n",
       "      <td>1.509613</td>\n",
       "      <td>21.977261</td>\n",
       "      <td>1.635615</td>\n",
       "      <td>-0.045050</td>\n",
       "      <td>-0.012821</td>\n",
       "    </tr>\n",
       "  </tbody>\n",
       "</table>\n",
       "<p>160 rows × 12 columns</p>\n",
       "</div>"
      ],
      "text/plain": [
       "     ligand receptor    mean_L    mean_R     var_L     var_R    disp_L  \\\n",
       "21     IGF1    NTRK2  0.029522  0.024446  0.067410  0.027285  2.283343   \n",
       "31     AREG    NTRK2  0.003443  0.024446  0.005726  0.027285  1.663072   \n",
       "36     FGF2    NTRK2  0.076530  0.024446  0.142827  0.027285  1.866276   \n",
       "38     FGF7    NTRK2  0.449156  0.024446  0.835224  0.027285  1.859543   \n",
       "56     BDNF    NTRK2  0.009386  0.024446  0.016305  0.027285  1.737234   \n",
       "...     ...      ...       ...       ...       ...       ...       ...   \n",
       "7974  LAMB1     SV2B  0.192922  0.015761  0.356617  0.019873  1.848509   \n",
       "7980  LAMC3     SV2B  0.343355  0.015761  0.610706  0.019873  1.778645   \n",
       "7984  LAMB2     SV2B  1.027162  0.015761  1.343443  0.019873  1.307918   \n",
       "8113  FSTL1    DIP2A  1.154967  0.066773  1.490066  0.086209  1.290138   \n",
       "8132   ACP6   HEXIM1  0.004821  0.564291  0.011224  0.851861  2.328389   \n",
       "\n",
       "        disp_R       cv_L      cv_R  cv_res_L  cv_res_R  \n",
       "21    1.116142   8.794479  6.757026  0.156436 -0.338065  \n",
       "31    1.116142  21.977261  6.757026 -0.221117 -0.338065  \n",
       "36    1.116142   4.938230  6.757026 -0.075862 -0.338065  \n",
       "38    1.116142   2.034720  6.757026  0.023099 -0.338065  \n",
       "56    1.116142  13.604940  6.757026 -0.094830 -0.338065  \n",
       "...        ...        ...       ...       ...       ...  \n",
       "7974  1.260899   3.095425  8.944272 -0.019347 -0.338065  \n",
       "7980  1.260899   2.276004  8.944272 -0.046932 -0.338065  \n",
       "7984  1.260899   1.128420  8.944272 -0.030466 -0.338065  \n",
       "8113  1.291068   1.056898  4.397163  0.014484 -0.313400  \n",
       "8132  1.509613  21.977261  1.635615 -0.045050 -0.012821  \n",
       "\n",
       "[160 rows x 12 columns]"
      ]
     },
     "execution_count": 12,
     "metadata": {},
     "output_type": "execute_result"
    }
   ],
   "source": [
    "df1 = obj1.fill_metric()\n",
    "df1"
   ]
  },
  {
   "cell_type": "markdown",
   "metadata": {},
   "source": [
    "## permutation mode:"
   ]
  },
  {
   "cell_type": "code",
   "execution_count": 13,
   "metadata": {},
   "outputs": [],
   "source": [
    "# np.random.seed(1)\n",
    "\n",
    "# orig_score = np.asarray(obj1.score(method=1))\n",
    "# pmt_scores = scores(ada, obj1, method = 1, a = 0.8, n = 100)\n",
    "\n",
    "# enriched, pvals, counts = pmt_test(orig_score, pmt_scores)\n",
    "# #enriched, counts\n",
    "\n",
    "# df_enriched = df1.iloc[enriched, :]\n",
    "# print('Total enriched:', len(df_enriched))\n",
    "# df_enriched"
   ]
  },
  {
   "cell_type": "markdown",
   "metadata": {},
   "source": [
    "## mode 'full':"
   ]
  },
  {
   "cell_type": "code",
   "execution_count": 14,
   "metadata": {},
   "outputs": [
    {
     "data": {
      "text/plain": [
       "((3000, 3000), (3000, 3000), (6000, 6000))"
      ]
     },
     "execution_count": 14,
     "metadata": {},
     "output_type": "execute_result"
    }
   ],
   "source": [
    "obj1._net_A.shape, obj1._net_B.shape, obj1._w.shape #check"
   ]
  },
  {
   "cell_type": "code",
   "execution_count": 15,
   "metadata": {},
   "outputs": [
    {
     "data": {
      "text/plain": [
       "1.0002169791476754"
      ]
     },
     "execution_count": 15,
     "metadata": {},
     "output_type": "execute_result"
    }
   ],
   "source": [
    "w12 = obj1._w[:obj1._net_A.shape[0], obj1._net_A.shape[1]:]\n",
    "\n",
    "np.mean(w12)  "
   ]
  },
  {
   "cell_type": "code",
   "execution_count": 16,
   "metadata": {},
   "outputs": [
    {
     "name": "stdout",
     "output_type": "stream",
     "text": [
      "160\n"
     ]
    },
    {
     "data": {
      "text/plain": [
       "['IGF1_NTRK2', 'AREG_NTRK2', 'FGF2_NTRK2', 'FGF7_NTRK2', 'BDNF_NTRK2']"
      ]
     },
     "execution_count": 16,
     "metadata": {},
     "output_type": "execute_result"
    }
   ],
   "source": [
    "#selected LR pairs\n",
    "candidates = obj1._candidates(df1)\n",
    "print(len(candidates))\n",
    "candidates[:5]"
   ]
  },
  {
   "cell_type": "code",
   "execution_count": 17,
   "metadata": {},
   "outputs": [
    {
     "name": "stdout",
     "output_type": "stream",
     "text": [
      "Net(\n",
      "  (linear1): Linear(in_features=484, out_features=124, bias=True)\n",
      "  (linear2): Linear(in_features=124, out_features=31, bias=True)\n",
      "  (linear3): Linear(in_features=31, out_features=2, bias=True)\n",
      ")\n",
      "Net(\n",
      "  (linear1): Linear(in_features=81, out_features=48, bias=True)\n",
      "  (linear2): Linear(in_features=48, out_features=12, bias=True)\n",
      "  (linear3): Linear(in_features=12, out_features=2, bias=True)\n",
      ")\n",
      "0 5188.46533203125\n",
      "99 710.5101318359375\n",
      "199 632.9097900390625\n",
      "299 590.5418090820312\n",
      "399 566.173095703125\n",
      "499 553.3591918945312\n",
      "599 546.3666381835938\n",
      "699 542.36572265625\n",
      "799 539.9539184570312\n",
      "899 538.40771484375\n",
      "999 537.3521728515625\n",
      "1099 536.6038818359375\n",
      "1199 536.0637817382812\n",
      "1299 535.6533813476562\n",
      "1399 535.3528442382812\n",
      "1499 535.1118774414062\n",
      "1599 534.9122314453125\n",
      "1699 534.757080078125\n",
      "1799 534.643798828125\n",
      "1899 534.5408325195312\n",
      "1999 534.4583129882812\n",
      "2099 534.3782348632812\n",
      "2199 534.3267822265625\n",
      "2299 534.2742919921875\n",
      "2399 534.2295532226562\n",
      "2499 534.184814453125\n",
      "2599 534.15087890625\n",
      "2699 534.1307983398438\n",
      "2799 534.0985107421875\n",
      "2899 534.0799560546875\n",
      "2999 534.054931640625\n"
     ]
    },
    {
     "data": {
      "image/png": "[encoded data removed]",
      "text/plain": [
       "<Figure size 480x400 with 1 Axes>"
      ]
     },
     "metadata": {
      "needs_background": "light"
     },
     "output_type": "display_data"
    }
   ],
   "source": [
    "projections, losses = obj1.nn_projection(d = 2, n = 3000, lr = 0.001, plot_loss = True)"
   ]
  },
  {
   "cell_type": "code",
   "execution_count": 18,
   "metadata": {},
   "outputs": [],
   "source": [
    "# np.savetxt(\"./data/skin_projections_pair.csv\", projections, delimiter=\"\\t\")\n",
    "\n",
    "# projections = np.genfromtxt(\"./data/skin_projections_pair.csv\", delimiter=\"\\t\")"
   ]
  },
  {
   "cell_type": "code",
   "execution_count": 19,
   "metadata": {},
   "outputs": [
    {
     "name": "stdout",
     "output_type": "stream",
     "text": [
      "computing pair-wise distances...\n",
      "manifold aligned # of pairs: 9000000\n",
      "adding column 'rank'...\n",
      "adding column 'correspondence_score'...\n"
     ]
    },
    {
     "data": {
      "text/html": [
       "<div>\n",
       "<style scoped>\n",
       "    .dataframe tbody tr th:only-of-type {\n",
       "        vertical-align: middle;\n",
       "    }\n",
       "\n",
       "    .dataframe tbody tr th {\n",
       "        vertical-align: top;\n",
       "    }\n",
       "\n",
       "    .dataframe thead th {\n",
       "        text-align: right;\n",
       "    }\n",
       "</style>\n",
       "<table border=\"1\" class=\"dataframe\">\n",
       "  <thead>\n",
       "    <tr style=\"text-align: right;\">\n",
       "      <th></th>\n",
       "      <th>idx</th>\n",
       "      <th>dist</th>\n",
       "      <th>rank</th>\n",
       "      <th>correspondence_score</th>\n",
       "    </tr>\n",
       "  </thead>\n",
       "  <tbody>\n",
       "    <tr>\n",
       "      <th>FOS_CD1B</th>\n",
       "      <td>(2946, 2516)</td>\n",
       "      <td>0.000003</td>\n",
       "      <td>1</td>\n",
       "      <td>140.040865</td>\n",
       "    </tr>\n",
       "    <tr>\n",
       "      <th>C3_TXNIP</th>\n",
       "      <td>(2880, 744)</td>\n",
       "      <td>0.000003</td>\n",
       "      <td>2</td>\n",
       "      <td>169.704870</td>\n",
       "    </tr>\n",
       "    <tr>\n",
       "      <th>TIMP2_ZFP36</th>\n",
       "      <td>(1102, 2517)</td>\n",
       "      <td>0.000004</td>\n",
       "      <td>3</td>\n",
       "      <td>138.106644</td>\n",
       "    </tr>\n",
       "    <tr>\n",
       "      <th>COMP_DNAJB1</th>\n",
       "      <td>(2965, 2381)</td>\n",
       "      <td>0.000004</td>\n",
       "      <td>4</td>\n",
       "      <td>120.706764</td>\n",
       "    </tr>\n",
       "    <tr>\n",
       "      <th>ID2_HLA-DPA1</th>\n",
       "      <td>(2330, 2987)</td>\n",
       "      <td>0.000005</td>\n",
       "      <td>5</td>\n",
       "      <td>354.556896</td>\n",
       "    </tr>\n",
       "  </tbody>\n",
       "</table>\n",
       "</div>"
      ],
      "text/plain": [
       "                       idx      dist  rank  correspondence_score\n",
       "FOS_CD1B      (2946, 2516)  0.000003     1            140.040865\n",
       "C3_TXNIP       (2880, 744)  0.000003     2            169.704870\n",
       "TIMP2_ZFP36   (1102, 2517)  0.000004     3            138.106644\n",
       "COMP_DNAJB1   (2965, 2381)  0.000004     4            120.706764\n",
       "ID2_HLA-DPA1  (2330, 2987)  0.000005     5            354.556896"
      ]
     },
     "execution_count": 19,
     "metadata": {},
     "output_type": "execute_result"
    }
   ],
   "source": [
    "df_nn = obj1.nn_output(projections)\n",
    "df_nn.head()"
   ]
  },
  {
   "cell_type": "code",
   "execution_count": 20,
   "metadata": {},
   "outputs": [],
   "source": [
    "#df_nn_to_output = df_nn.iloc[:1000, :]\n",
    "#df_nn_to_output.to_csv('distances_nn.csv')"
   ]
  },
  {
   "cell_type": "code",
   "execution_count": 21,
   "metadata": {},
   "outputs": [
    {
     "name": "stdout",
     "output_type": "stream",
     "text": [
      "[[ 1.        -0.1452785]\n",
      " [-0.1452785  1.       ]]\n"
     ]
    },
    {
     "data": {
      "image/png": "[encoded data removed]",
      "text/plain": [
       "<Figure size 432x288 with 1 Axes>"
      ]
     },
     "metadata": {
      "needs_background": "light"
     },
     "output_type": "display_data"
    }
   ],
   "source": [
    "#check corr\n",
    "select = df_nn['correspondence_score'] != 0\n",
    "nX = np.asarray(df_nn['correspondence_score'][select])\n",
    "nY = np.asarray(df_nn['dist'][select])\n",
    "r = np.corrcoef(nX, nY)\n",
    "print(r)\n",
    "\n",
    "plt.scatter(nX, nY, s=3)\n",
    "plt.xlim(0, 100)\n",
    "plt.show()"
   ]
  },
  {
   "cell_type": "code",
   "execution_count": 22,
   "metadata": {},
   "outputs": [],
   "source": [
    "# df_nn_filtered = df_nn.loc[candidates]\n",
    "# len(df_nn_filtered)"
   ]
  },
  {
   "cell_type": "code",
   "execution_count": 23,
   "metadata": {},
   "outputs": [
    {
     "name": "stdout",
     "output_type": "stream",
     "text": [
      "manifold aligned # of L-R pairs: 160\n"
     ]
    },
    {
     "data": {
      "text/html": [
       "<div>\n",
       "<style scoped>\n",
       "    .dataframe tbody tr th:only-of-type {\n",
       "        vertical-align: middle;\n",
       "    }\n",
       "\n",
       "    .dataframe tbody tr th {\n",
       "        vertical-align: top;\n",
       "    }\n",
       "\n",
       "    .dataframe thead th {\n",
       "        text-align: right;\n",
       "    }\n",
       "</style>\n",
       "<table border=\"1\" class=\"dataframe\">\n",
       "  <thead>\n",
       "    <tr style=\"text-align: right;\">\n",
       "      <th></th>\n",
       "      <th>idx</th>\n",
       "      <th>dist</th>\n",
       "      <th>rank</th>\n",
       "      <th>correspondence_score</th>\n",
       "      <th>rank_filtered</th>\n",
       "    </tr>\n",
       "  </thead>\n",
       "  <tbody>\n",
       "    <tr>\n",
       "      <th>CCL2_CXCR4</th>\n",
       "      <td>(2820, 2548)</td>\n",
       "      <td>0.000596</td>\n",
       "      <td>7631</td>\n",
       "      <td>215.662524</td>\n",
       "      <td>1</td>\n",
       "    </tr>\n",
       "    <tr>\n",
       "      <th>CXCL12_CXCR4</th>\n",
       "      <td>(2919, 2548)</td>\n",
       "      <td>0.000635</td>\n",
       "      <td>8163</td>\n",
       "      <td>227.040061</td>\n",
       "      <td>2</td>\n",
       "    </tr>\n",
       "    <tr>\n",
       "      <th>CCL2_CCR7</th>\n",
       "      <td>(2820, 2138)</td>\n",
       "      <td>0.000762</td>\n",
       "      <td>9698</td>\n",
       "      <td>308.186078</td>\n",
       "      <td>3</td>\n",
       "    </tr>\n",
       "    <tr>\n",
       "      <th>CXCL12_CCR7</th>\n",
       "      <td>(2919, 2138)</td>\n",
       "      <td>0.000802</td>\n",
       "      <td>10212</td>\n",
       "      <td>324.444807</td>\n",
       "      <td>4</td>\n",
       "    </tr>\n",
       "    <tr>\n",
       "      <th>VCAM1_ITGB2</th>\n",
       "      <td>(1458, 491)</td>\n",
       "      <td>0.000840</td>\n",
       "      <td>10719</td>\n",
       "      <td>61.912204</td>\n",
       "      <td>5</td>\n",
       "    </tr>\n",
       "  </tbody>\n",
       "</table>\n",
       "</div>"
      ],
      "text/plain": [
       "                       idx      dist   rank  correspondence_score  \\\n",
       "CCL2_CXCR4    (2820, 2548)  0.000596   7631            215.662524   \n",
       "CXCL12_CXCR4  (2919, 2548)  0.000635   8163            227.040061   \n",
       "CCL2_CCR7     (2820, 2138)  0.000762   9698            308.186078   \n",
       "CXCL12_CCR7   (2919, 2138)  0.000802  10212            324.444807   \n",
       "VCAM1_ITGB2    (1458, 491)  0.000840  10719             61.912204   \n",
       "\n",
       "              rank_filtered  \n",
       "CCL2_CXCR4                1  \n",
       "CXCL12_CXCR4              2  \n",
       "CCL2_CCR7                 3  \n",
       "CXCL12_CCR7               4  \n",
       "VCAM1_ITGB2               5  "
      ]
     },
     "execution_count": 23,
     "metadata": {},
     "output_type": "execute_result"
    }
   ],
   "source": [
    "df_nn_filtered = obj1.filtered_nn_output(df_nn, candidates)\n",
    "df_nn_filtered.head()"
   ]
  },
  {
   "cell_type": "code",
   "execution_count": 24,
   "metadata": {},
   "outputs": [
    {
     "name": "stdout",
     "output_type": "stream",
     "text": [
      "\n",
      "Total enriched: 11 / 160\n"
     ]
    },
    {
     "data": {
      "text/html": [
       "<div>\n",
       "<style scoped>\n",
       "    .dataframe tbody tr th:only-of-type {\n",
       "        vertical-align: middle;\n",
       "    }\n",
       "\n",
       "    .dataframe tbody tr th {\n",
       "        vertical-align: top;\n",
       "    }\n",
       "\n",
       "    .dataframe thead th {\n",
       "        text-align: right;\n",
       "    }\n",
       "</style>\n",
       "<table border=\"1\" class=\"dataframe\">\n",
       "  <thead>\n",
       "    <tr style=\"text-align: right;\">\n",
       "      <th></th>\n",
       "      <th>idx</th>\n",
       "      <th>dist</th>\n",
       "      <th>rank</th>\n",
       "      <th>correspondence_score</th>\n",
       "      <th>rank_filtered</th>\n",
       "      <th>q_val</th>\n",
       "    </tr>\n",
       "  </thead>\n",
       "  <tbody>\n",
       "    <tr>\n",
       "      <th>CCL2_CXCR4</th>\n",
       "      <td>(2820, 2548)</td>\n",
       "      <td>0.000596</td>\n",
       "      <td>7631</td>\n",
       "      <td>215.662524</td>\n",
       "      <td>1</td>\n",
       "      <td>0.037913</td>\n",
       "    </tr>\n",
       "    <tr>\n",
       "      <th>CXCL12_CXCR4</th>\n",
       "      <td>(2919, 2548)</td>\n",
       "      <td>0.000635</td>\n",
       "      <td>8163</td>\n",
       "      <td>227.040061</td>\n",
       "      <td>2</td>\n",
       "      <td>0.037913</td>\n",
       "    </tr>\n",
       "    <tr>\n",
       "      <th>CCL2_CCR7</th>\n",
       "      <td>(2820, 2138)</td>\n",
       "      <td>0.000762</td>\n",
       "      <td>9698</td>\n",
       "      <td>308.186078</td>\n",
       "      <td>3</td>\n",
       "      <td>0.037913</td>\n",
       "    </tr>\n",
       "    <tr>\n",
       "      <th>CXCL12_CCR7</th>\n",
       "      <td>(2919, 2138)</td>\n",
       "      <td>0.000802</td>\n",
       "      <td>10212</td>\n",
       "      <td>324.444807</td>\n",
       "      <td>4</td>\n",
       "      <td>0.037913</td>\n",
       "    </tr>\n",
       "    <tr>\n",
       "      <th>VCAM1_ITGB2</th>\n",
       "      <td>(1458, 491)</td>\n",
       "      <td>0.000840</td>\n",
       "      <td>10719</td>\n",
       "      <td>61.912204</td>\n",
       "      <td>5</td>\n",
       "      <td>0.037913</td>\n",
       "    </tr>\n",
       "    <tr>\n",
       "      <th>CXCL14_CXCR4</th>\n",
       "      <td>(2994, 2548)</td>\n",
       "      <td>0.000903</td>\n",
       "      <td>11480</td>\n",
       "      <td>401.743027</td>\n",
       "      <td>6</td>\n",
       "      <td>0.037913</td>\n",
       "    </tr>\n",
       "    <tr>\n",
       "      <th>CCL19_CXCR4</th>\n",
       "      <td>(2993, 2548)</td>\n",
       "      <td>0.000921</td>\n",
       "      <td>11667</td>\n",
       "      <td>408.453049</td>\n",
       "      <td>7</td>\n",
       "      <td>0.037913</td>\n",
       "    </tr>\n",
       "    <tr>\n",
       "      <th>CXCL14_CCR7</th>\n",
       "      <td>(2994, 2138)</td>\n",
       "      <td>0.001068</td>\n",
       "      <td>13452</td>\n",
       "      <td>574.098854</td>\n",
       "      <td>8</td>\n",
       "      <td>0.041019</td>\n",
       "    </tr>\n",
       "    <tr>\n",
       "      <th>CCL19_CCR7</th>\n",
       "      <td>(2993, 2138)</td>\n",
       "      <td>0.001086</td>\n",
       "      <td>13668</td>\n",
       "      <td>583.687610</td>\n",
       "      <td>9</td>\n",
       "      <td>0.041019</td>\n",
       "    </tr>\n",
       "    <tr>\n",
       "      <th>CXCL1_CCR7</th>\n",
       "      <td>(2596, 2138)</td>\n",
       "      <td>0.001150</td>\n",
       "      <td>14441</td>\n",
       "      <td>70.730357</td>\n",
       "      <td>10</td>\n",
       "      <td>0.041348</td>\n",
       "    </tr>\n",
       "    <tr>\n",
       "      <th>CXCL1_CXCR4</th>\n",
       "      <td>(2596, 2548)</td>\n",
       "      <td>0.001316</td>\n",
       "      <td>16459</td>\n",
       "      <td>49.495705</td>\n",
       "      <td>11</td>\n",
       "      <td>0.049204</td>\n",
       "    </tr>\n",
       "  </tbody>\n",
       "</table>\n",
       "</div>"
      ],
      "text/plain": [
       "                       idx      dist   rank  correspondence_score  \\\n",
       "CCL2_CXCR4    (2820, 2548)  0.000596   7631            215.662524   \n",
       "CXCL12_CXCR4  (2919, 2548)  0.000635   8163            227.040061   \n",
       "CCL2_CCR7     (2820, 2138)  0.000762   9698            308.186078   \n",
       "CXCL12_CCR7   (2919, 2138)  0.000802  10212            324.444807   \n",
       "VCAM1_ITGB2    (1458, 491)  0.000840  10719             61.912204   \n",
       "CXCL14_CXCR4  (2994, 2548)  0.000903  11480            401.743027   \n",
       "CCL19_CXCR4   (2993, 2548)  0.000921  11667            408.453049   \n",
       "CXCL14_CCR7   (2994, 2138)  0.001068  13452            574.098854   \n",
       "CCL19_CCR7    (2993, 2138)  0.001086  13668            583.687610   \n",
       "CXCL1_CCR7    (2596, 2138)  0.001150  14441             70.730357   \n",
       "CXCL1_CXCR4   (2596, 2548)  0.001316  16459             49.495705   \n",
       "\n",
       "              rank_filtered     q_val  \n",
       "CCL2_CXCR4                1  0.037913  \n",
       "CXCL12_CXCR4              2  0.037913  \n",
       "CCL2_CCR7                 3  0.037913  \n",
       "CXCL12_CCR7               4  0.037913  \n",
       "VCAM1_ITGB2               5  0.037913  \n",
       "CXCL14_CXCR4              6  0.037913  \n",
       "CCL19_CXCR4               7  0.037913  \n",
       "CXCL14_CCR7               8  0.041019  \n",
       "CCL19_CCR7                9  0.041019  \n",
       "CXCL1_CCR7               10  0.041348  \n",
       "CXCL1_CXCR4              11  0.049204  "
      ]
     },
     "execution_count": 24,
     "metadata": {},
     "output_type": "execute_result"
    }
   ],
   "source": [
    "df_enriched = obj1.chi2_test(df_nn_filtered, df = 2, pval = 0.05, FDR=True)\n",
    "df_enriched"
   ]
  },
  {
   "cell_type": "code",
   "execution_count": 25,
   "metadata": {},
   "outputs": [
    {
     "data": {
      "text/plain": [
       "idx                     (2993, 2138)\n",
       "dist                        0.001086\n",
       "rank                           13668\n",
       "correspondence_score       583.68761\n",
       "rank_filtered                      9\n",
       "p_val                       0.041019\n",
       "Name: CCL19_CCR7, dtype: object"
      ]
     },
     "execution_count": 25,
     "metadata": {},
     "output_type": "execute_result"
    }
   ],
   "source": [
    "df_nn_filtered.loc['CCL19_CCR7']"
   ]
  },
  {
   "cell_type": "code",
   "execution_count": 26,
   "metadata": {},
   "outputs": [],
   "source": [
    "# i = 0 \n",
    "# for p in candidates:\n",
    "#     if df_nn.loc[p].values[2] < 200: #rank < ?\n",
    "#         i += 1\n",
    "#         print(p, \"idx, dist, rank, score, rank%:\", ' '.join(map(str, df_nn.loc[p].values)), f'{round(100* df_nn.loc[p].values[2]/len(df_nn), 5)}%')\n",
    "\n",
    "# print('\\nTotal enriched:', i)"
   ]
  },
  {
   "cell_type": "code",
   "execution_count": null,
   "metadata": {},
   "outputs": [],
   "source": []
  },
  {
   "cell_type": "markdown",
   "metadata": {},
   "source": [
    "## mode 'comb':"
   ]
  },
  {
   "cell_type": "code",
   "execution_count": 27,
   "metadata": {},
   "outputs": [
    {
     "name": "stdout",
     "output_type": "stream",
     "text": [
      "initiating an Xct object for interactions from Inflam. FIB (484) to Inflam. DC (81)...\n",
      "GRNs loaded...\n",
      "correspondence has been built...\n"
     ]
    }
   ],
   "source": [
    "obj2 = Xct(ada, 'Inflam. FIB', 'Inflam. DC', build_GRN = False, pcNet_name = 'skin_net', mode = 'comb', verbose = True)"
   ]
  },
  {
   "cell_type": "code",
   "execution_count": 28,
   "metadata": {},
   "outputs": [
    {
     "data": {
      "text/plain": [
       "0.028301679063587458"
      ]
     },
     "execution_count": 28,
     "metadata": {},
     "output_type": "execute_result"
    }
   ],
   "source": [
    "w12 = obj2._w[:obj2._net_A.shape[0], obj2._net_A.shape[1]:]\n",
    "\n",
    "np.mean(w12)  "
   ]
  },
  {
   "cell_type": "code",
   "execution_count": 29,
   "metadata": {},
   "outputs": [
    {
     "name": "stdout",
     "output_type": "stream",
     "text": [
      "Net(\n",
      "  (linear1): Linear(in_features=484, out_features=124, bias=True)\n",
      "  (linear2): Linear(in_features=124, out_features=31, bias=True)\n",
      "  (linear3): Linear(in_features=31, out_features=2, bias=True)\n",
      ")\n",
      "Net(\n",
      "  (linear1): Linear(in_features=81, out_features=48, bias=True)\n",
      "  (linear2): Linear(in_features=48, out_features=12, bias=True)\n",
      "  (linear3): Linear(in_features=12, out_features=2, bias=True)\n",
      ")\n",
      "0 138.69192504882812\n",
      "99 36.89339828491211\n",
      "199 32.22517395019531\n",
      "299 28.70789337158203\n",
      "399 28.078144073486328\n",
      "499 27.464431762695312\n",
      "599 27.261573791503906\n",
      "699 26.795333862304688\n",
      "799 26.718448638916016\n",
      "899 26.842872619628906\n",
      "999 26.464521408081055\n"
     ]
    },
    {
     "data": {
      "image/png": "[encoded data removed]",
      "text/plain": [
       "<Figure size 480x400 with 1 Axes>"
      ]
     },
     "metadata": {
      "needs_background": "light"
     },
     "output_type": "display_data"
    }
   ],
   "source": [
    "projections2, losses2 = obj2.nn_projection(n = 1000, plot_loss = True)"
   ]
  },
  {
   "cell_type": "code",
   "execution_count": 30,
   "metadata": {},
   "outputs": [],
   "source": [
    "# np.savetxt(\"./data/skin_projections_comb.csv\", projections2, delimiter=\"\\t\")\n",
    "\n",
    "# projections2 = np.genfromtxt(\"./data/skin_projections_comb.csv\", delimiter=\"\\t\")"
   ]
  },
  {
   "cell_type": "code",
   "execution_count": 31,
   "metadata": {},
   "outputs": [
    {
     "name": "stdout",
     "output_type": "stream",
     "text": [
      "computing pair-wise distances...\n",
      "manifold aligned # of pairs: 9000000\n",
      "adding column 'rank'...\n",
      "adding column 'correspondence_score'...\n"
     ]
    },
    {
     "data": {
      "text/html": [
       "<div>\n",
       "<style scoped>\n",
       "    .dataframe tbody tr th:only-of-type {\n",
       "        vertical-align: middle;\n",
       "    }\n",
       "\n",
       "    .dataframe tbody tr th {\n",
       "        vertical-align: top;\n",
       "    }\n",
       "\n",
       "    .dataframe thead th {\n",
       "        text-align: right;\n",
       "    }\n",
       "</style>\n",
       "<table border=\"1\" class=\"dataframe\">\n",
       "  <thead>\n",
       "    <tr style=\"text-align: right;\">\n",
       "      <th></th>\n",
       "      <th>idx</th>\n",
       "      <th>dist</th>\n",
       "      <th>rank</th>\n",
       "      <th>correspondence_score</th>\n",
       "    </tr>\n",
       "  </thead>\n",
       "  <tbody>\n",
       "    <tr>\n",
       "      <th>APOE_HLA-DPB1</th>\n",
       "      <td>(2975, 2983)</td>\n",
       "      <td>0.000027</td>\n",
       "      <td>1</td>\n",
       "      <td>1209.188602</td>\n",
       "    </tr>\n",
       "    <tr>\n",
       "      <th>COL6A6_CD74</th>\n",
       "      <td>(2673, 2991)</td>\n",
       "      <td>0.000036</td>\n",
       "      <td>2</td>\n",
       "      <td>1659.038905</td>\n",
       "    </tr>\n",
       "    <tr>\n",
       "      <th>CXCL12_HLA-DPA1</th>\n",
       "      <td>(2919, 2987)</td>\n",
       "      <td>0.000067</td>\n",
       "      <td>3</td>\n",
       "      <td>1170.936472</td>\n",
       "    </tr>\n",
       "    <tr>\n",
       "      <th>CXCL12_HLA-DPB1</th>\n",
       "      <td>(2919, 2983)</td>\n",
       "      <td>0.000078</td>\n",
       "      <td>4</td>\n",
       "      <td>1161.141072</td>\n",
       "    </tr>\n",
       "    <tr>\n",
       "      <th>APOE_HLA-DPA1</th>\n",
       "      <td>(2975, 2987)</td>\n",
       "      <td>0.000085</td>\n",
       "      <td>5</td>\n",
       "      <td>1219.389332</td>\n",
       "    </tr>\n",
       "  </tbody>\n",
       "</table>\n",
       "</div>"
      ],
      "text/plain": [
       "                          idx      dist  rank  correspondence_score\n",
       "APOE_HLA-DPB1    (2975, 2983)  0.000027     1           1209.188602\n",
       "COL6A6_CD74      (2673, 2991)  0.000036     2           1659.038905\n",
       "CXCL12_HLA-DPA1  (2919, 2987)  0.000067     3           1170.936472\n",
       "CXCL12_HLA-DPB1  (2919, 2983)  0.000078     4           1161.141072\n",
       "APOE_HLA-DPA1    (2975, 2987)  0.000085     5           1219.389332"
      ]
     },
     "execution_count": 31,
     "metadata": {},
     "output_type": "execute_result"
    }
   ],
   "source": [
    "df_nn2 = obj2.nn_output(projections2)\n",
    "df_nn2.head()"
   ]
  },
  {
   "cell_type": "code",
   "execution_count": 32,
   "metadata": {},
   "outputs": [
    {
     "name": "stdout",
     "output_type": "stream",
     "text": [
      "[[ 1.         -0.29357968]\n",
      " [-0.29357968  1.        ]]\n"
     ]
    },
    {
     "data": {
      "image/png": "[encoded data removed]",
      "text/plain": [
       "<Figure size 432x288 with 1 Axes>"
      ]
     },
     "metadata": {
      "needs_background": "light"
     },
     "output_type": "display_data"
    }
   ],
   "source": [
    "#check corr\n",
    "select = df_nn2['correspondence_score'] != 0\n",
    "nX = np.asarray(df_nn2['correspondence_score'][select])\n",
    "nY = np.asarray(df_nn2['dist'][select])\n",
    "r = np.corrcoef(nX, nY)\n",
    "print(r)\n",
    "\n",
    "plt.scatter(nX, nY, s=3)\n",
    "plt.xlim(0, 100)\n",
    "plt.show()"
   ]
  },
  {
   "cell_type": "code",
   "execution_count": 33,
   "metadata": {},
   "outputs": [],
   "source": [
    "#df_nn_to_output2 = df_nn2.iloc[:1000, :]\n",
    "#df_nn_to_output2.to_csv('distances_nn2.csv')"
   ]
  },
  {
   "cell_type": "code",
   "execution_count": 34,
   "metadata": {},
   "outputs": [
    {
     "name": "stdout",
     "output_type": "stream",
     "text": [
      "manifold aligned # of L-R pairs: 160\n"
     ]
    },
    {
     "data": {
      "text/html": [
       "<div>\n",
       "<style scoped>\n",
       "    .dataframe tbody tr th:only-of-type {\n",
       "        vertical-align: middle;\n",
       "    }\n",
       "\n",
       "    .dataframe tbody tr th {\n",
       "        vertical-align: top;\n",
       "    }\n",
       "\n",
       "    .dataframe thead th {\n",
       "        text-align: right;\n",
       "    }\n",
       "</style>\n",
       "<table border=\"1\" class=\"dataframe\">\n",
       "  <thead>\n",
       "    <tr style=\"text-align: right;\">\n",
       "      <th></th>\n",
       "      <th>idx</th>\n",
       "      <th>dist</th>\n",
       "      <th>rank</th>\n",
       "      <th>correspondence_score</th>\n",
       "      <th>rank_filtered</th>\n",
       "    </tr>\n",
       "  </thead>\n",
       "  <tbody>\n",
       "    <tr>\n",
       "      <th>CCL19_CCR7</th>\n",
       "      <td>(2993, 2138)</td>\n",
       "      <td>0.001390</td>\n",
       "      <td>69</td>\n",
       "      <td>583.687610</td>\n",
       "      <td>1</td>\n",
       "    </tr>\n",
       "    <tr>\n",
       "      <th>CXCL14_CCR7</th>\n",
       "      <td>(2994, 2138)</td>\n",
       "      <td>0.001416</td>\n",
       "      <td>71</td>\n",
       "      <td>574.098854</td>\n",
       "      <td>2</td>\n",
       "    </tr>\n",
       "    <tr>\n",
       "      <th>CCL19_CXCR4</th>\n",
       "      <td>(2993, 2548)</td>\n",
       "      <td>0.002477</td>\n",
       "      <td>109</td>\n",
       "      <td>408.453049</td>\n",
       "      <td>3</td>\n",
       "    </tr>\n",
       "    <tr>\n",
       "      <th>CXCL14_CXCR4</th>\n",
       "      <td>(2994, 2548)</td>\n",
       "      <td>0.002503</td>\n",
       "      <td>110</td>\n",
       "      <td>401.743027</td>\n",
       "      <td>4</td>\n",
       "    </tr>\n",
       "    <tr>\n",
       "      <th>CXCL12_CCR7</th>\n",
       "      <td>(2919, 2138)</td>\n",
       "      <td>0.002641</td>\n",
       "      <td>114</td>\n",
       "      <td>324.444807</td>\n",
       "      <td>5</td>\n",
       "    </tr>\n",
       "  </tbody>\n",
       "</table>\n",
       "</div>"
      ],
      "text/plain": [
       "                       idx      dist  rank  correspondence_score  \\\n",
       "CCL19_CCR7    (2993, 2138)  0.001390    69            583.687610   \n",
       "CXCL14_CCR7   (2994, 2138)  0.001416    71            574.098854   \n",
       "CCL19_CXCR4   (2993, 2548)  0.002477   109            408.453049   \n",
       "CXCL14_CXCR4  (2994, 2548)  0.002503   110            401.743027   \n",
       "CXCL12_CCR7   (2919, 2138)  0.002641   114            324.444807   \n",
       "\n",
       "              rank_filtered  \n",
       "CCL19_CCR7                1  \n",
       "CXCL14_CCR7               2  \n",
       "CCL19_CXCR4               3  \n",
       "CXCL14_CXCR4              4  \n",
       "CXCL12_CCR7               5  "
      ]
     },
     "execution_count": 34,
     "metadata": {},
     "output_type": "execute_result"
    }
   ],
   "source": [
    "df_nn_filtered2 = obj2.filtered_nn_output(df_nn2, candidates)\n",
    "df_nn_filtered2.head()"
   ]
  },
  {
   "cell_type": "code",
   "execution_count": 35,
   "metadata": {},
   "outputs": [
    {
     "name": "stdout",
     "output_type": "stream",
     "text": [
      "\n",
      "Total enriched: 8 / 160\n"
     ]
    },
    {
     "data": {
      "text/html": [
       "<div>\n",
       "<style scoped>\n",
       "    .dataframe tbody tr th:only-of-type {\n",
       "        vertical-align: middle;\n",
       "    }\n",
       "\n",
       "    .dataframe tbody tr th {\n",
       "        vertical-align: top;\n",
       "    }\n",
       "\n",
       "    .dataframe thead th {\n",
       "        text-align: right;\n",
       "    }\n",
       "</style>\n",
       "<table border=\"1\" class=\"dataframe\">\n",
       "  <thead>\n",
       "    <tr style=\"text-align: right;\">\n",
       "      <th></th>\n",
       "      <th>idx</th>\n",
       "      <th>dist</th>\n",
       "      <th>rank</th>\n",
       "      <th>correspondence_score</th>\n",
       "      <th>rank_filtered</th>\n",
       "      <th>p_val</th>\n",
       "    </tr>\n",
       "  </thead>\n",
       "  <tbody>\n",
       "    <tr>\n",
       "      <th>CCL19_CCR7</th>\n",
       "      <td>(2993, 2138)</td>\n",
       "      <td>0.001390</td>\n",
       "      <td>69</td>\n",
       "      <td>583.687610</td>\n",
       "      <td>1</td>\n",
       "      <td>0.002513</td>\n",
       "    </tr>\n",
       "    <tr>\n",
       "      <th>CXCL14_CCR7</th>\n",
       "      <td>(2994, 2138)</td>\n",
       "      <td>0.001416</td>\n",
       "      <td>71</td>\n",
       "      <td>574.098854</td>\n",
       "      <td>2</td>\n",
       "      <td>0.002606</td>\n",
       "    </tr>\n",
       "    <tr>\n",
       "      <th>CCL19_CXCR4</th>\n",
       "      <td>(2993, 2548)</td>\n",
       "      <td>0.002477</td>\n",
       "      <td>109</td>\n",
       "      <td>408.453049</td>\n",
       "      <td>3</td>\n",
       "      <td>0.007957</td>\n",
       "    </tr>\n",
       "    <tr>\n",
       "      <th>CXCL14_CXCR4</th>\n",
       "      <td>(2994, 2548)</td>\n",
       "      <td>0.002503</td>\n",
       "      <td>110</td>\n",
       "      <td>401.743027</td>\n",
       "      <td>4</td>\n",
       "      <td>0.008121</td>\n",
       "    </tr>\n",
       "    <tr>\n",
       "      <th>CXCL12_CCR7</th>\n",
       "      <td>(2919, 2138)</td>\n",
       "      <td>0.002641</td>\n",
       "      <td>114</td>\n",
       "      <td>324.444807</td>\n",
       "      <td>5</td>\n",
       "      <td>0.009037</td>\n",
       "    </tr>\n",
       "    <tr>\n",
       "      <th>CCL2_CCR7</th>\n",
       "      <td>(2820, 2138)</td>\n",
       "      <td>0.002760</td>\n",
       "      <td>119</td>\n",
       "      <td>308.186078</td>\n",
       "      <td>6</td>\n",
       "      <td>0.009865</td>\n",
       "    </tr>\n",
       "    <tr>\n",
       "      <th>CXCL12_CXCR4</th>\n",
       "      <td>(2919, 2548)</td>\n",
       "      <td>0.003727</td>\n",
       "      <td>153</td>\n",
       "      <td>227.040061</td>\n",
       "      <td>7</td>\n",
       "      <td>0.017924</td>\n",
       "    </tr>\n",
       "    <tr>\n",
       "      <th>CCL2_CXCR4</th>\n",
       "      <td>(2820, 2548)</td>\n",
       "      <td>0.003846</td>\n",
       "      <td>155</td>\n",
       "      <td>215.662524</td>\n",
       "      <td>8</td>\n",
       "      <td>0.019078</td>\n",
       "    </tr>\n",
       "  </tbody>\n",
       "</table>\n",
       "</div>"
      ],
      "text/plain": [
       "                       idx      dist  rank  correspondence_score  \\\n",
       "CCL19_CCR7    (2993, 2138)  0.001390    69            583.687610   \n",
       "CXCL14_CCR7   (2994, 2138)  0.001416    71            574.098854   \n",
       "CCL19_CXCR4   (2993, 2548)  0.002477   109            408.453049   \n",
       "CXCL14_CXCR4  (2994, 2548)  0.002503   110            401.743027   \n",
       "CXCL12_CCR7   (2919, 2138)  0.002641   114            324.444807   \n",
       "CCL2_CCR7     (2820, 2138)  0.002760   119            308.186078   \n",
       "CXCL12_CXCR4  (2919, 2548)  0.003727   153            227.040061   \n",
       "CCL2_CXCR4    (2820, 2548)  0.003846   155            215.662524   \n",
       "\n",
       "              rank_filtered     p_val  \n",
       "CCL19_CCR7                1  0.002513  \n",
       "CXCL14_CCR7               2  0.002606  \n",
       "CCL19_CXCR4               3  0.007957  \n",
       "CXCL14_CXCR4              4  0.008121  \n",
       "CXCL12_CCR7               5  0.009037  \n",
       "CCL2_CCR7                 6  0.009865  \n",
       "CXCL12_CXCR4              7  0.017924  \n",
       "CCL2_CXCR4                8  0.019078  "
      ]
     },
     "execution_count": 35,
     "metadata": {},
     "output_type": "execute_result"
    }
   ],
   "source": [
    "df_enriched2 = obj2.chi2_test(df_nn_filtered2, df = 2, pval=0.05)\n",
    "df_enriched2"
   ]
  },
  {
   "cell_type": "markdown",
   "metadata": {},
   "source": [
    "## mode pairs:"
   ]
  },
  {
   "cell_type": "code",
   "execution_count": 36,
   "metadata": {},
   "outputs": [
    {
     "name": "stdout",
     "output_type": "stream",
     "text": [
      "initiating an Xct object for interactions from Inflam. FIB (484) to Inflam. DC (81)...\n",
      "GRNs loaded...\n",
      "correspondence has been built...\n"
     ]
    }
   ],
   "source": [
    "obj3 = Xct(ada, 'Inflam. FIB', 'Inflam. DC', build_GRN = False, pcNet_name = 'skin_net', mode = 'pairs', verbose = True)"
   ]
  },
  {
   "cell_type": "code",
   "execution_count": 37,
   "metadata": {},
   "outputs": [
    {
     "data": {
      "text/plain": [
       "1.0002169791476754"
      ]
     },
     "execution_count": 37,
     "metadata": {},
     "output_type": "execute_result"
    }
   ],
   "source": [
    "w12 = obj1._w[:obj3._net_A.shape[0], obj3._net_A.shape[1]:]\n",
    "\n",
    "np.mean(w12)  "
   ]
  },
  {
   "cell_type": "code",
   "execution_count": 38,
   "metadata": {},
   "outputs": [
    {
     "name": "stdout",
     "output_type": "stream",
     "text": [
      "Net(\n",
      "  (linear1): Linear(in_features=484, out_features=124, bias=True)\n",
      "  (linear2): Linear(in_features=124, out_features=31, bias=True)\n",
      "  (linear3): Linear(in_features=31, out_features=2, bias=True)\n",
      ")\n",
      "Net(\n",
      "  (linear1): Linear(in_features=81, out_features=48, bias=True)\n",
      "  (linear2): Linear(in_features=48, out_features=12, bias=True)\n",
      "  (linear3): Linear(in_features=12, out_features=2, bias=True)\n",
      ")\n",
      "0 103.40798950195312\n",
      "99 27.000225067138672\n",
      "199 24.52691650390625\n",
      "299 20.35708236694336\n",
      "399 19.58228302001953\n",
      "499 19.44411849975586\n",
      "599 19.182485580444336\n",
      "699 19.130340576171875\n",
      "799 19.097578048706055\n",
      "899 18.91343116760254\n",
      "999 18.807632446289062\n"
     ]
    },
    {
     "data": {
      "image/png": "[encoded data removed]",
      "text/plain": [
       "<Figure size 480x400 with 1 Axes>"
      ]
     },
     "metadata": {
      "needs_background": "light"
     },
     "output_type": "display_data"
    }
   ],
   "source": [
    "projections3, losses3 = obj3.nn_projection(n = 1000, plot_loss = True)"
   ]
  },
  {
   "cell_type": "code",
   "execution_count": 39,
   "metadata": {},
   "outputs": [],
   "source": [
    "# np.savetxt(\"./data/skin_projections_all.csv\", projections3, delimiter=\"\\t\")\n",
    "\n",
    "# projections3 = np.genfromtxt(\"./data/skin_projections_all.csv\", delimiter=\"\\t\")"
   ]
  },
  {
   "cell_type": "code",
   "execution_count": 40,
   "metadata": {},
   "outputs": [
    {
     "name": "stdout",
     "output_type": "stream",
     "text": [
      "computing pair-wise distances...\n",
      "manifold aligned # of pairs: 9000000\n",
      "adding column 'rank'...\n",
      "adding column 'correspondence_score'...\n"
     ]
    },
    {
     "data": {
      "text/html": [
       "<div>\n",
       "<style scoped>\n",
       "    .dataframe tbody tr th:only-of-type {\n",
       "        vertical-align: middle;\n",
       "    }\n",
       "\n",
       "    .dataframe tbody tr th {\n",
       "        vertical-align: top;\n",
       "    }\n",
       "\n",
       "    .dataframe thead th {\n",
       "        text-align: right;\n",
       "    }\n",
       "</style>\n",
       "<table border=\"1\" class=\"dataframe\">\n",
       "  <thead>\n",
       "    <tr style=\"text-align: right;\">\n",
       "      <th></th>\n",
       "      <th>idx</th>\n",
       "      <th>dist</th>\n",
       "      <th>rank</th>\n",
       "      <th>correspondence_score</th>\n",
       "    </tr>\n",
       "  </thead>\n",
       "  <tbody>\n",
       "    <tr>\n",
       "      <th>CCL19_HLA-DPB1</th>\n",
       "      <td>(2993, 2983)</td>\n",
       "      <td>0.000029</td>\n",
       "      <td>1</td>\n",
       "      <td>2088.933595</td>\n",
       "    </tr>\n",
       "    <tr>\n",
       "      <th>POSTN_HLA-DPB1</th>\n",
       "      <td>(2977, 2983)</td>\n",
       "      <td>0.000045</td>\n",
       "      <td>2</td>\n",
       "      <td>2162.894687</td>\n",
       "    </tr>\n",
       "    <tr>\n",
       "      <th>CCL19_HLA-DPA1</th>\n",
       "      <td>(2993, 2987)</td>\n",
       "      <td>0.000046</td>\n",
       "      <td>3</td>\n",
       "      <td>2106.555864</td>\n",
       "    </tr>\n",
       "    <tr>\n",
       "      <th>CXCL14_HLA-DPA1</th>\n",
       "      <td>(2994, 2987)</td>\n",
       "      <td>0.000059</td>\n",
       "      <td>4</td>\n",
       "      <td>2071.949596</td>\n",
       "    </tr>\n",
       "    <tr>\n",
       "      <th>POSTN_HLA-DPA1</th>\n",
       "      <td>(2977, 2987)</td>\n",
       "      <td>0.000076</td>\n",
       "      <td>5</td>\n",
       "      <td>2181.140893</td>\n",
       "    </tr>\n",
       "  </tbody>\n",
       "</table>\n",
       "</div>"
      ],
      "text/plain": [
       "                          idx      dist  rank  correspondence_score\n",
       "CCL19_HLA-DPB1   (2993, 2983)  0.000029     1           2088.933595\n",
       "POSTN_HLA-DPB1   (2977, 2983)  0.000045     2           2162.894687\n",
       "CCL19_HLA-DPA1   (2993, 2987)  0.000046     3           2106.555864\n",
       "CXCL14_HLA-DPA1  (2994, 2987)  0.000059     4           2071.949596\n",
       "POSTN_HLA-DPA1   (2977, 2987)  0.000076     5           2181.140893"
      ]
     },
     "execution_count": 40,
     "metadata": {},
     "output_type": "execute_result"
    }
   ],
   "source": [
    "df_nn3 = obj3.nn_output(projections3)\n",
    "df_nn3.head()"
   ]
  },
  {
   "cell_type": "code",
   "execution_count": 41,
   "metadata": {},
   "outputs": [
    {
     "name": "stdout",
     "output_type": "stream",
     "text": [
      "[[ 1.         -0.33038736]\n",
      " [-0.33038736  1.        ]]\n"
     ]
    },
    {
     "data": {
      "image/png": "[encoded data removed]",
      "text/plain": [
       "<Figure size 432x288 with 1 Axes>"
      ]
     },
     "metadata": {
      "needs_background": "light"
     },
     "output_type": "display_data"
    }
   ],
   "source": [
    "#check corr\n",
    "select = df_nn3['correspondence_score'] != 0\n",
    "nX = np.asarray(df_nn3['correspondence_score'][select])\n",
    "nY = np.asarray(df_nn3['dist'][select])\n",
    "r = np.corrcoef(nX, nY)\n",
    "print(r)\n",
    "\n",
    "plt.scatter(nX, nY, s=3)\n",
    "plt.xlim(0, 100)\n",
    "plt.show()"
   ]
  },
  {
   "cell_type": "code",
   "execution_count": 42,
   "metadata": {},
   "outputs": [],
   "source": [
    "#df_nn_to_output3 = df_nn3.iloc[:20000, :]\n",
    "#df_nn_to_output3.to_csv('distances_nn3.csv')"
   ]
  },
  {
   "cell_type": "code",
   "execution_count": 43,
   "metadata": {},
   "outputs": [
    {
     "name": "stdout",
     "output_type": "stream",
     "text": [
      "manifold aligned # of L-R pairs: 160\n"
     ]
    },
    {
     "data": {
      "text/html": [
       "<div>\n",
       "<style scoped>\n",
       "    .dataframe tbody tr th:only-of-type {\n",
       "        vertical-align: middle;\n",
       "    }\n",
       "\n",
       "    .dataframe tbody tr th {\n",
       "        vertical-align: top;\n",
       "    }\n",
       "\n",
       "    .dataframe thead th {\n",
       "        text-align: right;\n",
       "    }\n",
       "</style>\n",
       "<table border=\"1\" class=\"dataframe\">\n",
       "  <thead>\n",
       "    <tr style=\"text-align: right;\">\n",
       "      <th></th>\n",
       "      <th>idx</th>\n",
       "      <th>dist</th>\n",
       "      <th>rank</th>\n",
       "      <th>correspondence_score</th>\n",
       "      <th>rank_filtered</th>\n",
       "    </tr>\n",
       "  </thead>\n",
       "  <tbody>\n",
       "    <tr>\n",
       "      <th>CCL19_CCR7</th>\n",
       "      <td>(2993, 2138)</td>\n",
       "      <td>0.002934</td>\n",
       "      <td>74</td>\n",
       "      <td>583.687610</td>\n",
       "      <td>1</td>\n",
       "    </tr>\n",
       "    <tr>\n",
       "      <th>CXCL14_CCR7</th>\n",
       "      <td>(2994, 2138)</td>\n",
       "      <td>0.002997</td>\n",
       "      <td>75</td>\n",
       "      <td>574.098854</td>\n",
       "      <td>2</td>\n",
       "    </tr>\n",
       "    <tr>\n",
       "      <th>CCL19_CXCR4</th>\n",
       "      <td>(2993, 2548)</td>\n",
       "      <td>0.004124</td>\n",
       "      <td>95</td>\n",
       "      <td>408.453049</td>\n",
       "      <td>3</td>\n",
       "    </tr>\n",
       "    <tr>\n",
       "      <th>CXCL14_CXCR4</th>\n",
       "      <td>(2994, 2548)</td>\n",
       "      <td>0.004187</td>\n",
       "      <td>96</td>\n",
       "      <td>401.743027</td>\n",
       "      <td>4</td>\n",
       "    </tr>\n",
       "    <tr>\n",
       "      <th>CXCL12_CCR7</th>\n",
       "      <td>(2919, 2138)</td>\n",
       "      <td>0.004227</td>\n",
       "      <td>97</td>\n",
       "      <td>324.444807</td>\n",
       "      <td>5</td>\n",
       "    </tr>\n",
       "  </tbody>\n",
       "</table>\n",
       "</div>"
      ],
      "text/plain": [
       "                       idx      dist  rank  correspondence_score  \\\n",
       "CCL19_CCR7    (2993, 2138)  0.002934    74            583.687610   \n",
       "CXCL14_CCR7   (2994, 2138)  0.002997    75            574.098854   \n",
       "CCL19_CXCR4   (2993, 2548)  0.004124    95            408.453049   \n",
       "CXCL14_CXCR4  (2994, 2548)  0.004187    96            401.743027   \n",
       "CXCL12_CCR7   (2919, 2138)  0.004227    97            324.444807   \n",
       "\n",
       "              rank_filtered  \n",
       "CCL19_CCR7                1  \n",
       "CXCL14_CCR7               2  \n",
       "CCL19_CXCR4               3  \n",
       "CXCL14_CXCR4              4  \n",
       "CXCL12_CCR7               5  "
      ]
     },
     "execution_count": 43,
     "metadata": {},
     "output_type": "execute_result"
    }
   ],
   "source": [
    "df_nn_filtered3 = obj3.filtered_nn_output(df_nn3, candidates)\n",
    "df_nn_filtered3.head()"
   ]
  },
  {
   "cell_type": "code",
   "execution_count": 44,
   "metadata": {},
   "outputs": [
    {
     "name": "stdout",
     "output_type": "stream",
     "text": [
      "\n",
      "Total enriched: 8 / 160\n"
     ]
    },
    {
     "data": {
      "text/html": [
       "<div>\n",
       "<style scoped>\n",
       "    .dataframe tbody tr th:only-of-type {\n",
       "        vertical-align: middle;\n",
       "    }\n",
       "\n",
       "    .dataframe tbody tr th {\n",
       "        vertical-align: top;\n",
       "    }\n",
       "\n",
       "    .dataframe thead th {\n",
       "        text-align: right;\n",
       "    }\n",
       "</style>\n",
       "<table border=\"1\" class=\"dataframe\">\n",
       "  <thead>\n",
       "    <tr style=\"text-align: right;\">\n",
       "      <th></th>\n",
       "      <th>idx</th>\n",
       "      <th>dist</th>\n",
       "      <th>rank</th>\n",
       "      <th>correspondence_score</th>\n",
       "      <th>rank_filtered</th>\n",
       "      <th>p_val</th>\n",
       "    </tr>\n",
       "  </thead>\n",
       "  <tbody>\n",
       "    <tr>\n",
       "      <th>CCL19_CCR7</th>\n",
       "      <td>(2993, 2138)</td>\n",
       "      <td>0.002934</td>\n",
       "      <td>74</td>\n",
       "      <td>583.687610</td>\n",
       "      <td>1</td>\n",
       "      <td>0.010766</td>\n",
       "    </tr>\n",
       "    <tr>\n",
       "      <th>CXCL14_CCR7</th>\n",
       "      <td>(2994, 2138)</td>\n",
       "      <td>0.002997</td>\n",
       "      <td>75</td>\n",
       "      <td>574.098854</td>\n",
       "      <td>2</td>\n",
       "      <td>0.011226</td>\n",
       "    </tr>\n",
       "    <tr>\n",
       "      <th>CCL19_CXCR4</th>\n",
       "      <td>(2993, 2548)</td>\n",
       "      <td>0.004124</td>\n",
       "      <td>95</td>\n",
       "      <td>408.453049</td>\n",
       "      <td>3</td>\n",
       "      <td>0.021158</td>\n",
       "    </tr>\n",
       "    <tr>\n",
       "      <th>CXCL14_CXCR4</th>\n",
       "      <td>(2994, 2548)</td>\n",
       "      <td>0.004187</td>\n",
       "      <td>96</td>\n",
       "      <td>401.743027</td>\n",
       "      <td>4</td>\n",
       "      <td>0.021798</td>\n",
       "    </tr>\n",
       "    <tr>\n",
       "      <th>CXCL12_CCR7</th>\n",
       "      <td>(2919, 2138)</td>\n",
       "      <td>0.004227</td>\n",
       "      <td>97</td>\n",
       "      <td>324.444807</td>\n",
       "      <td>5</td>\n",
       "      <td>0.022215</td>\n",
       "    </tr>\n",
       "    <tr>\n",
       "      <th>CCL2_CCR7</th>\n",
       "      <td>(2820, 2138)</td>\n",
       "      <td>0.004339</td>\n",
       "      <td>99</td>\n",
       "      <td>308.186078</td>\n",
       "      <td>6</td>\n",
       "      <td>0.023393</td>\n",
       "    </tr>\n",
       "    <tr>\n",
       "      <th>CXCL12_CXCR4</th>\n",
       "      <td>(2919, 2548)</td>\n",
       "      <td>0.005418</td>\n",
       "      <td>132</td>\n",
       "      <td>227.040061</td>\n",
       "      <td>7</td>\n",
       "      <td>0.036226</td>\n",
       "    </tr>\n",
       "    <tr>\n",
       "      <th>CCL2_CXCR4</th>\n",
       "      <td>(2820, 2548)</td>\n",
       "      <td>0.005529</td>\n",
       "      <td>137</td>\n",
       "      <td>215.662524</td>\n",
       "      <td>8</td>\n",
       "      <td>0.037709</td>\n",
       "    </tr>\n",
       "  </tbody>\n",
       "</table>\n",
       "</div>"
      ],
      "text/plain": [
       "                       idx      dist  rank  correspondence_score  \\\n",
       "CCL19_CCR7    (2993, 2138)  0.002934    74            583.687610   \n",
       "CXCL14_CCR7   (2994, 2138)  0.002997    75            574.098854   \n",
       "CCL19_CXCR4   (2993, 2548)  0.004124    95            408.453049   \n",
       "CXCL14_CXCR4  (2994, 2548)  0.004187    96            401.743027   \n",
       "CXCL12_CCR7   (2919, 2138)  0.004227    97            324.444807   \n",
       "CCL2_CCR7     (2820, 2138)  0.004339    99            308.186078   \n",
       "CXCL12_CXCR4  (2919, 2548)  0.005418   132            227.040061   \n",
       "CCL2_CXCR4    (2820, 2548)  0.005529   137            215.662524   \n",
       "\n",
       "              rank_filtered     p_val  \n",
       "CCL19_CCR7                1  0.010766  \n",
       "CXCL14_CCR7               2  0.011226  \n",
       "CCL19_CXCR4               3  0.021158  \n",
       "CXCL14_CXCR4              4  0.021798  \n",
       "CXCL12_CCR7               5  0.022215  \n",
       "CCL2_CCR7                 6  0.023393  \n",
       "CXCL12_CXCR4              7  0.036226  \n",
       "CCL2_CXCR4                8  0.037709  "
      ]
     },
     "execution_count": 44,
     "metadata": {},
     "output_type": "execute_result"
    }
   ],
   "source": [
    "df_enriched3 = obj3.chi2_test(df_nn_filtered3, df = 2, pval = 0.05)\n",
    "df_enriched3"
   ]
  },
  {
   "cell_type": "code",
   "execution_count": null,
   "metadata": {},
   "outputs": [],
   "source": []
  }
 ],
 "metadata": {
  "interpreter": {
   "hash": "514d33539f695348636c0e2c99b007f53126e6287d73c40e4d4d0de0e565564b"
  },
  "kernelspec": {
   "display_name": "Python 3",
   "language": "python",
   "name": "python3"
  },
  "language_info": {
   "codemirror_mode": {
    "name": "ipython",
    "version": 3
   },
   "file_extension": ".py",
   "mimetype": "text/x-python",
   "name": "python",
   "nbconvert_exporter": "python",
   "pygments_lexer": "ipython3",
   "version": "3.9.4"
  }
 },
 "nbformat": 4,
 "nbformat_minor": 2
}
