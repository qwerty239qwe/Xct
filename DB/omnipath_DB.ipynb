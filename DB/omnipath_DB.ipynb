{
 "cells": [
  {
   "cell_type": "code",
   "execution_count": 1,
   "id": "47b6c0aa",
   "metadata": {},
   "outputs": [],
   "source": [
    "import omnipath as op\n",
    "\n",
    "import numpy as np\n",
    "import pandas as pd"
   ]
  },
  {
   "cell_type": "code",
   "execution_count": 2,
   "id": "62bd2ec0",
   "metadata": {},
   "outputs": [],
   "source": [
    "import warnings\n",
    "\n",
    "warnings.filterwarnings(\"ignore\")"
   ]
  },
  {
   "cell_type": "code",
   "execution_count": 3,
   "id": "c5b4ed34",
   "metadata": {},
   "outputs": [
    {
     "data": {
      "text/plain": [
       "('Adhesome',\n",
       " 'Almen2009',\n",
       " 'Baccin2019',\n",
       " 'CSPA',\n",
       " 'CellCellInteractions',\n",
       " 'CellChatDB',\n",
       " 'CellPhoneDB',\n",
       " 'CellTalkDB',\n",
       " 'ComPPI',\n",
       " 'DGIdb',\n",
       " 'EMBRACE',\n",
       " 'GO_Intercell',\n",
       " 'GPCRdb',\n",
       " 'Guide2Pharma',\n",
       " 'HGNC',\n",
       " 'HPA_secretome',\n",
       " 'HPMR',\n",
       " 'ICELLNET',\n",
       " 'Integrins',\n",
       " 'Kirouac2010',\n",
       " 'LOCATE',\n",
       " 'LRdb',\n",
       " 'MCAM',\n",
       " 'Matrisome',\n",
       " 'MatrixDB',\n",
       " 'Membranome',\n",
       " 'OPM',\n",
       " 'OmniPath',\n",
       " 'Phobius',\n",
       " 'Ramilowski2015',\n",
       " 'Ramilowski_location',\n",
       " 'SignaLink_function',\n",
       " 'Surfaceome',\n",
       " 'TopDB',\n",
       " 'UniProt_keyword',\n",
       " 'UniProt_location',\n",
       " 'UniProt_topology',\n",
       " 'Zhong2015',\n",
       " 'connectomeDB2020',\n",
       " 'iTALK',\n",
       " 'talklr')"
      ]
     },
     "execution_count": 3,
     "metadata": {},
     "output_type": "execute_result"
    }
   ],
   "source": [
    "op.requests.Intercell.resources() # interaction DBs\n",
    "# op.requests.Intercell.generic_categories() # L, R categories"
   ]
  },
  {
   "cell_type": "code",
   "execution_count": 4,
   "id": "7f8e37db",
   "metadata": {},
   "outputs": [
    {
     "name": "stdout",
     "output_type": "stream",
     "text": [
      "(37614, 46)\n"
     ]
    },
    {
     "data": {
      "text/html": [
       "<div>\n",
       "<style scoped>\n",
       "    .dataframe tbody tr th:only-of-type {\n",
       "        vertical-align: middle;\n",
       "    }\n",
       "\n",
       "    .dataframe tbody tr th {\n",
       "        vertical-align: top;\n",
       "    }\n",
       "\n",
       "    .dataframe thead th {\n",
       "        text-align: right;\n",
       "    }\n",
       "</style>\n",
       "<table border=\"1\" class=\"dataframe\">\n",
       "  <thead>\n",
       "    <tr style=\"text-align: right;\">\n",
       "      <th></th>\n",
       "      <th>source</th>\n",
       "      <th>target</th>\n",
       "      <th>is_stimulation</th>\n",
       "      <th>is_inhibition</th>\n",
       "      <th>consensus_direction</th>\n",
       "      <th>consensus_stimulation</th>\n",
       "      <th>consensus_inhibition</th>\n",
       "      <th>dip_url</th>\n",
       "      <th>curation_effort</th>\n",
       "      <th>references</th>\n",
       "      <th>...</th>\n",
       "      <th>category_source_intercell_target</th>\n",
       "      <th>uniprot_intercell_target</th>\n",
       "      <th>genesymbol_intercell_target</th>\n",
       "      <th>entity_type_intercell_target</th>\n",
       "      <th>consensus_score_intercell_target</th>\n",
       "      <th>transmitter_intercell_target</th>\n",
       "      <th>receiver_intercell_target</th>\n",
       "      <th>secreted_intercell_target</th>\n",
       "      <th>plasma_membrane_transmembrane_intercell_target</th>\n",
       "      <th>plasma_membrane_peripheral_intercell_target</th>\n",
       "    </tr>\n",
       "  </thead>\n",
       "  <tbody>\n",
       "    <tr>\n",
       "      <th>0</th>\n",
       "      <td>P14416</td>\n",
       "      <td>P48995</td>\n",
       "      <td>True</td>\n",
       "      <td>False</td>\n",
       "      <td>True</td>\n",
       "      <td>True</td>\n",
       "      <td>False</td>\n",
       "      <td>None</td>\n",
       "      <td>1</td>\n",
       "      <td>TRIP:18261457</td>\n",
       "      <td>...</td>\n",
       "      <td>resource_specific</td>\n",
       "      <td>P48995</td>\n",
       "      <td>TRPC1</td>\n",
       "      <td>protein</td>\n",
       "      <td>1</td>\n",
       "      <td>False</td>\n",
       "      <td>True</td>\n",
       "      <td>False</td>\n",
       "      <td>False</td>\n",
       "      <td>False</td>\n",
       "    </tr>\n",
       "    <tr>\n",
       "      <th>1</th>\n",
       "      <td>P14416</td>\n",
       "      <td>P48995</td>\n",
       "      <td>True</td>\n",
       "      <td>False</td>\n",
       "      <td>True</td>\n",
       "      <td>True</td>\n",
       "      <td>False</td>\n",
       "      <td>None</td>\n",
       "      <td>1</td>\n",
       "      <td>TRIP:18261457</td>\n",
       "      <td>...</td>\n",
       "      <td>resource_specific</td>\n",
       "      <td>P48995</td>\n",
       "      <td>TRPC1</td>\n",
       "      <td>protein</td>\n",
       "      <td>3</td>\n",
       "      <td>False</td>\n",
       "      <td>True</td>\n",
       "      <td>False</td>\n",
       "      <td>False</td>\n",
       "      <td>False</td>\n",
       "    </tr>\n",
       "    <tr>\n",
       "      <th>2</th>\n",
       "      <td>P14416</td>\n",
       "      <td>P48995</td>\n",
       "      <td>True</td>\n",
       "      <td>False</td>\n",
       "      <td>True</td>\n",
       "      <td>True</td>\n",
       "      <td>False</td>\n",
       "      <td>None</td>\n",
       "      <td>1</td>\n",
       "      <td>TRIP:18261457</td>\n",
       "      <td>...</td>\n",
       "      <td>composite</td>\n",
       "      <td>P48995</td>\n",
       "      <td>TRPC1</td>\n",
       "      <td>protein</td>\n",
       "      <td>3</td>\n",
       "      <td>False</td>\n",
       "      <td>True</td>\n",
       "      <td>False</td>\n",
       "      <td>False</td>\n",
       "      <td>False</td>\n",
       "    </tr>\n",
       "    <tr>\n",
       "      <th>3</th>\n",
       "      <td>Q13255</td>\n",
       "      <td>P48995</td>\n",
       "      <td>True</td>\n",
       "      <td>False</td>\n",
       "      <td>True</td>\n",
       "      <td>True</td>\n",
       "      <td>False</td>\n",
       "      <td>None</td>\n",
       "      <td>1</td>\n",
       "      <td>TRIP:14614461</td>\n",
       "      <td>...</td>\n",
       "      <td>resource_specific</td>\n",
       "      <td>P48995</td>\n",
       "      <td>TRPC1</td>\n",
       "      <td>protein</td>\n",
       "      <td>1</td>\n",
       "      <td>False</td>\n",
       "      <td>True</td>\n",
       "      <td>False</td>\n",
       "      <td>False</td>\n",
       "      <td>False</td>\n",
       "    </tr>\n",
       "    <tr>\n",
       "      <th>4</th>\n",
       "      <td>Q13255</td>\n",
       "      <td>P48995</td>\n",
       "      <td>True</td>\n",
       "      <td>False</td>\n",
       "      <td>True</td>\n",
       "      <td>True</td>\n",
       "      <td>False</td>\n",
       "      <td>None</td>\n",
       "      <td>1</td>\n",
       "      <td>TRIP:14614461</td>\n",
       "      <td>...</td>\n",
       "      <td>resource_specific</td>\n",
       "      <td>P48995</td>\n",
       "      <td>TRPC1</td>\n",
       "      <td>protein</td>\n",
       "      <td>3</td>\n",
       "      <td>False</td>\n",
       "      <td>True</td>\n",
       "      <td>False</td>\n",
       "      <td>False</td>\n",
       "      <td>False</td>\n",
       "    </tr>\n",
       "  </tbody>\n",
       "</table>\n",
       "<p>5 rows × 46 columns</p>\n",
       "</div>"
      ],
      "text/plain": [
       "   source  target  is_stimulation  is_inhibition  consensus_direction  \\\n",
       "0  P14416  P48995            True          False                 True   \n",
       "1  P14416  P48995            True          False                 True   \n",
       "2  P14416  P48995            True          False                 True   \n",
       "3  Q13255  P48995            True          False                 True   \n",
       "4  Q13255  P48995            True          False                 True   \n",
       "\n",
       "   consensus_stimulation  consensus_inhibition dip_url  curation_effort  \\\n",
       "0                   True                 False    None                1   \n",
       "1                   True                 False    None                1   \n",
       "2                   True                 False    None                1   \n",
       "3                   True                 False    None                1   \n",
       "4                   True                 False    None                1   \n",
       "\n",
       "      references  ... category_source_intercell_target  \\\n",
       "0  TRIP:18261457  ...                resource_specific   \n",
       "1  TRIP:18261457  ...                resource_specific   \n",
       "2  TRIP:18261457  ...                        composite   \n",
       "3  TRIP:14614461  ...                resource_specific   \n",
       "4  TRIP:14614461  ...                resource_specific   \n",
       "\n",
       "  uniprot_intercell_target genesymbol_intercell_target  \\\n",
       "0                   P48995                       TRPC1   \n",
       "1                   P48995                       TRPC1   \n",
       "2                   P48995                       TRPC1   \n",
       "3                   P48995                       TRPC1   \n",
       "4                   P48995                       TRPC1   \n",
       "\n",
       "  entity_type_intercell_target  consensus_score_intercell_target  \\\n",
       "0                      protein                                 1   \n",
       "1                      protein                                 3   \n",
       "2                      protein                                 3   \n",
       "3                      protein                                 1   \n",
       "4                      protein                                 3   \n",
       "\n",
       "   transmitter_intercell_target receiver_intercell_target  \\\n",
       "0                         False                      True   \n",
       "1                         False                      True   \n",
       "2                         False                      True   \n",
       "3                         False                      True   \n",
       "4                         False                      True   \n",
       "\n",
       "  secreted_intercell_target plasma_membrane_transmembrane_intercell_target  \\\n",
       "0                     False                                          False   \n",
       "1                     False                                          False   \n",
       "2                     False                                          False   \n",
       "3                     False                                          False   \n",
       "4                     False                                          False   \n",
       "\n",
       "  plasma_membrane_peripheral_intercell_target  \n",
       "0                                       False  \n",
       "1                                       False  \n",
       "2                                       False  \n",
       "3                                       False  \n",
       "4                                       False  \n",
       "\n",
       "[5 rows x 46 columns]"
      ]
     },
     "execution_count": 4,
     "metadata": {},
     "output_type": "execute_result"
    }
   ],
   "source": [
    "intercell = op.interactions.import_intercell_network()\n",
    "print(intercell.shape)\n",
    "\n",
    "intercell.head()"
   ]
  },
  {
   "cell_type": "code",
   "execution_count": 5,
   "id": "dacb3322",
   "metadata": {},
   "outputs": [
    {
     "name": "stdout",
     "output_type": "stream",
     "text": [
      "{'receptor_regulator', 'cell_surface_enzyme', 'ecm_regulator', 'gap_junction', 'cell_adhesion', 'secreted_receptor', 'adhesion', 'inhibitory_cofactor', 'ligand', 'desmosome', 'ligand_agonist', 'ligand_regulator', 'activating_cofactor', 'cell_surface_ligand', 'ligand_antagonist', 'cell_surface_peptidase', 'tight_junction', 'secreted_enzyme', 'matrix_adhesion_regulator', 'ecm'}\n"
     ]
    }
   ],
   "source": [
    "print (set(intercell[\"category_intercell_source\"])) # sender"
   ]
  },
  {
   "cell_type": "code",
   "execution_count": 6,
   "id": "9ba44617",
   "metadata": {},
   "outputs": [
    {
     "name": "stdout",
     "output_type": "stream",
     "text": [
      "{'adherens_junction', 'matrix_adhesion', 'gap_junction', 'ion_channel_regulator', 'desmosome', 'ion_channel', 'cell_adhesion', 'receptor', 'transporter', 'adhesion', 'tight_junction'}\n"
     ]
    }
   ],
   "source": [
    "print (set(intercell[\"category_intercell_target\"])) # receiver"
   ]
  },
  {
   "cell_type": "code",
   "execution_count": 7,
   "id": "876ac751",
   "metadata": {},
   "outputs": [
    {
     "data": {
      "text/plain": [
       "(8137, 46)"
      ]
     },
     "execution_count": 7,
     "metadata": {},
     "output_type": "execute_result"
    }
   ],
   "source": [
    "mask1 = (intercell.category_intercell_source.isin(['ligand'])) & (intercell.category_intercell_target.isin(['receptor'])) # only L-R pairs\n",
    "mask2 = (intercell.entity_type_intercell_source.isin(['protein'])) & (intercell.entity_type_intercell_target.isin(['protein'])) # no complex\n",
    "intercell_LR = intercell[mask1 & mask2] \n",
    "\n",
    "intercell_LR.shape"
   ]
  },
  {
   "cell_type": "code",
   "execution_count": 8,
   "id": "d8411dce",
   "metadata": {},
   "outputs": [],
   "source": [
    "intercell_LR.to_csv('omnipath_intercell_toUse.csv', index=False)"
   ]
  },
  {
   "cell_type": "code",
   "execution_count": null,
   "id": "7698a703",
   "metadata": {},
   "outputs": [],
   "source": []
  },
  {
   "cell_type": "markdown",
   "id": "5f651a60",
   "metadata": {},
   "source": [
    "https://workflows.omnipathdb.org/"
   ]
  },
  {
   "cell_type": "code",
   "execution_count": null,
   "id": "e14413f0",
   "metadata": {},
   "outputs": [],
   "source": []
  }
 ],
 "metadata": {
  "kernelspec": {
   "display_name": "Python 3",
   "language": "python",
   "name": "python3"
  },
  "language_info": {
   "codemirror_mode": {
    "name": "ipython",
    "version": 3
   },
   "file_extension": ".py",
   "mimetype": "text/x-python",
   "name": "python",
   "nbconvert_exporter": "python",
   "pygments_lexer": "ipython3",
   "version": "3.9.4"
  }
 },
 "nbformat": 4,
 "nbformat_minor": 5
}
