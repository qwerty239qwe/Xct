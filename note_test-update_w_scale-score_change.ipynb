{
 "cells": [
  {
   "cell_type": "code",
   "execution_count": 1,
   "metadata": {},
   "outputs": [],
   "source": [
    "import numpy as np\n",
    "import pandas as pd\n",
    "import matplotlib.pyplot as plt\n",
    "import scanpy as sc\n",
    "sc.settings.verbosity = 0\n",
    "#from anndata import AnnData\n",
    "import scipy\n",
    "#from numpy.linalg import svd\n",
    "\n",
    "\n",
    "import warnings\n",
    "warnings.filterwarnings(\"ignore\")\n"
   ]
  },
  {
   "cell_type": "code",
   "execution_count": 2,
   "metadata": {},
   "outputs": [],
   "source": [
    "try:\n",
    "    from sys import path as syspath\n",
    "    from os import path as ospath\n",
    "    syspath.append(ospath.join(ospath.expanduser(\"~\"), './'))\n",
    "    \n",
    "    from main import *\n",
    "except ImportError:\n",
    "    print('Module not found')"
   ]
  },
  {
   "cell_type": "code",
   "execution_count": 3,
   "metadata": {},
   "outputs": [
    {
     "data": {
      "text/plain": [
       "AnnData object with n_obs × n_vars = 5011 × 17328\n",
       "    obs: 'orig.ident', 'nCount_RNA', 'nFeature_RNA', 'patient.id', 'condition', 'labels', 'ident'\n",
       "    var: 'vst.mean', 'vst.variance', 'vst.variance.expected', 'vst.variance.standardized', 'vst.variable'"
      ]
     },
     "execution_count": 3,
     "metadata": {},
     "output_type": "execute_result"
    }
   ],
   "source": [
    "ada = sc.read_h5ad(\"data/LS.h5ad\")\n",
    "ada"
   ]
  },
  {
   "cell_type": "code",
   "execution_count": 4,
   "metadata": {},
   "outputs": [],
   "source": [
    "data = scipy.sparse.csr_matrix.toarray(ada.X)\n",
    "counts = np.asarray(np.expm1(data), dtype=int)\n",
    "ada.layers['raw'] = counts\n",
    "ada.layers['log1p'] = data"
   ]
  },
  {
   "cell_type": "code",
   "execution_count": 5,
   "metadata": {},
   "outputs": [
    {
     "data": {
      "text/plain": [
       "AnnData object with n_obs × n_vars = 5011 × 3000\n",
       "    obs: 'orig.ident', 'nCount_RNA', 'nFeature_RNA', 'patient.id', 'condition', 'labels', 'ident'\n",
       "    var: 'vst.mean', 'vst.variance', 'vst.variance.expected', 'vst.variance.standardized', 'vst.variable'\n",
       "    layers: 'raw', 'log1p'"
      ]
     },
     "execution_count": 5,
     "metadata": {},
     "output_type": "execute_result"
    }
   ],
   "source": [
    "HVG_i = np.argsort(np.asarray(ada.var['vst.variance.standardized']))[-3000:]\n",
    "ada = ada[:, HVG_i].copy()\n",
    "ada"
   ]
  },
  {
   "cell_type": "markdown",
   "metadata": {},
   "source": [
    "## create a Xct_metrics obj:"
   ]
  },
  {
   "cell_type": "code",
   "execution_count": 6,
   "metadata": {},
   "outputs": [
    {
     "data": {
      "text/plain": [
       "main.Xct_metrics"
      ]
     },
     "execution_count": 6,
     "metadata": {},
     "output_type": "execute_result"
    }
   ],
   "source": [
    "skin = Xct_metrics(ada)\n",
    "type(skin)"
   ]
  },
  {
   "cell_type": "code",
   "execution_count": 7,
   "metadata": {},
   "outputs": [
    {
     "data": {
      "text/html": [
       "<div>\n",
       "<style scoped>\n",
       "    .dataframe tbody tr th:only-of-type {\n",
       "        vertical-align: middle;\n",
       "    }\n",
       "\n",
       "    .dataframe tbody tr th {\n",
       "        vertical-align: top;\n",
       "    }\n",
       "\n",
       "    .dataframe thead th {\n",
       "        text-align: right;\n",
       "    }\n",
       "</style>\n",
       "<table border=\"1\" class=\"dataframe\">\n",
       "  <thead>\n",
       "    <tr style=\"text-align: right;\">\n",
       "      <th></th>\n",
       "      <th>ligand</th>\n",
       "      <th>receptor</th>\n",
       "    </tr>\n",
       "  </thead>\n",
       "  <tbody>\n",
       "    <tr>\n",
       "      <th>0</th>\n",
       "      <td>BDNF</td>\n",
       "      <td>TRPC1</td>\n",
       "    </tr>\n",
       "    <tr>\n",
       "      <th>1</th>\n",
       "      <td>CXCL12</td>\n",
       "      <td>GNAI2</td>\n",
       "    </tr>\n",
       "    <tr>\n",
       "      <th>2</th>\n",
       "      <td>PF4</td>\n",
       "      <td>GNAI2</td>\n",
       "    </tr>\n",
       "    <tr>\n",
       "      <th>3</th>\n",
       "      <td>EPOR</td>\n",
       "      <td>TRPC3</td>\n",
       "    </tr>\n",
       "    <tr>\n",
       "      <th>4</th>\n",
       "      <td>EPOR</td>\n",
       "      <td>EPO</td>\n",
       "    </tr>\n",
       "  </tbody>\n",
       "</table>\n",
       "</div>"
      ],
      "text/plain": [
       "   ligand receptor\n",
       "0    BDNF    TRPC1\n",
       "1  CXCL12    GNAI2\n",
       "2     PF4    GNAI2\n",
       "3    EPOR    TRPC3\n",
       "4    EPOR      EPO"
      ]
     },
     "execution_count": 7,
     "metadata": {},
     "output_type": "execute_result"
    }
   ],
   "source": [
    "skin.DB.head()"
   ]
  },
  {
   "cell_type": "code",
   "execution_count": 8,
   "metadata": {},
   "outputs": [
    {
     "data": {
      "text/plain": [
       "array([[1194,    0],\n",
       "       [2920,    0],\n",
       "       [   0,    0],\n",
       "       ...,\n",
       "       [   0,    0],\n",
       "       [   0,    0],\n",
       "       [   0,    0]])"
      ]
     },
     "execution_count": 8,
     "metadata": {},
     "output_type": "execute_result"
    }
   ],
   "source": [
    "skin._genes_index_DB"
   ]
  },
  {
   "cell_type": "code",
   "execution_count": 9,
   "metadata": {},
   "outputs": [
    {
     "data": {
      "text/plain": [
       "'BDNF'"
      ]
     },
     "execution_count": 9,
     "metadata": {},
     "output_type": "execute_result"
    }
   ],
   "source": [
    "ada.var_names[1194-1] #check"
   ]
  },
  {
   "cell_type": "code",
   "execution_count": 10,
   "metadata": {},
   "outputs": [
    {
     "name": "stdout",
     "output_type": "stream",
     "text": [
      "918 (intervals for fit) / 3000 (filtered -Inf) / 3000 (original) features for the fit\n"
     ]
    },
    {
     "data": {
      "image/png": "[encoded data removed]",
      "text/plain": [
       "<Figure size 480x400 with 1 Axes>"
      ]
     },
     "metadata": {
      "needs_background": "light"
     },
     "output_type": "display_data"
    },
    {
     "data": {
      "text/plain": [
       "array([ 0.048889  , -0.07626458, -0.02784309, ...,  0.78019458,\n",
       "        0.59314723,  0.22144539])"
      ]
     },
     "execution_count": 10,
     "metadata": {},
     "output_type": "execute_result"
    }
   ],
   "source": [
    "skin.chen2016_fit(ada, plot = True, verbose = True)"
   ]
  },
  {
   "cell_type": "markdown",
   "metadata": {},
   "source": [
    "## create a Xct obj with GRN building:"
   ]
  },
  {
   "cell_type": "code",
   "execution_count": 11,
   "metadata": {},
   "outputs": [
    {
     "name": "stdout",
     "output_type": "stream",
     "text": [
      "initiating an Xct object for interactions from Inflam. FIB (484) to Inflam. DC (81)...\n",
      "GRNs loaded...\n",
      "correspondence has been built...\n",
      "Xct object with the interaction between cells Inflam. FIB X Inflam. DC = 484 X 81\n",
      "# of genes = 3000 X 3000 \n",
      "Correspondence = 6000 X 6000\n"
     ]
    }
   ],
   "source": [
    "obj1 = Xct(ada, 'Inflam. FIB', 'Inflam. DC', build_GRN = False, pcNet_name = 'skin_net', mode = 'full', verbose = True)\n",
    "\n",
    "print(obj1)"
   ]
  },
  {
   "cell_type": "code",
   "execution_count": 12,
   "metadata": {},
   "outputs": [
    {
     "data": {
      "text/html": [
       "<div>\n",
       "<style scoped>\n",
       "    .dataframe tbody tr th:only-of-type {\n",
       "        vertical-align: middle;\n",
       "    }\n",
       "\n",
       "    .dataframe tbody tr th {\n",
       "        vertical-align: top;\n",
       "    }\n",
       "\n",
       "    .dataframe thead th {\n",
       "        text-align: right;\n",
       "    }\n",
       "</style>\n",
       "<table border=\"1\" class=\"dataframe\">\n",
       "  <thead>\n",
       "    <tr style=\"text-align: right;\">\n",
       "      <th></th>\n",
       "      <th>ligand</th>\n",
       "      <th>receptor</th>\n",
       "      <th>mean_L</th>\n",
       "      <th>mean_R</th>\n",
       "      <th>var_L</th>\n",
       "      <th>var_R</th>\n",
       "      <th>disp_L</th>\n",
       "      <th>disp_R</th>\n",
       "      <th>cv_L</th>\n",
       "      <th>cv_R</th>\n",
       "      <th>cv_res_L</th>\n",
       "      <th>cv_res_R</th>\n",
       "    </tr>\n",
       "  </thead>\n",
       "  <tbody>\n",
       "    <tr>\n",
       "      <th>18</th>\n",
       "      <td>IGF1</td>\n",
       "      <td>NTRK2</td>\n",
       "      <td>0.029522</td>\n",
       "      <td>0.024446</td>\n",
       "      <td>0.067410</td>\n",
       "      <td>0.027285</td>\n",
       "      <td>2.283343</td>\n",
       "      <td>1.116142</td>\n",
       "      <td>8.794479</td>\n",
       "      <td>6.757026</td>\n",
       "      <td>0.156436</td>\n",
       "      <td>-0.338065</td>\n",
       "    </tr>\n",
       "    <tr>\n",
       "      <th>28</th>\n",
       "      <td>AREG</td>\n",
       "      <td>NTRK2</td>\n",
       "      <td>0.003443</td>\n",
       "      <td>0.024446</td>\n",
       "      <td>0.005726</td>\n",
       "      <td>0.027285</td>\n",
       "      <td>1.663072</td>\n",
       "      <td>1.116142</td>\n",
       "      <td>21.977261</td>\n",
       "      <td>6.757026</td>\n",
       "      <td>-0.221117</td>\n",
       "      <td>-0.338065</td>\n",
       "    </tr>\n",
       "    <tr>\n",
       "      <th>33</th>\n",
       "      <td>FGF2</td>\n",
       "      <td>NTRK2</td>\n",
       "      <td>0.076530</td>\n",
       "      <td>0.024446</td>\n",
       "      <td>0.142827</td>\n",
       "      <td>0.027285</td>\n",
       "      <td>1.866276</td>\n",
       "      <td>1.116142</td>\n",
       "      <td>4.938230</td>\n",
       "      <td>6.757026</td>\n",
       "      <td>-0.075862</td>\n",
       "      <td>-0.338065</td>\n",
       "    </tr>\n",
       "    <tr>\n",
       "      <th>35</th>\n",
       "      <td>FGF7</td>\n",
       "      <td>NTRK2</td>\n",
       "      <td>0.449156</td>\n",
       "      <td>0.024446</td>\n",
       "      <td>0.835224</td>\n",
       "      <td>0.027285</td>\n",
       "      <td>1.859543</td>\n",
       "      <td>1.116142</td>\n",
       "      <td>2.034720</td>\n",
       "      <td>6.757026</td>\n",
       "      <td>0.023099</td>\n",
       "      <td>-0.338065</td>\n",
       "    </tr>\n",
       "    <tr>\n",
       "      <th>53</th>\n",
       "      <td>BDNF</td>\n",
       "      <td>NTRK2</td>\n",
       "      <td>0.009386</td>\n",
       "      <td>0.024446</td>\n",
       "      <td>0.016305</td>\n",
       "      <td>0.027285</td>\n",
       "      <td>1.737234</td>\n",
       "      <td>1.116142</td>\n",
       "      <td>13.604940</td>\n",
       "      <td>6.757026</td>\n",
       "      <td>-0.094830</td>\n",
       "      <td>-0.338065</td>\n",
       "    </tr>\n",
       "    <tr>\n",
       "      <th>...</th>\n",
       "      <td>...</td>\n",
       "      <td>...</td>\n",
       "      <td>...</td>\n",
       "      <td>...</td>\n",
       "      <td>...</td>\n",
       "      <td>...</td>\n",
       "      <td>...</td>\n",
       "      <td>...</td>\n",
       "      <td>...</td>\n",
       "      <td>...</td>\n",
       "      <td>...</td>\n",
       "      <td>...</td>\n",
       "    </tr>\n",
       "    <tr>\n",
       "      <th>7884</th>\n",
       "      <td>LAMB1</td>\n",
       "      <td>SV2B</td>\n",
       "      <td>0.192922</td>\n",
       "      <td>0.015761</td>\n",
       "      <td>0.356617</td>\n",
       "      <td>0.019873</td>\n",
       "      <td>1.848509</td>\n",
       "      <td>1.260899</td>\n",
       "      <td>3.095425</td>\n",
       "      <td>8.944272</td>\n",
       "      <td>-0.019347</td>\n",
       "      <td>-0.338065</td>\n",
       "    </tr>\n",
       "    <tr>\n",
       "      <th>7890</th>\n",
       "      <td>LAMC3</td>\n",
       "      <td>SV2B</td>\n",
       "      <td>0.343355</td>\n",
       "      <td>0.015761</td>\n",
       "      <td>0.610706</td>\n",
       "      <td>0.019873</td>\n",
       "      <td>1.778645</td>\n",
       "      <td>1.260899</td>\n",
       "      <td>2.276004</td>\n",
       "      <td>8.944272</td>\n",
       "      <td>-0.046932</td>\n",
       "      <td>-0.338065</td>\n",
       "    </tr>\n",
       "    <tr>\n",
       "      <th>7894</th>\n",
       "      <td>LAMB2</td>\n",
       "      <td>SV2B</td>\n",
       "      <td>1.027162</td>\n",
       "      <td>0.015761</td>\n",
       "      <td>1.343443</td>\n",
       "      <td>0.019873</td>\n",
       "      <td>1.307918</td>\n",
       "      <td>1.260899</td>\n",
       "      <td>1.128420</td>\n",
       "      <td>8.944272</td>\n",
       "      <td>-0.030466</td>\n",
       "      <td>-0.338065</td>\n",
       "    </tr>\n",
       "    <tr>\n",
       "      <th>8023</th>\n",
       "      <td>FSTL1</td>\n",
       "      <td>DIP2A</td>\n",
       "      <td>1.154967</td>\n",
       "      <td>0.066773</td>\n",
       "      <td>1.490066</td>\n",
       "      <td>0.086209</td>\n",
       "      <td>1.290138</td>\n",
       "      <td>1.291068</td>\n",
       "      <td>1.056898</td>\n",
       "      <td>4.397163</td>\n",
       "      <td>0.014484</td>\n",
       "      <td>-0.313400</td>\n",
       "    </tr>\n",
       "    <tr>\n",
       "      <th>8042</th>\n",
       "      <td>ACP6</td>\n",
       "      <td>HEXIM1</td>\n",
       "      <td>0.004821</td>\n",
       "      <td>0.564291</td>\n",
       "      <td>0.011224</td>\n",
       "      <td>0.851861</td>\n",
       "      <td>2.328389</td>\n",
       "      <td>1.509613</td>\n",
       "      <td>21.977261</td>\n",
       "      <td>1.635615</td>\n",
       "      <td>-0.045050</td>\n",
       "      <td>-0.012821</td>\n",
       "    </tr>\n",
       "  </tbody>\n",
       "</table>\n",
       "<p>160 rows × 12 columns</p>\n",
       "</div>"
      ],
      "text/plain": [
       "     ligand receptor    mean_L    mean_R     var_L     var_R    disp_L  \\\n",
       "18     IGF1    NTRK2  0.029522  0.024446  0.067410  0.027285  2.283343   \n",
       "28     AREG    NTRK2  0.003443  0.024446  0.005726  0.027285  1.663072   \n",
       "33     FGF2    NTRK2  0.076530  0.024446  0.142827  0.027285  1.866276   \n",
       "35     FGF7    NTRK2  0.449156  0.024446  0.835224  0.027285  1.859543   \n",
       "53     BDNF    NTRK2  0.009386  0.024446  0.016305  0.027285  1.737234   \n",
       "...     ...      ...       ...       ...       ...       ...       ...   \n",
       "7884  LAMB1     SV2B  0.192922  0.015761  0.356617  0.019873  1.848509   \n",
       "7890  LAMC3     SV2B  0.343355  0.015761  0.610706  0.019873  1.778645   \n",
       "7894  LAMB2     SV2B  1.027162  0.015761  1.343443  0.019873  1.307918   \n",
       "8023  FSTL1    DIP2A  1.154967  0.066773  1.490066  0.086209  1.290138   \n",
       "8042   ACP6   HEXIM1  0.004821  0.564291  0.011224  0.851861  2.328389   \n",
       "\n",
       "        disp_R       cv_L      cv_R  cv_res_L  cv_res_R  \n",
       "18    1.116142   8.794479  6.757026  0.156436 -0.338065  \n",
       "28    1.116142  21.977261  6.757026 -0.221117 -0.338065  \n",
       "33    1.116142   4.938230  6.757026 -0.075862 -0.338065  \n",
       "35    1.116142   2.034720  6.757026  0.023099 -0.338065  \n",
       "53    1.116142  13.604940  6.757026 -0.094830 -0.338065  \n",
       "...        ...        ...       ...       ...       ...  \n",
       "7884  1.260899   3.095425  8.944272 -0.019347 -0.338065  \n",
       "7890  1.260899   2.276004  8.944272 -0.046932 -0.338065  \n",
       "7894  1.260899   1.128420  8.944272 -0.030466 -0.338065  \n",
       "8023  1.291068   1.056898  4.397163  0.014484 -0.313400  \n",
       "8042  1.509613  21.977261  1.635615 -0.045050 -0.012821  \n",
       "\n",
       "[160 rows x 12 columns]"
      ]
     },
     "execution_count": 12,
     "metadata": {},
     "output_type": "execute_result"
    }
   ],
   "source": [
    "df1 = obj1.fill_metric()\n",
    "df1"
   ]
  },
  {
   "cell_type": "code",
   "execution_count": 13,
   "metadata": {},
   "outputs": [
    {
     "data": {
      "text/html": [
       "<div>\n",
       "<style scoped>\n",
       "    .dataframe tbody tr th:only-of-type {\n",
       "        vertical-align: middle;\n",
       "    }\n",
       "\n",
       "    .dataframe tbody tr th {\n",
       "        vertical-align: top;\n",
       "    }\n",
       "\n",
       "    .dataframe thead th {\n",
       "        text-align: right;\n",
       "    }\n",
       "</style>\n",
       "<table border=\"1\" class=\"dataframe\">\n",
       "  <thead>\n",
       "    <tr style=\"text-align: right;\">\n",
       "      <th></th>\n",
       "      <th>ligand</th>\n",
       "      <th>receptor</th>\n",
       "      <th>mean_L</th>\n",
       "      <th>mean_R</th>\n",
       "      <th>var_L</th>\n",
       "      <th>var_R</th>\n",
       "      <th>disp_L</th>\n",
       "      <th>disp_R</th>\n",
       "      <th>cv_L</th>\n",
       "      <th>cv_R</th>\n",
       "      <th>cv_res_L</th>\n",
       "      <th>cv_res_R</th>\n",
       "    </tr>\n",
       "  </thead>\n",
       "  <tbody>\n",
       "    <tr>\n",
       "      <th>4715</th>\n",
       "      <td>CCL19</td>\n",
       "      <td>CCR6</td>\n",
       "      <td>1.738264</td>\n",
       "      <td>0.165172</td>\n",
       "      <td>5.539186</td>\n",
       "      <td>0.257821</td>\n",
       "      <td>3.186619</td>\n",
       "      <td>1.560922</td>\n",
       "      <td>1.353964</td>\n",
       "      <td>3.074128</td>\n",
       "      <td>0.660159</td>\n",
       "      <td>-0.038730</td>\n",
       "    </tr>\n",
       "    <tr>\n",
       "      <th>4766</th>\n",
       "      <td>CCL19</td>\n",
       "      <td>CXCR4</td>\n",
       "      <td>1.738264</td>\n",
       "      <td>1.356051</td>\n",
       "      <td>5.539186</td>\n",
       "      <td>1.514930</td>\n",
       "      <td>3.186619</td>\n",
       "      <td>1.117163</td>\n",
       "      <td>1.353964</td>\n",
       "      <td>0.907654</td>\n",
       "      <td>0.660159</td>\n",
       "      <td>-0.035804</td>\n",
       "    </tr>\n",
       "    <tr>\n",
       "      <th>4859</th>\n",
       "      <td>CCL19</td>\n",
       "      <td>CCR7</td>\n",
       "      <td>1.738264</td>\n",
       "      <td>1.688513</td>\n",
       "      <td>5.539186</td>\n",
       "      <td>1.941579</td>\n",
       "      <td>3.186619</td>\n",
       "      <td>1.149875</td>\n",
       "      <td>1.353964</td>\n",
       "      <td>0.825226</td>\n",
       "      <td>0.660159</td>\n",
       "      <td>-0.005376</td>\n",
       "    </tr>\n",
       "  </tbody>\n",
       "</table>\n",
       "</div>"
      ],
      "text/plain": [
       "     ligand receptor    mean_L    mean_R     var_L     var_R    disp_L  \\\n",
       "4715  CCL19     CCR6  1.738264  0.165172  5.539186  0.257821  3.186619   \n",
       "4766  CCL19    CXCR4  1.738264  1.356051  5.539186  1.514930  3.186619   \n",
       "4859  CCL19     CCR7  1.738264  1.688513  5.539186  1.941579  3.186619   \n",
       "\n",
       "        disp_R      cv_L      cv_R  cv_res_L  cv_res_R  \n",
       "4715  1.560922  1.353964  3.074128  0.660159 -0.038730  \n",
       "4766  1.117163  1.353964  0.907654  0.660159 -0.035804  \n",
       "4859  1.149875  1.353964  0.825226  0.660159 -0.005376  "
      ]
     },
     "execution_count": 13,
     "metadata": {},
     "output_type": "execute_result"
    }
   ],
   "source": [
    "df1[df1.ligand == 'CCL19']"
   ]
  },
  {
   "cell_type": "code",
   "execution_count": 14,
   "metadata": {},
   "outputs": [
    {
     "data": {
      "text/html": [
       "<div>\n",
       "<style scoped>\n",
       "    .dataframe tbody tr th:only-of-type {\n",
       "        vertical-align: middle;\n",
       "    }\n",
       "\n",
       "    .dataframe tbody tr th {\n",
       "        vertical-align: top;\n",
       "    }\n",
       "\n",
       "    .dataframe thead th {\n",
       "        text-align: right;\n",
       "    }\n",
       "</style>\n",
       "<table border=\"1\" class=\"dataframe\">\n",
       "  <thead>\n",
       "    <tr style=\"text-align: right;\">\n",
       "      <th></th>\n",
       "      <th>ligand</th>\n",
       "      <th>receptor</th>\n",
       "      <th>mean_L</th>\n",
       "      <th>mean_R</th>\n",
       "      <th>var_L</th>\n",
       "      <th>var_R</th>\n",
       "      <th>disp_L</th>\n",
       "      <th>disp_R</th>\n",
       "      <th>cv_L</th>\n",
       "      <th>cv_R</th>\n",
       "      <th>cv_res_L</th>\n",
       "      <th>cv_res_R</th>\n",
       "    </tr>\n",
       "  </thead>\n",
       "  <tbody>\n",
       "    <tr>\n",
       "      <th>4714</th>\n",
       "      <td>CXCL12</td>\n",
       "      <td>CCR6</td>\n",
       "      <td>1.425765</td>\n",
       "      <td>0.165172</td>\n",
       "      <td>2.725718</td>\n",
       "      <td>0.257821</td>\n",
       "      <td>1.911759</td>\n",
       "      <td>1.560922</td>\n",
       "      <td>1.157958</td>\n",
       "      <td>3.074128</td>\n",
       "      <td>0.295925</td>\n",
       "      <td>-0.038730</td>\n",
       "    </tr>\n",
       "    <tr>\n",
       "      <th>4765</th>\n",
       "      <td>CXCL12</td>\n",
       "      <td>CXCR4</td>\n",
       "      <td>1.425765</td>\n",
       "      <td>1.356051</td>\n",
       "      <td>2.725718</td>\n",
       "      <td>1.514930</td>\n",
       "      <td>1.911759</td>\n",
       "      <td>1.117163</td>\n",
       "      <td>1.157958</td>\n",
       "      <td>0.907654</td>\n",
       "      <td>0.295925</td>\n",
       "      <td>-0.035804</td>\n",
       "    </tr>\n",
       "    <tr>\n",
       "      <th>4858</th>\n",
       "      <td>CXCL12</td>\n",
       "      <td>CCR7</td>\n",
       "      <td>1.425765</td>\n",
       "      <td>1.688513</td>\n",
       "      <td>2.725718</td>\n",
       "      <td>1.941579</td>\n",
       "      <td>1.911759</td>\n",
       "      <td>1.149875</td>\n",
       "      <td>1.157958</td>\n",
       "      <td>0.825226</td>\n",
       "      <td>0.295925</td>\n",
       "      <td>-0.005376</td>\n",
       "    </tr>\n",
       "  </tbody>\n",
       "</table>\n",
       "</div>"
      ],
      "text/plain": [
       "      ligand receptor    mean_L    mean_R     var_L     var_R    disp_L  \\\n",
       "4714  CXCL12     CCR6  1.425765  0.165172  2.725718  0.257821  1.911759   \n",
       "4765  CXCL12    CXCR4  1.425765  1.356051  2.725718  1.514930  1.911759   \n",
       "4858  CXCL12     CCR7  1.425765  1.688513  2.725718  1.941579  1.911759   \n",
       "\n",
       "        disp_R      cv_L      cv_R  cv_res_L  cv_res_R  \n",
       "4714  1.560922  1.157958  3.074128  0.295925 -0.038730  \n",
       "4765  1.117163  1.157958  0.907654  0.295925 -0.035804  \n",
       "4858  1.149875  1.157958  0.825226  0.295925 -0.005376  "
      ]
     },
     "execution_count": 14,
     "metadata": {},
     "output_type": "execute_result"
    }
   ],
   "source": [
    "df1[df1.ligand == 'CXCL12']"
   ]
  },
  {
   "cell_type": "markdown",
   "metadata": {},
   "source": [
    "## permutation mode:"
   ]
  },
  {
   "cell_type": "code",
   "execution_count": 15,
   "metadata": {},
   "outputs": [],
   "source": [
    "# np.random.seed(1)\n",
    "\n",
    "# orig_score = np.asarray(obj1.score(method=1))\n",
    "# pmt_scores = scores(ada, obj1, method = 1, a = 0.8, n = 100)\n",
    "\n",
    "# enriched, pvals, counts = pmt_test(orig_score, pmt_scores)\n",
    "# #enriched, counts\n",
    "\n",
    "# df_enriched = df1.iloc[enriched, :]\n",
    "# print('Total enriched:', len(df_enriched))\n",
    "# df_enriched"
   ]
  },
  {
   "cell_type": "markdown",
   "metadata": {},
   "source": [
    "## mode 'full':"
   ]
  },
  {
   "cell_type": "code",
   "execution_count": 16,
   "metadata": {},
   "outputs": [
    {
     "data": {
      "text/plain": [
       "((3000, 3000), (3000, 3000), (6000, 6000))"
      ]
     },
     "execution_count": 16,
     "metadata": {},
     "output_type": "execute_result"
    }
   ],
   "source": [
    "obj1._net_A.shape, obj1._net_B.shape, obj1._w.shape #check"
   ]
  },
  {
   "cell_type": "code",
   "execution_count": 17,
   "metadata": {},
   "outputs": [
    {
     "data": {
      "text/plain": [
       "1.0002169791476756"
      ]
     },
     "execution_count": 17,
     "metadata": {},
     "output_type": "execute_result"
    }
   ],
   "source": [
    "w12 = obj1._w[:obj1._net_A.shape[0], obj1._net_A.shape[1]:]\n",
    "\n",
    "np.mean(w12)  "
   ]
  },
  {
   "cell_type": "code",
   "execution_count": 18,
   "metadata": {},
   "outputs": [
    {
     "name": "stdout",
     "output_type": "stream",
     "text": [
      "160\n"
     ]
    },
    {
     "data": {
      "text/plain": [
       "['IGF1_NTRK2', 'AREG_NTRK2', 'FGF2_NTRK2', 'FGF7_NTRK2', 'BDNF_NTRK2']"
      ]
     },
     "execution_count": 18,
     "metadata": {},
     "output_type": "execute_result"
    }
   ],
   "source": [
    "#selected LR pairs\n",
    "candidates = obj1._candidates(df1)\n",
    "print(len(candidates))\n",
    "candidates[:5]"
   ]
  },
  {
   "cell_type": "code",
   "execution_count": 19,
   "metadata": {},
   "outputs": [
    {
     "name": "stdout",
     "output_type": "stream",
     "text": [
      "Net(\n",
      "  (linear1): Linear(in_features=484, out_features=124, bias=True)\n",
      "  (linear2): Linear(in_features=124, out_features=31, bias=True)\n",
      "  (linear3): Linear(in_features=31, out_features=2, bias=True)\n",
      ")\n",
      "Net(\n",
      "  (linear1): Linear(in_features=81, out_features=48, bias=True)\n",
      "  (linear2): Linear(in_features=48, out_features=12, bias=True)\n",
      "  (linear3): Linear(in_features=12, out_features=2, bias=True)\n",
      ")\n",
      "0 5423.125\n",
      "99 602.3767700195312\n",
      "199 534.5269165039062\n",
      "299 498.17755126953125\n",
      "399 481.08807373046875\n",
      "499 473.42510986328125\n",
      "599 469.24267578125\n",
      "699 466.740966796875\n",
      "799 465.18585205078125\n",
      "899 464.21026611328125\n",
      "999 463.5728454589844\n",
      "1099 463.1387939453125\n",
      "1199 462.8210144042969\n",
      "1299 462.59075927734375\n",
      "1399 462.42950439453125\n",
      "1499 462.2760009765625\n",
      "1599 462.17584228515625\n",
      "1699 462.0816650390625\n",
      "1799 462.0118713378906\n",
      "1899 461.9502258300781\n",
      "1999 461.90234375\n",
      "2099 461.85675048828125\n",
      "2199 461.8200988769531\n",
      "2299 461.78948974609375\n",
      "2399 461.7627868652344\n",
      "2499 461.735595703125\n",
      "2599 461.72039794921875\n",
      "2699 461.7015686035156\n",
      "2799 461.6910705566406\n",
      "2899 461.67144775390625\n",
      "2999 461.6585693359375\n"
     ]
    },
    {
     "data": {
      "image/png": "[encoded data removed]",
      "text/plain": [
       "<Figure size 480x400 with 1 Axes>"
      ]
     },
     "metadata": {
      "needs_background": "light"
     },
     "output_type": "display_data"
    }
   ],
   "source": [
    "projections, losses = obj1.nn_projection(d = 2, n = 3000, lr = 0.001, plot_loss = True)"
   ]
  },
  {
   "cell_type": "code",
   "execution_count": 20,
   "metadata": {},
   "outputs": [],
   "source": [
    "# np.savetxt(\"./data/skin_projections_pair.csv\", projections, delimiter=\"\\t\")\n",
    "\n",
    "# projections = np.genfromtxt(\"./data/skin_projections_pair.csv\", delimiter=\"\\t\")"
   ]
  },
  {
   "cell_type": "code",
   "execution_count": 21,
   "metadata": {},
   "outputs": [
    {
     "name": "stdout",
     "output_type": "stream",
     "text": [
      "computing pair-wise distances...\n",
      "manifold aligned # of pairs: 9000000\n",
      "adding column 'rank'...\n",
      "adding column 'correspondence_score'...\n"
     ]
    },
    {
     "data": {
      "text/html": [
       "<div>\n",
       "<style scoped>\n",
       "    .dataframe tbody tr th:only-of-type {\n",
       "        vertical-align: middle;\n",
       "    }\n",
       "\n",
       "    .dataframe tbody tr th {\n",
       "        vertical-align: top;\n",
       "    }\n",
       "\n",
       "    .dataframe thead th {\n",
       "        text-align: right;\n",
       "    }\n",
       "</style>\n",
       "<table border=\"1\" class=\"dataframe\">\n",
       "  <thead>\n",
       "    <tr style=\"text-align: right;\">\n",
       "      <th></th>\n",
       "      <th>idx</th>\n",
       "      <th>dist</th>\n",
       "      <th>rank</th>\n",
       "      <th>correspondence_score</th>\n",
       "    </tr>\n",
       "  </thead>\n",
       "  <tbody>\n",
       "    <tr>\n",
       "      <th>COL5A1_SRGN</th>\n",
       "      <td>(992, 2675)</td>\n",
       "      <td>0.000003</td>\n",
       "      <td>1</td>\n",
       "      <td>220.658339</td>\n",
       "    </tr>\n",
       "    <tr>\n",
       "      <th>CD81_ADAM19</th>\n",
       "      <td>(178, 897)</td>\n",
       "      <td>0.000004</td>\n",
       "      <td>2</td>\n",
       "      <td>173.541531</td>\n",
       "    </tr>\n",
       "    <tr>\n",
       "      <th>CALD1_TXNIP</th>\n",
       "      <td>(2701, 744)</td>\n",
       "      <td>0.000004</td>\n",
       "      <td>3</td>\n",
       "      <td>183.475914</td>\n",
       "    </tr>\n",
       "    <tr>\n",
       "      <th>RGCC_NFKBIA</th>\n",
       "      <td>(1618, 1740)</td>\n",
       "      <td>0.000004</td>\n",
       "      <td>4</td>\n",
       "      <td>195.438064</td>\n",
       "    </tr>\n",
       "    <tr>\n",
       "      <th>PLA2G2A_CD83</th>\n",
       "      <td>(2974, 1614)</td>\n",
       "      <td>0.000004</td>\n",
       "      <td>5</td>\n",
       "      <td>163.549170</td>\n",
       "    </tr>\n",
       "  </tbody>\n",
       "</table>\n",
       "</div>"
      ],
      "text/plain": [
       "                       idx      dist  rank  correspondence_score\n",
       "COL5A1_SRGN    (992, 2675)  0.000003     1            220.658339\n",
       "CD81_ADAM19     (178, 897)  0.000004     2            173.541531\n",
       "CALD1_TXNIP    (2701, 744)  0.000004     3            183.475914\n",
       "RGCC_NFKBIA   (1618, 1740)  0.000004     4            195.438064\n",
       "PLA2G2A_CD83  (2974, 1614)  0.000004     5            163.549170"
      ]
     },
     "execution_count": 21,
     "metadata": {},
     "output_type": "execute_result"
    }
   ],
   "source": [
    "df_nn = obj1.nn_output(projections)\n",
    "df_nn.head()"
   ]
  },
  {
   "cell_type": "code",
   "execution_count": 22,
   "metadata": {},
   "outputs": [],
   "source": [
    "#df_nn_to_output = df_nn.iloc[:1000, :]\n",
    "#df_nn_to_output.to_csv('distances_nn.csv')"
   ]
  },
  {
   "cell_type": "code",
   "execution_count": 23,
   "metadata": {},
   "outputs": [
    {
     "name": "stdout",
     "output_type": "stream",
     "text": [
      "[[ 1.         -0.16347426]\n",
      " [-0.16347426  1.        ]]\n"
     ]
    },
    {
     "data": {
      "image/png": "[encoded data removed]",
      "text/plain": [
       "<Figure size 432x288 with 1 Axes>"
      ]
     },
     "metadata": {
      "needs_background": "light"
     },
     "output_type": "display_data"
    }
   ],
   "source": [
    "#check corr\n",
    "select = df_nn['correspondence_score'] != 0\n",
    "nX = np.asarray(df_nn['correspondence_score'][select])\n",
    "nY = np.asarray(df_nn['dist'][select])\n",
    "r = np.corrcoef(nX, nY)\n",
    "print(r)\n",
    "\n",
    "plt.scatter(nX, nY, s=3)\n",
    "plt.xlim(0, 100)\n",
    "plt.show()"
   ]
  },
  {
   "cell_type": "code",
   "execution_count": 24,
   "metadata": {},
   "outputs": [],
   "source": [
    "# df_nn_filtered = df_nn.loc[candidates]\n",
    "# len(df_nn_filtered)"
   ]
  },
  {
   "cell_type": "code",
   "execution_count": 25,
   "metadata": {},
   "outputs": [
    {
     "name": "stdout",
     "output_type": "stream",
     "text": [
      "manifold aligned # of L-R pairs: 160\n"
     ]
    },
    {
     "data": {
      "text/html": [
       "<div>\n",
       "<style scoped>\n",
       "    .dataframe tbody tr th:only-of-type {\n",
       "        vertical-align: middle;\n",
       "    }\n",
       "\n",
       "    .dataframe tbody tr th {\n",
       "        vertical-align: top;\n",
       "    }\n",
       "\n",
       "    .dataframe thead th {\n",
       "        text-align: right;\n",
       "    }\n",
       "</style>\n",
       "<table border=\"1\" class=\"dataframe\">\n",
       "  <thead>\n",
       "    <tr style=\"text-align: right;\">\n",
       "      <th></th>\n",
       "      <th>idx</th>\n",
       "      <th>dist</th>\n",
       "      <th>rank</th>\n",
       "      <th>correspondence_score</th>\n",
       "      <th>rank_filtered</th>\n",
       "    </tr>\n",
       "  </thead>\n",
       "  <tbody>\n",
       "    <tr>\n",
       "      <th>VCAM1_ITGB2</th>\n",
       "      <td>(1458, 491)</td>\n",
       "      <td>0.000437</td>\n",
       "      <td>7144</td>\n",
       "      <td>106.982370</td>\n",
       "      <td>1</td>\n",
       "    </tr>\n",
       "    <tr>\n",
       "      <th>CXCL12_CXCR4</th>\n",
       "      <td>(2919, 2548)</td>\n",
       "      <td>0.000835</td>\n",
       "      <td>13902</td>\n",
       "      <td>536.626422</td>\n",
       "      <td>2</td>\n",
       "    </tr>\n",
       "    <tr>\n",
       "      <th>CCL2_CXCR4</th>\n",
       "      <td>(2820, 2548)</td>\n",
       "      <td>0.000843</td>\n",
       "      <td>14014</td>\n",
       "      <td>540.281406</td>\n",
       "      <td>3</td>\n",
       "    </tr>\n",
       "    <tr>\n",
       "      <th>CXCL12_CCR7</th>\n",
       "      <td>(2919, 2138)</td>\n",
       "      <td>0.000927</td>\n",
       "      <td>15127</td>\n",
       "      <td>802.241724</td>\n",
       "      <td>4</td>\n",
       "    </tr>\n",
       "    <tr>\n",
       "      <th>CCL2_CCR7</th>\n",
       "      <td>(2820, 2138)</td>\n",
       "      <td>0.000935</td>\n",
       "      <td>15218</td>\n",
       "      <td>807.705825</td>\n",
       "      <td>5</td>\n",
       "    </tr>\n",
       "  </tbody>\n",
       "</table>\n",
       "</div>"
      ],
      "text/plain": [
       "                       idx      dist   rank  correspondence_score  \\\n",
       "VCAM1_ITGB2    (1458, 491)  0.000437   7144            106.982370   \n",
       "CXCL12_CXCR4  (2919, 2548)  0.000835  13902            536.626422   \n",
       "CCL2_CXCR4    (2820, 2548)  0.000843  14014            540.281406   \n",
       "CXCL12_CCR7   (2919, 2138)  0.000927  15127            802.241724   \n",
       "CCL2_CCR7     (2820, 2138)  0.000935  15218            807.705825   \n",
       "\n",
       "              rank_filtered  \n",
       "VCAM1_ITGB2               1  \n",
       "CXCL12_CXCR4              2  \n",
       "CCL2_CXCR4                3  \n",
       "CXCL12_CCR7               4  \n",
       "CCL2_CCR7                 5  "
      ]
     },
     "execution_count": 25,
     "metadata": {},
     "output_type": "execute_result"
    }
   ],
   "source": [
    "df_nn_filtered = obj1.filtered_nn_output(df_nn, candidates)\n",
    "df_nn_filtered.head()"
   ]
  },
  {
   "cell_type": "code",
   "execution_count": 26,
   "metadata": {},
   "outputs": [
    {
     "name": "stdout",
     "output_type": "stream",
     "text": [
      "\n",
      "Total enriched: 12 / 160\n"
     ]
    },
    {
     "data": {
      "text/html": [
       "<div>\n",
       "<style scoped>\n",
       "    .dataframe tbody tr th:only-of-type {\n",
       "        vertical-align: middle;\n",
       "    }\n",
       "\n",
       "    .dataframe tbody tr th {\n",
       "        vertical-align: top;\n",
       "    }\n",
       "\n",
       "    .dataframe thead th {\n",
       "        text-align: right;\n",
       "    }\n",
       "</style>\n",
       "<table border=\"1\" class=\"dataframe\">\n",
       "  <thead>\n",
       "    <tr style=\"text-align: right;\">\n",
       "      <th></th>\n",
       "      <th>idx</th>\n",
       "      <th>dist</th>\n",
       "      <th>rank</th>\n",
       "      <th>correspondence_score</th>\n",
       "      <th>rank_filtered</th>\n",
       "      <th>q_val</th>\n",
       "    </tr>\n",
       "  </thead>\n",
       "  <tbody>\n",
       "    <tr>\n",
       "      <th>VCAM1_ITGB2</th>\n",
       "      <td>(1458, 491)</td>\n",
       "      <td>0.000437</td>\n",
       "      <td>7144</td>\n",
       "      <td>106.982370</td>\n",
       "      <td>1</td>\n",
       "      <td>0.034388</td>\n",
       "    </tr>\n",
       "    <tr>\n",
       "      <th>CXCL12_CXCR4</th>\n",
       "      <td>(2919, 2548)</td>\n",
       "      <td>0.000835</td>\n",
       "      <td>13902</td>\n",
       "      <td>536.626422</td>\n",
       "      <td>2</td>\n",
       "      <td>0.034388</td>\n",
       "    </tr>\n",
       "    <tr>\n",
       "      <th>CCL2_CXCR4</th>\n",
       "      <td>(2820, 2548)</td>\n",
       "      <td>0.000843</td>\n",
       "      <td>14014</td>\n",
       "      <td>540.281406</td>\n",
       "      <td>3</td>\n",
       "      <td>0.034388</td>\n",
       "    </tr>\n",
       "    <tr>\n",
       "      <th>CXCL12_CCR7</th>\n",
       "      <td>(2919, 2138)</td>\n",
       "      <td>0.000927</td>\n",
       "      <td>15127</td>\n",
       "      <td>802.241724</td>\n",
       "      <td>4</td>\n",
       "      <td>0.034388</td>\n",
       "    </tr>\n",
       "    <tr>\n",
       "      <th>CCL2_CCR7</th>\n",
       "      <td>(2820, 2138)</td>\n",
       "      <td>0.000935</td>\n",
       "      <td>15218</td>\n",
       "      <td>807.705825</td>\n",
       "      <td>5</td>\n",
       "      <td>0.034388</td>\n",
       "    </tr>\n",
       "    <tr>\n",
       "      <th>CXCL14_CXCR4</th>\n",
       "      <td>(2994, 2548)</td>\n",
       "      <td>0.000968</td>\n",
       "      <td>15622</td>\n",
       "      <td>862.240276</td>\n",
       "      <td>6</td>\n",
       "      <td>0.034388</td>\n",
       "    </tr>\n",
       "    <tr>\n",
       "      <th>CCL2_TNF</th>\n",
       "      <td>(2820, 2815)</td>\n",
       "      <td>0.001042</td>\n",
       "      <td>16538</td>\n",
       "      <td>159.410090</td>\n",
       "      <td>7</td>\n",
       "      <td>0.034388</td>\n",
       "    </tr>\n",
       "    <tr>\n",
       "      <th>CXCL14_CCR7</th>\n",
       "      <td>(2994, 2138)</td>\n",
       "      <td>0.001060</td>\n",
       "      <td>16739</td>\n",
       "      <td>1289.025469</td>\n",
       "      <td>8</td>\n",
       "      <td>0.034388</td>\n",
       "    </tr>\n",
       "    <tr>\n",
       "      <th>CXCL1_CCR7</th>\n",
       "      <td>(2596, 2138)</td>\n",
       "      <td>0.001086</td>\n",
       "      <td>17064</td>\n",
       "      <td>107.058778</td>\n",
       "      <td>9</td>\n",
       "      <td>0.034388</td>\n",
       "    </tr>\n",
       "    <tr>\n",
       "      <th>CCL19_CXCR4</th>\n",
       "      <td>(2993, 2548)</td>\n",
       "      <td>0.001103</td>\n",
       "      <td>17219</td>\n",
       "      <td>1964.685417</td>\n",
       "      <td>10</td>\n",
       "      <td>0.034388</td>\n",
       "    </tr>\n",
       "    <tr>\n",
       "      <th>CXCL1_CXCR4</th>\n",
       "      <td>(2596, 2548)</td>\n",
       "      <td>0.001179</td>\n",
       "      <td>18038</td>\n",
       "      <td>71.612542</td>\n",
       "      <td>11</td>\n",
       "      <td>0.034388</td>\n",
       "    </tr>\n",
       "    <tr>\n",
       "      <th>CCL19_CCR7</th>\n",
       "      <td>(2993, 2138)</td>\n",
       "      <td>0.001195</td>\n",
       "      <td>18200</td>\n",
       "      <td>2937.150598</td>\n",
       "      <td>12</td>\n",
       "      <td>0.034388</td>\n",
       "    </tr>\n",
       "  </tbody>\n",
       "</table>\n",
       "</div>"
      ],
      "text/plain": [
       "                       idx      dist   rank  correspondence_score  \\\n",
       "VCAM1_ITGB2    (1458, 491)  0.000437   7144            106.982370   \n",
       "CXCL12_CXCR4  (2919, 2548)  0.000835  13902            536.626422   \n",
       "CCL2_CXCR4    (2820, 2548)  0.000843  14014            540.281406   \n",
       "CXCL12_CCR7   (2919, 2138)  0.000927  15127            802.241724   \n",
       "CCL2_CCR7     (2820, 2138)  0.000935  15218            807.705825   \n",
       "CXCL14_CXCR4  (2994, 2548)  0.000968  15622            862.240276   \n",
       "CCL2_TNF      (2820, 2815)  0.001042  16538            159.410090   \n",
       "CXCL14_CCR7   (2994, 2138)  0.001060  16739           1289.025469   \n",
       "CXCL1_CCR7    (2596, 2138)  0.001086  17064            107.058778   \n",
       "CCL19_CXCR4   (2993, 2548)  0.001103  17219           1964.685417   \n",
       "CXCL1_CXCR4   (2596, 2548)  0.001179  18038             71.612542   \n",
       "CCL19_CCR7    (2993, 2138)  0.001195  18200           2937.150598   \n",
       "\n",
       "              rank_filtered     q_val  \n",
       "VCAM1_ITGB2               1  0.034388  \n",
       "CXCL12_CXCR4              2  0.034388  \n",
       "CCL2_CXCR4                3  0.034388  \n",
       "CXCL12_CCR7               4  0.034388  \n",
       "CCL2_CCR7                 5  0.034388  \n",
       "CXCL14_CXCR4              6  0.034388  \n",
       "CCL2_TNF                  7  0.034388  \n",
       "CXCL14_CCR7               8  0.034388  \n",
       "CXCL1_CCR7                9  0.034388  \n",
       "CCL19_CXCR4              10  0.034388  \n",
       "CXCL1_CXCR4              11  0.034388  \n",
       "CCL19_CCR7               12  0.034388  "
      ]
     },
     "execution_count": 26,
     "metadata": {},
     "output_type": "execute_result"
    }
   ],
   "source": [
    "df_enriched = obj1.chi2_test(df_nn_filtered, df = 2, pval = 0.05, FDR=True)\n",
    "df_enriched"
   ]
  },
  {
   "cell_type": "code",
   "execution_count": 27,
   "metadata": {},
   "outputs": [
    {
     "data": {
      "text/plain": [
       "idx                     (2993, 2138)\n",
       "dist                        0.001195\n",
       "rank                           18200\n",
       "correspondence_score     2937.150598\n",
       "rank_filtered                     12\n",
       "p_val                       0.034388\n",
       "Name: CCL19_CCR7, dtype: object"
      ]
     },
     "execution_count": 27,
     "metadata": {},
     "output_type": "execute_result"
    }
   ],
   "source": [
    "df_nn_filtered.loc['CCL19_CCR7']"
   ]
  },
  {
   "cell_type": "code",
   "execution_count": 28,
   "metadata": {},
   "outputs": [],
   "source": [
    "# i = 0 \n",
    "# for p in candidates:\n",
    "#     if df_nn.loc[p].values[2] < 200: #rank < ?\n",
    "#         i += 1\n",
    "#         print(p, \"idx, dist, rank, score, rank%:\", ' '.join(map(str, df_nn.loc[p].values)), f'{round(100* df_nn.loc[p].values[2]/len(df_nn), 5)}%')\n",
    "\n",
    "# print('\\nTotal enriched:', i)"
   ]
  },
  {
   "cell_type": "code",
   "execution_count": null,
   "metadata": {},
   "outputs": [],
   "source": []
  },
  {
   "cell_type": "markdown",
   "metadata": {},
   "source": [
    "## mode 'comb':"
   ]
  },
  {
   "cell_type": "code",
   "execution_count": 29,
   "metadata": {},
   "outputs": [
    {
     "name": "stdout",
     "output_type": "stream",
     "text": [
      "initiating an Xct object for interactions from Inflam. FIB (484) to Inflam. DC (81)...\n",
      "GRNs loaded...\n",
      "correspondence has been built...\n"
     ]
    }
   ],
   "source": [
    "obj2 = Xct(ada, 'Inflam. FIB', 'Inflam. DC', build_GRN = False, pcNet_name = 'skin_net', mode = 'comb', verbose = True)"
   ]
  },
  {
   "cell_type": "code",
   "execution_count": 30,
   "metadata": {},
   "outputs": [
    {
     "data": {
      "text/plain": [
       "0.024279120407368276"
      ]
     },
     "execution_count": 30,
     "metadata": {},
     "output_type": "execute_result"
    }
   ],
   "source": [
    "w12 = obj2._w[:obj2._net_A.shape[0], obj2._net_A.shape[1]:]\n",
    "\n",
    "np.mean(w12)  "
   ]
  },
  {
   "cell_type": "code",
   "execution_count": 31,
   "metadata": {},
   "outputs": [
    {
     "name": "stdout",
     "output_type": "stream",
     "text": [
      "Net(\n",
      "  (linear1): Linear(in_features=484, out_features=124, bias=True)\n",
      "  (linear2): Linear(in_features=124, out_features=31, bias=True)\n",
      "  (linear3): Linear(in_features=31, out_features=2, bias=True)\n",
      ")\n",
      "Net(\n",
      "  (linear1): Linear(in_features=81, out_features=48, bias=True)\n",
      "  (linear2): Linear(in_features=48, out_features=12, bias=True)\n",
      "  (linear3): Linear(in_features=12, out_features=2, bias=True)\n",
      ")\n",
      "0 122.20376586914062\n",
      "99 36.462127685546875\n",
      "199 32.662776947021484\n",
      "299 28.188762664794922\n",
      "399 26.78423500061035\n",
      "499 26.054107666015625\n",
      "599 25.80288314819336\n",
      "699 25.4305419921875\n",
      "799 25.46610450744629\n",
      "899 25.070537567138672\n",
      "999 24.97801971435547\n"
     ]
    },
    {
     "data": {
      "image/png": "[encoded data removed]",
      "text/plain": [
       "<Figure size 480x400 with 1 Axes>"
      ]
     },
     "metadata": {
      "needs_background": "light"
     },
     "output_type": "display_data"
    }
   ],
   "source": [
    "projections2, losses2 = obj2.nn_projection(n = 1000, plot_loss = True)"
   ]
  },
  {
   "cell_type": "code",
   "execution_count": 32,
   "metadata": {},
   "outputs": [],
   "source": [
    "# np.savetxt(\"./data/skin_projections_comb.csv\", projections2, delimiter=\"\\t\")\n",
    "\n",
    "# projections2 = np.genfromtxt(\"./data/skin_projections_comb.csv\", delimiter=\"\\t\")"
   ]
  },
  {
   "cell_type": "code",
   "execution_count": 33,
   "metadata": {},
   "outputs": [
    {
     "name": "stdout",
     "output_type": "stream",
     "text": [
      "computing pair-wise distances...\n",
      "manifold aligned # of pairs: 9000000\n",
      "adding column 'rank'...\n",
      "adding column 'correspondence_score'...\n"
     ]
    },
    {
     "data": {
      "text/html": [
       "<div>\n",
       "<style scoped>\n",
       "    .dataframe tbody tr th:only-of-type {\n",
       "        vertical-align: middle;\n",
       "    }\n",
       "\n",
       "    .dataframe tbody tr th {\n",
       "        vertical-align: top;\n",
       "    }\n",
       "\n",
       "    .dataframe thead th {\n",
       "        text-align: right;\n",
       "    }\n",
       "</style>\n",
       "<table border=\"1\" class=\"dataframe\">\n",
       "  <thead>\n",
       "    <tr style=\"text-align: right;\">\n",
       "      <th></th>\n",
       "      <th>idx</th>\n",
       "      <th>dist</th>\n",
       "      <th>rank</th>\n",
       "      <th>correspondence_score</th>\n",
       "    </tr>\n",
       "  </thead>\n",
       "  <tbody>\n",
       "    <tr>\n",
       "      <th>CXCL14_HLA-DPA1</th>\n",
       "      <td>(2994, 2987)</td>\n",
       "      <td>0.000007</td>\n",
       "      <td>1</td>\n",
       "      <td>1669.730279</td>\n",
       "    </tr>\n",
       "    <tr>\n",
       "      <th>CXCL14_HLA-DPB1</th>\n",
       "      <td>(2994, 2983)</td>\n",
       "      <td>0.000056</td>\n",
       "      <td>2</td>\n",
       "      <td>1666.246155</td>\n",
       "    </tr>\n",
       "    <tr>\n",
       "      <th>CCL19_CD1A</th>\n",
       "      <td>(2993, 1668)</td>\n",
       "      <td>0.000136</td>\n",
       "      <td>3</td>\n",
       "      <td>1978.265143</td>\n",
       "    </tr>\n",
       "    <tr>\n",
       "      <th>CCL19_CXCR4</th>\n",
       "      <td>(2993, 2548)</td>\n",
       "      <td>0.000159</td>\n",
       "      <td>4</td>\n",
       "      <td>1964.685417</td>\n",
       "    </tr>\n",
       "    <tr>\n",
       "      <th>CCL19_CD83</th>\n",
       "      <td>(2993, 1614)</td>\n",
       "      <td>0.000256</td>\n",
       "      <td>5</td>\n",
       "      <td>2310.091743</td>\n",
       "    </tr>\n",
       "  </tbody>\n",
       "</table>\n",
       "</div>"
      ],
      "text/plain": [
       "                          idx      dist  rank  correspondence_score\n",
       "CXCL14_HLA-DPA1  (2994, 2987)  0.000007     1           1669.730279\n",
       "CXCL14_HLA-DPB1  (2994, 2983)  0.000056     2           1666.246155\n",
       "CCL19_CD1A       (2993, 1668)  0.000136     3           1978.265143\n",
       "CCL19_CXCR4      (2993, 2548)  0.000159     4           1964.685417\n",
       "CCL19_CD83       (2993, 1614)  0.000256     5           2310.091743"
      ]
     },
     "execution_count": 33,
     "metadata": {},
     "output_type": "execute_result"
    }
   ],
   "source": [
    "df_nn2 = obj2.nn_output(projections2)\n",
    "df_nn2.head()"
   ]
  },
  {
   "cell_type": "code",
   "execution_count": 34,
   "metadata": {},
   "outputs": [
    {
     "name": "stdout",
     "output_type": "stream",
     "text": [
      "[[ 1.         -0.33741998]\n",
      " [-0.33741998  1.        ]]\n"
     ]
    },
    {
     "data": {
      "image/png": "[encoded data removed]",
      "text/plain": [
       "<Figure size 432x288 with 1 Axes>"
      ]
     },
     "metadata": {
      "needs_background": "light"
     },
     "output_type": "display_data"
    }
   ],
   "source": [
    "#check corr\n",
    "select = df_nn2['correspondence_score'] != 0\n",
    "nX = np.asarray(df_nn2['correspondence_score'][select])\n",
    "nY = np.asarray(df_nn2['dist'][select])\n",
    "r = np.corrcoef(nX, nY)\n",
    "print(r)\n",
    "\n",
    "plt.scatter(nX, nY, s=3)\n",
    "plt.xlim(0, 100)\n",
    "plt.show()"
   ]
  },
  {
   "cell_type": "code",
   "execution_count": 35,
   "metadata": {},
   "outputs": [],
   "source": [
    "#df_nn_to_output2 = df_nn2.iloc[:1000, :]\n",
    "#df_nn_to_output2.to_csv('distances_nn2.csv')"
   ]
  },
  {
   "cell_type": "code",
   "execution_count": 36,
   "metadata": {},
   "outputs": [
    {
     "name": "stdout",
     "output_type": "stream",
     "text": [
      "manifold aligned # of L-R pairs: 160\n"
     ]
    },
    {
     "data": {
      "text/html": [
       "<div>\n",
       "<style scoped>\n",
       "    .dataframe tbody tr th:only-of-type {\n",
       "        vertical-align: middle;\n",
       "    }\n",
       "\n",
       "    .dataframe tbody tr th {\n",
       "        vertical-align: top;\n",
       "    }\n",
       "\n",
       "    .dataframe thead th {\n",
       "        text-align: right;\n",
       "    }\n",
       "</style>\n",
       "<table border=\"1\" class=\"dataframe\">\n",
       "  <thead>\n",
       "    <tr style=\"text-align: right;\">\n",
       "      <th></th>\n",
       "      <th>idx</th>\n",
       "      <th>dist</th>\n",
       "      <th>rank</th>\n",
       "      <th>correspondence_score</th>\n",
       "      <th>rank_filtered</th>\n",
       "    </tr>\n",
       "  </thead>\n",
       "  <tbody>\n",
       "    <tr>\n",
       "      <th>CCL19_CXCR4</th>\n",
       "      <td>(2993, 2548)</td>\n",
       "      <td>0.000159</td>\n",
       "      <td>4</td>\n",
       "      <td>1964.685417</td>\n",
       "      <td>1</td>\n",
       "    </tr>\n",
       "    <tr>\n",
       "      <th>CXCL14_CCR7</th>\n",
       "      <td>(2994, 2138)</td>\n",
       "      <td>0.000452</td>\n",
       "      <td>8</td>\n",
       "      <td>1289.025469</td>\n",
       "      <td>2</td>\n",
       "    </tr>\n",
       "    <tr>\n",
       "      <th>CCL19_CCR7</th>\n",
       "      <td>(2993, 2138)</td>\n",
       "      <td>0.000726</td>\n",
       "      <td>13</td>\n",
       "      <td>2937.150598</td>\n",
       "      <td>3</td>\n",
       "    </tr>\n",
       "    <tr>\n",
       "      <th>CXCL14_CXCR4</th>\n",
       "      <td>(2994, 2548)</td>\n",
       "      <td>0.001337</td>\n",
       "      <td>34</td>\n",
       "      <td>862.240276</td>\n",
       "      <td>4</td>\n",
       "    </tr>\n",
       "    <tr>\n",
       "      <th>CCL2_CCR7</th>\n",
       "      <td>(2820, 2138)</td>\n",
       "      <td>0.001463</td>\n",
       "      <td>38</td>\n",
       "      <td>807.705825</td>\n",
       "      <td>5</td>\n",
       "    </tr>\n",
       "  </tbody>\n",
       "</table>\n",
       "</div>"
      ],
      "text/plain": [
       "                       idx      dist  rank  correspondence_score  \\\n",
       "CCL19_CXCR4   (2993, 2548)  0.000159     4           1964.685417   \n",
       "CXCL14_CCR7   (2994, 2138)  0.000452     8           1289.025469   \n",
       "CCL19_CCR7    (2993, 2138)  0.000726    13           2937.150598   \n",
       "CXCL14_CXCR4  (2994, 2548)  0.001337    34            862.240276   \n",
       "CCL2_CCR7     (2820, 2138)  0.001463    38            807.705825   \n",
       "\n",
       "              rank_filtered  \n",
       "CCL19_CXCR4               1  \n",
       "CXCL14_CCR7               2  \n",
       "CCL19_CCR7                3  \n",
       "CXCL14_CXCR4              4  \n",
       "CCL2_CCR7                 5  "
      ]
     },
     "execution_count": 36,
     "metadata": {},
     "output_type": "execute_result"
    }
   ],
   "source": [
    "df_nn_filtered2 = obj2.filtered_nn_output(df_nn2, candidates)\n",
    "df_nn_filtered2.head()"
   ]
  },
  {
   "cell_type": "code",
   "execution_count": 37,
   "metadata": {},
   "outputs": [
    {
     "name": "stdout",
     "output_type": "stream",
     "text": [
      "\n",
      "Total enriched: 8 / 160\n"
     ]
    },
    {
     "data": {
      "text/html": [
       "<div>\n",
       "<style scoped>\n",
       "    .dataframe tbody tr th:only-of-type {\n",
       "        vertical-align: middle;\n",
       "    }\n",
       "\n",
       "    .dataframe tbody tr th {\n",
       "        vertical-align: top;\n",
       "    }\n",
       "\n",
       "    .dataframe thead th {\n",
       "        text-align: right;\n",
       "    }\n",
       "</style>\n",
       "<table border=\"1\" class=\"dataframe\">\n",
       "  <thead>\n",
       "    <tr style=\"text-align: right;\">\n",
       "      <th></th>\n",
       "      <th>idx</th>\n",
       "      <th>dist</th>\n",
       "      <th>rank</th>\n",
       "      <th>correspondence_score</th>\n",
       "      <th>rank_filtered</th>\n",
       "      <th>p_val</th>\n",
       "    </tr>\n",
       "  </thead>\n",
       "  <tbody>\n",
       "    <tr>\n",
       "      <th>CCL19_CXCR4</th>\n",
       "      <td>(2993, 2548)</td>\n",
       "      <td>0.000159</td>\n",
       "      <td>4</td>\n",
       "      <td>1964.685417</td>\n",
       "      <td>1</td>\n",
       "      <td>0.000034</td>\n",
       "    </tr>\n",
       "    <tr>\n",
       "      <th>CXCL14_CCR7</th>\n",
       "      <td>(2994, 2138)</td>\n",
       "      <td>0.000452</td>\n",
       "      <td>8</td>\n",
       "      <td>1289.025469</td>\n",
       "      <td>2</td>\n",
       "      <td>0.000277</td>\n",
       "    </tr>\n",
       "    <tr>\n",
       "      <th>CCL19_CCR7</th>\n",
       "      <td>(2993, 2138)</td>\n",
       "      <td>0.000726</td>\n",
       "      <td>13</td>\n",
       "      <td>2937.150598</td>\n",
       "      <td>3</td>\n",
       "      <td>0.000714</td>\n",
       "    </tr>\n",
       "    <tr>\n",
       "      <th>CXCL14_CXCR4</th>\n",
       "      <td>(2994, 2548)</td>\n",
       "      <td>0.001337</td>\n",
       "      <td>34</td>\n",
       "      <td>862.240276</td>\n",
       "      <td>4</td>\n",
       "      <td>0.002419</td>\n",
       "    </tr>\n",
       "    <tr>\n",
       "      <th>CCL2_CCR7</th>\n",
       "      <td>(2820, 2138)</td>\n",
       "      <td>0.001463</td>\n",
       "      <td>38</td>\n",
       "      <td>807.705825</td>\n",
       "      <td>5</td>\n",
       "      <td>0.002897</td>\n",
       "    </tr>\n",
       "    <tr>\n",
       "      <th>CXCL12_CCR7</th>\n",
       "      <td>(2919, 2138)</td>\n",
       "      <td>0.001497</td>\n",
       "      <td>40</td>\n",
       "      <td>802.241724</td>\n",
       "      <td>6</td>\n",
       "      <td>0.003032</td>\n",
       "    </tr>\n",
       "    <tr>\n",
       "      <th>CCL2_CXCR4</th>\n",
       "      <td>(2820, 2548)</td>\n",
       "      <td>0.002347</td>\n",
       "      <td>76</td>\n",
       "      <td>540.281406</td>\n",
       "      <td>7</td>\n",
       "      <td>0.007443</td>\n",
       "    </tr>\n",
       "    <tr>\n",
       "      <th>CXCL12_CXCR4</th>\n",
       "      <td>(2919, 2548)</td>\n",
       "      <td>0.002381</td>\n",
       "      <td>78</td>\n",
       "      <td>536.626422</td>\n",
       "      <td>8</td>\n",
       "      <td>0.007659</td>\n",
       "    </tr>\n",
       "  </tbody>\n",
       "</table>\n",
       "</div>"
      ],
      "text/plain": [
       "                       idx      dist  rank  correspondence_score  \\\n",
       "CCL19_CXCR4   (2993, 2548)  0.000159     4           1964.685417   \n",
       "CXCL14_CCR7   (2994, 2138)  0.000452     8           1289.025469   \n",
       "CCL19_CCR7    (2993, 2138)  0.000726    13           2937.150598   \n",
       "CXCL14_CXCR4  (2994, 2548)  0.001337    34            862.240276   \n",
       "CCL2_CCR7     (2820, 2138)  0.001463    38            807.705825   \n",
       "CXCL12_CCR7   (2919, 2138)  0.001497    40            802.241724   \n",
       "CCL2_CXCR4    (2820, 2548)  0.002347    76            540.281406   \n",
       "CXCL12_CXCR4  (2919, 2548)  0.002381    78            536.626422   \n",
       "\n",
       "              rank_filtered     p_val  \n",
       "CCL19_CXCR4               1  0.000034  \n",
       "CXCL14_CCR7               2  0.000277  \n",
       "CCL19_CCR7                3  0.000714  \n",
       "CXCL14_CXCR4              4  0.002419  \n",
       "CCL2_CCR7                 5  0.002897  \n",
       "CXCL12_CCR7               6  0.003032  \n",
       "CCL2_CXCR4                7  0.007443  \n",
       "CXCL12_CXCR4              8  0.007659  "
      ]
     },
     "execution_count": 37,
     "metadata": {},
     "output_type": "execute_result"
    }
   ],
   "source": [
    "df_enriched2 = obj2.chi2_test(df_nn_filtered2, df = 2, pval=0.05)\n",
    "df_enriched2"
   ]
  },
  {
   "cell_type": "markdown",
   "metadata": {},
   "source": [
    "## mode pairs:"
   ]
  },
  {
   "cell_type": "code",
   "execution_count": 38,
   "metadata": {},
   "outputs": [
    {
     "name": "stdout",
     "output_type": "stream",
     "text": [
      "initiating an Xct object for interactions from Inflam. FIB (484) to Inflam. DC (81)...\n",
      "GRNs loaded...\n",
      "correspondence has been built...\n"
     ]
    }
   ],
   "source": [
    "obj3 = Xct(ada, 'Inflam. FIB', 'Inflam. DC', build_GRN = False, pcNet_name = 'skin_net', mode = 'pairs', verbose = True)"
   ]
  },
  {
   "cell_type": "code",
   "execution_count": 39,
   "metadata": {},
   "outputs": [
    {
     "data": {
      "text/plain": [
       "1.0002169791476756"
      ]
     },
     "execution_count": 39,
     "metadata": {},
     "output_type": "execute_result"
    }
   ],
   "source": [
    "w12 = obj1._w[:obj3._net_A.shape[0], obj3._net_A.shape[1]:]\n",
    "\n",
    "np.mean(w12)  "
   ]
  },
  {
   "cell_type": "code",
   "execution_count": 40,
   "metadata": {},
   "outputs": [
    {
     "name": "stdout",
     "output_type": "stream",
     "text": [
      "Net(\n",
      "  (linear1): Linear(in_features=484, out_features=124, bias=True)\n",
      "  (linear2): Linear(in_features=124, out_features=31, bias=True)\n",
      "  (linear3): Linear(in_features=31, out_features=2, bias=True)\n",
      ")\n",
      "Net(\n",
      "  (linear1): Linear(in_features=81, out_features=48, bias=True)\n",
      "  (linear2): Linear(in_features=48, out_features=12, bias=True)\n",
      "  (linear3): Linear(in_features=12, out_features=2, bias=True)\n",
      ")\n",
      "0 91.05137634277344\n",
      "99 27.237743377685547\n",
      "199 23.574460983276367\n",
      "299 21.075862884521484\n",
      "399 20.339221954345703\n",
      "499 20.182231903076172\n",
      "599 19.630210876464844\n",
      "699 19.41043472290039\n",
      "799 19.323551177978516\n",
      "899 19.183713912963867\n",
      "999 19.173681259155273\n"
     ]
    },
    {
     "data": {
      "image/png": "[encoded data removed]",
      "text/plain": [
       "<Figure size 480x400 with 1 Axes>"
      ]
     },
     "metadata": {
      "needs_background": "light"
     },
     "output_type": "display_data"
    }
   ],
   "source": [
    "projections3, losses3 = obj3.nn_projection(n = 1000, plot_loss = True)"
   ]
  },
  {
   "cell_type": "code",
   "execution_count": 41,
   "metadata": {},
   "outputs": [],
   "source": [
    "# np.savetxt(\"./data/skin_projections_all.csv\", projections3, delimiter=\"\\t\")\n",
    "\n",
    "# projections3 = np.genfromtxt(\"./data/skin_projections_all.csv\", delimiter=\"\\t\")"
   ]
  },
  {
   "cell_type": "code",
   "execution_count": 42,
   "metadata": {},
   "outputs": [
    {
     "name": "stdout",
     "output_type": "stream",
     "text": [
      "computing pair-wise distances...\n",
      "manifold aligned # of pairs: 9000000\n",
      "adding column 'rank'...\n",
      "adding column 'correspondence_score'...\n"
     ]
    },
    {
     "data": {
      "text/html": [
       "<div>\n",
       "<style scoped>\n",
       "    .dataframe tbody tr th:only-of-type {\n",
       "        vertical-align: middle;\n",
       "    }\n",
       "\n",
       "    .dataframe tbody tr th {\n",
       "        vertical-align: top;\n",
       "    }\n",
       "\n",
       "    .dataframe thead th {\n",
       "        text-align: right;\n",
       "    }\n",
       "</style>\n",
       "<table border=\"1\" class=\"dataframe\">\n",
       "  <thead>\n",
       "    <tr style=\"text-align: right;\">\n",
       "      <th></th>\n",
       "      <th>idx</th>\n",
       "      <th>dist</th>\n",
       "      <th>rank</th>\n",
       "      <th>correspondence_score</th>\n",
       "    </tr>\n",
       "  </thead>\n",
       "  <tbody>\n",
       "    <tr>\n",
       "      <th>APOE_HLA-DPA1</th>\n",
       "      <td>(2975, 2987)</td>\n",
       "      <td>0.000027</td>\n",
       "      <td>1</td>\n",
       "      <td>1301.987254</td>\n",
       "    </tr>\n",
       "    <tr>\n",
       "      <th>POSTN_HLA-DPB1</th>\n",
       "      <td>(2977, 2983)</td>\n",
       "      <td>0.000044</td>\n",
       "      <td>2</td>\n",
       "      <td>1363.317986</td>\n",
       "    </tr>\n",
       "    <tr>\n",
       "      <th>POSTN_HLA-DPA1</th>\n",
       "      <td>(2977, 2987)</td>\n",
       "      <td>0.000051</td>\n",
       "      <td>3</td>\n",
       "      <td>1366.168687</td>\n",
       "    </tr>\n",
       "    <tr>\n",
       "      <th>APOE_HLA-DPB1</th>\n",
       "      <td>(2975, 2983)</td>\n",
       "      <td>0.000056</td>\n",
       "      <td>4</td>\n",
       "      <td>1299.270477</td>\n",
       "    </tr>\n",
       "    <tr>\n",
       "      <th>CCL19_CD1A</th>\n",
       "      <td>(2993, 1668)</td>\n",
       "      <td>0.000096</td>\n",
       "      <td>5</td>\n",
       "      <td>1978.265143</td>\n",
       "    </tr>\n",
       "  </tbody>\n",
       "</table>\n",
       "</div>"
      ],
      "text/plain": [
       "                         idx      dist  rank  correspondence_score\n",
       "APOE_HLA-DPA1   (2975, 2987)  0.000027     1           1301.987254\n",
       "POSTN_HLA-DPB1  (2977, 2983)  0.000044     2           1363.317986\n",
       "POSTN_HLA-DPA1  (2977, 2987)  0.000051     3           1366.168687\n",
       "APOE_HLA-DPB1   (2975, 2983)  0.000056     4           1299.270477\n",
       "CCL19_CD1A      (2993, 1668)  0.000096     5           1978.265143"
      ]
     },
     "execution_count": 42,
     "metadata": {},
     "output_type": "execute_result"
    }
   ],
   "source": [
    "df_nn3 = obj3.nn_output(projections3)\n",
    "df_nn3.head()"
   ]
  },
  {
   "cell_type": "code",
   "execution_count": 43,
   "metadata": {},
   "outputs": [
    {
     "name": "stdout",
     "output_type": "stream",
     "text": [
      "[[ 1.         -0.35496395]\n",
      " [-0.35496395  1.        ]]\n"
     ]
    },
    {
     "data": {
      "image/png": "[encoded data removed]",
      "text/plain": [
       "<Figure size 432x288 with 1 Axes>"
      ]
     },
     "metadata": {
      "needs_background": "light"
     },
     "output_type": "display_data"
    }
   ],
   "source": [
    "#check corr\n",
    "select = df_nn3['correspondence_score'] != 0\n",
    "nX = np.asarray(df_nn3['correspondence_score'][select])\n",
    "nY = np.asarray(df_nn3['dist'][select])\n",
    "r = np.corrcoef(nX, nY)\n",
    "print(r)\n",
    "\n",
    "plt.scatter(nX, nY, s=3)\n",
    "plt.xlim(0, 100)\n",
    "plt.show()"
   ]
  },
  {
   "cell_type": "code",
   "execution_count": 44,
   "metadata": {},
   "outputs": [],
   "source": [
    "#df_nn_to_output3 = df_nn3.iloc[:20000, :]\n",
    "#df_nn_to_output3.to_csv('distances_nn3.csv')"
   ]
  },
  {
   "cell_type": "code",
   "execution_count": 45,
   "metadata": {},
   "outputs": [
    {
     "name": "stdout",
     "output_type": "stream",
     "text": [
      "manifold aligned # of L-R pairs: 160\n"
     ]
    },
    {
     "data": {
      "text/html": [
       "<div>\n",
       "<style scoped>\n",
       "    .dataframe tbody tr th:only-of-type {\n",
       "        vertical-align: middle;\n",
       "    }\n",
       "\n",
       "    .dataframe tbody tr th {\n",
       "        vertical-align: top;\n",
       "    }\n",
       "\n",
       "    .dataframe thead th {\n",
       "        text-align: right;\n",
       "    }\n",
       "</style>\n",
       "<table border=\"1\" class=\"dataframe\">\n",
       "  <thead>\n",
       "    <tr style=\"text-align: right;\">\n",
       "      <th></th>\n",
       "      <th>idx</th>\n",
       "      <th>dist</th>\n",
       "      <th>rank</th>\n",
       "      <th>correspondence_score</th>\n",
       "      <th>rank_filtered</th>\n",
       "    </tr>\n",
       "  </thead>\n",
       "  <tbody>\n",
       "    <tr>\n",
       "      <th>CCL19_CXCR4</th>\n",
       "      <td>(2993, 2548)</td>\n",
       "      <td>0.000115</td>\n",
       "      <td>6</td>\n",
       "      <td>1964.685417</td>\n",
       "      <td>1</td>\n",
       "    </tr>\n",
       "    <tr>\n",
       "      <th>CXCL14_CCR7</th>\n",
       "      <td>(2994, 2138)</td>\n",
       "      <td>0.000550</td>\n",
       "      <td>12</td>\n",
       "      <td>1289.025469</td>\n",
       "      <td>2</td>\n",
       "    </tr>\n",
       "    <tr>\n",
       "      <th>CCL19_CCR7</th>\n",
       "      <td>(2993, 2138)</td>\n",
       "      <td>0.001159</td>\n",
       "      <td>25</td>\n",
       "      <td>2937.150598</td>\n",
       "      <td>3</td>\n",
       "    </tr>\n",
       "    <tr>\n",
       "      <th>CCL2_CCR7</th>\n",
       "      <td>(2820, 2138)</td>\n",
       "      <td>0.001532</td>\n",
       "      <td>32</td>\n",
       "      <td>807.705825</td>\n",
       "      <td>4</td>\n",
       "    </tr>\n",
       "    <tr>\n",
       "      <th>CXCL14_CXCR4</th>\n",
       "      <td>(2994, 2548)</td>\n",
       "      <td>0.001595</td>\n",
       "      <td>34</td>\n",
       "      <td>862.240276</td>\n",
       "      <td>5</td>\n",
       "    </tr>\n",
       "  </tbody>\n",
       "</table>\n",
       "</div>"
      ],
      "text/plain": [
       "                       idx      dist  rank  correspondence_score  \\\n",
       "CCL19_CXCR4   (2993, 2548)  0.000115     6           1964.685417   \n",
       "CXCL14_CCR7   (2994, 2138)  0.000550    12           1289.025469   \n",
       "CCL19_CCR7    (2993, 2138)  0.001159    25           2937.150598   \n",
       "CCL2_CCR7     (2820, 2138)  0.001532    32            807.705825   \n",
       "CXCL14_CXCR4  (2994, 2548)  0.001595    34            862.240276   \n",
       "\n",
       "              rank_filtered  \n",
       "CCL19_CXCR4               1  \n",
       "CXCL14_CCR7               2  \n",
       "CCL19_CCR7                3  \n",
       "CCL2_CCR7                 4  \n",
       "CXCL14_CXCR4              5  "
      ]
     },
     "execution_count": 45,
     "metadata": {},
     "output_type": "execute_result"
    }
   ],
   "source": [
    "df_nn_filtered3 = obj3.filtered_nn_output(df_nn3, candidates)\n",
    "df_nn_filtered3.head()"
   ]
  },
  {
   "cell_type": "code",
   "execution_count": 46,
   "metadata": {},
   "outputs": [
    {
     "name": "stdout",
     "output_type": "stream",
     "text": [
      "\n",
      "Total enriched: 8 / 160\n"
     ]
    },
    {
     "data": {
      "text/html": [
       "<div>\n",
       "<style scoped>\n",
       "    .dataframe tbody tr th:only-of-type {\n",
       "        vertical-align: middle;\n",
       "    }\n",
       "\n",
       "    .dataframe tbody tr th {\n",
       "        vertical-align: top;\n",
       "    }\n",
       "\n",
       "    .dataframe thead th {\n",
       "        text-align: right;\n",
       "    }\n",
       "</style>\n",
       "<table border=\"1\" class=\"dataframe\">\n",
       "  <thead>\n",
       "    <tr style=\"text-align: right;\">\n",
       "      <th></th>\n",
       "      <th>idx</th>\n",
       "      <th>dist</th>\n",
       "      <th>rank</th>\n",
       "      <th>correspondence_score</th>\n",
       "      <th>rank_filtered</th>\n",
       "      <th>p_val</th>\n",
       "    </tr>\n",
       "  </thead>\n",
       "  <tbody>\n",
       "    <tr>\n",
       "      <th>CCL19_CXCR4</th>\n",
       "      <td>(2993, 2548)</td>\n",
       "      <td>0.000115</td>\n",
       "      <td>6</td>\n",
       "      <td>1964.685417</td>\n",
       "      <td>1</td>\n",
       "      <td>0.000017</td>\n",
       "    </tr>\n",
       "    <tr>\n",
       "      <th>CXCL14_CCR7</th>\n",
       "      <td>(2994, 2138)</td>\n",
       "      <td>0.000550</td>\n",
       "      <td>12</td>\n",
       "      <td>1289.025469</td>\n",
       "      <td>2</td>\n",
       "      <td>0.000393</td>\n",
       "    </tr>\n",
       "    <tr>\n",
       "      <th>CCL19_CCR7</th>\n",
       "      <td>(2993, 2138)</td>\n",
       "      <td>0.001159</td>\n",
       "      <td>25</td>\n",
       "      <td>2937.150598</td>\n",
       "      <td>3</td>\n",
       "      <td>0.001742</td>\n",
       "    </tr>\n",
       "    <tr>\n",
       "      <th>CCL2_CCR7</th>\n",
       "      <td>(2820, 2138)</td>\n",
       "      <td>0.001532</td>\n",
       "      <td>32</td>\n",
       "      <td>807.705825</td>\n",
       "      <td>4</td>\n",
       "      <td>0.003041</td>\n",
       "    </tr>\n",
       "    <tr>\n",
       "      <th>CXCL14_CXCR4</th>\n",
       "      <td>(2994, 2548)</td>\n",
       "      <td>0.001595</td>\n",
       "      <td>34</td>\n",
       "      <td>862.240276</td>\n",
       "      <td>5</td>\n",
       "      <td>0.003294</td>\n",
       "    </tr>\n",
       "    <tr>\n",
       "      <th>CXCL12_CCR7</th>\n",
       "      <td>(2919, 2138)</td>\n",
       "      <td>0.001622</td>\n",
       "      <td>37</td>\n",
       "      <td>802.241724</td>\n",
       "      <td>6</td>\n",
       "      <td>0.003410</td>\n",
       "    </tr>\n",
       "    <tr>\n",
       "      <th>CCL2_CXCR4</th>\n",
       "      <td>(2820, 2548)</td>\n",
       "      <td>0.002577</td>\n",
       "      <td>73</td>\n",
       "      <td>540.281406</td>\n",
       "      <td>7</td>\n",
       "      <td>0.008579</td>\n",
       "    </tr>\n",
       "    <tr>\n",
       "      <th>CXCL12_CXCR4</th>\n",
       "      <td>(2919, 2548)</td>\n",
       "      <td>0.002667</td>\n",
       "      <td>75</td>\n",
       "      <td>536.626422</td>\n",
       "      <td>8</td>\n",
       "      <td>0.009188</td>\n",
       "    </tr>\n",
       "  </tbody>\n",
       "</table>\n",
       "</div>"
      ],
      "text/plain": [
       "                       idx      dist  rank  correspondence_score  \\\n",
       "CCL19_CXCR4   (2993, 2548)  0.000115     6           1964.685417   \n",
       "CXCL14_CCR7   (2994, 2138)  0.000550    12           1289.025469   \n",
       "CCL19_CCR7    (2993, 2138)  0.001159    25           2937.150598   \n",
       "CCL2_CCR7     (2820, 2138)  0.001532    32            807.705825   \n",
       "CXCL14_CXCR4  (2994, 2548)  0.001595    34            862.240276   \n",
       "CXCL12_CCR7   (2919, 2138)  0.001622    37            802.241724   \n",
       "CCL2_CXCR4    (2820, 2548)  0.002577    73            540.281406   \n",
       "CXCL12_CXCR4  (2919, 2548)  0.002667    75            536.626422   \n",
       "\n",
       "              rank_filtered     p_val  \n",
       "CCL19_CXCR4               1  0.000017  \n",
       "CXCL14_CCR7               2  0.000393  \n",
       "CCL19_CCR7                3  0.001742  \n",
       "CCL2_CCR7                 4  0.003041  \n",
       "CXCL14_CXCR4              5  0.003294  \n",
       "CXCL12_CCR7               6  0.003410  \n",
       "CCL2_CXCR4                7  0.008579  \n",
       "CXCL12_CXCR4              8  0.009188  "
      ]
     },
     "execution_count": 46,
     "metadata": {},
     "output_type": "execute_result"
    }
   ],
   "source": [
    "df_enriched3 = obj3.chi2_test(df_nn_filtered3, df = 2, pval = 0.05)\n",
    "df_enriched3"
   ]
  },
  {
   "cell_type": "code",
   "execution_count": null,
   "metadata": {},
   "outputs": [],
   "source": []
  }
 ],
 "metadata": {
  "interpreter": {
   "hash": "514d33539f695348636c0e2c99b007f53126e6287d73c40e4d4d0de0e565564b"
  },
  "kernelspec": {
   "display_name": "Python 3",
   "language": "python",
   "name": "python3"
  },
  "language_info": {
   "codemirror_mode": {
    "name": "ipython",
    "version": 3
   },
   "file_extension": ".py",
   "mimetype": "text/x-python",
   "name": "python",
   "nbconvert_exporter": "python",
   "pygments_lexer": "ipython3",
   "version": "3.9.4"
  }
 },
 "nbformat": 4,
 "nbformat_minor": 2
}
