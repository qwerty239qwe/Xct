{
 "cells": [
  {
   "cell_type": "code",
   "execution_count": 1,
   "id": "6da93f69",
   "metadata": {},
   "outputs": [],
   "source": [
    "import numpy as np\n",
    "import pandas as pd\n",
    "import scanpy as sc\n",
    "import scipy"
   ]
  },
  {
   "cell_type": "code",
   "execution_count": 2,
   "id": "23ac9c0a",
   "metadata": {},
   "outputs": [],
   "source": [
    "sc.settings.verbosity = 0\n"
   ]
  },
  {
   "cell_type": "markdown",
   "id": "d37bc164",
   "metadata": {},
   "source": [
    "### NL"
   ]
  },
  {
   "cell_type": "code",
   "execution_count": 3,
   "id": "cc66050b",
   "metadata": {},
   "outputs": [
    {
     "data": {
      "text/plain": [
       "AnnData object with n_obs × n_vars = 2552 × 17328\n",
       "    obs: 'orig.ident', 'nCount_RNA', 'nFeature_RNA', 'patient.id', 'condition', 'labels'\n",
       "    var: 'vst.mean', 'vst.variance', 'vst.variance.expected', 'vst.variance.standardized', 'vst.variable'"
      ]
     },
     "execution_count": 3,
     "metadata": {},
     "output_type": "execute_result"
    }
   ],
   "source": [
    "ada = sc.read_h5ad('./NL.h5ad')\n",
    "ada"
   ]
  },
  {
   "cell_type": "code",
   "execution_count": 4,
   "id": "9a6970c5",
   "metadata": {},
   "outputs": [],
   "source": [
    "ada.obs['ident'] = ada.obs['labels'].copy()"
   ]
  },
  {
   "cell_type": "code",
   "execution_count": 5,
   "id": "86746f1c",
   "metadata": {},
   "outputs": [],
   "source": [
    "data = ada.X.toarray()\n",
    "counts = np.asarray(np.expm1(data), dtype=int)\n",
    "ada.layers['raw'] = counts\n",
    "ada.layers['log1p'] = data"
   ]
  },
  {
   "cell_type": "code",
   "execution_count": 6,
   "id": "00765338",
   "metadata": {},
   "outputs": [
    {
     "data": {
      "text/plain": [
       "AnnData object with n_obs × n_vars = 2552 × 3000\n",
       "    obs: 'orig.ident', 'nCount_RNA', 'nFeature_RNA', 'patient.id', 'condition', 'labels', 'ident'\n",
       "    var: 'vst.mean', 'vst.variance', 'vst.variance.expected', 'vst.variance.standardized', 'vst.variable'\n",
       "    layers: 'raw', 'log1p'"
      ]
     },
     "execution_count": 6,
     "metadata": {},
     "output_type": "execute_result"
    }
   ],
   "source": [
    "HVG_i = np.argsort(np.asarray(ada.var['vst.variance.standardized']))[-3000:]\n",
    "ada = ada[:, HVG_i].copy()\n",
    "ada"
   ]
  },
  {
   "cell_type": "code",
   "execution_count": null,
   "id": "adc27ff7",
   "metadata": {},
   "outputs": [],
   "source": []
  },
  {
   "cell_type": "code",
   "execution_count": 7,
   "id": "d8baff95",
   "metadata": {},
   "outputs": [
    {
     "name": "stderr",
     "output_type": "stream",
     "text": [
      "... storing 'patient.id' as categorical\n",
      "... storing 'condition' as categorical\n",
      "... storing 'labels' as categorical\n",
      "... storing 'ident' as categorical\n"
     ]
    }
   ],
   "source": [
    "ada.write('NL_processed.h5ad')"
   ]
  },
  {
   "cell_type": "markdown",
   "id": "e0836142",
   "metadata": {},
   "source": [
    "### LS"
   ]
  },
  {
   "cell_type": "code",
   "execution_count": 3,
   "id": "4fb96c6c",
   "metadata": {},
   "outputs": [
    {
     "data": {
      "text/plain": [
       "AnnData object with n_obs × n_vars = 5011 × 17328\n",
       "    obs: 'orig.ident', 'nCount_RNA', 'nFeature_RNA', 'patient.id', 'condition', 'labels', 'ident'\n",
       "    var: 'vst.mean', 'vst.variance', 'vst.variance.expected', 'vst.variance.standardized', 'vst.variable'"
      ]
     },
     "execution_count": 3,
     "metadata": {},
     "output_type": "execute_result"
    }
   ],
   "source": [
    "ada = sc.read_h5ad(\"LS.h5ad\")\n",
    "ada"
   ]
  },
  {
   "cell_type": "code",
   "execution_count": 4,
   "id": "a62bb7a0",
   "metadata": {},
   "outputs": [],
   "source": [
    "data = scipy.sparse.csr_matrix.toarray(ada.X)\n",
    "counts = np.asarray(np.expm1(data), dtype=int)\n",
    "ada.layers['raw'] = counts\n",
    "ada.layers['log1p'] = data"
   ]
  },
  {
   "cell_type": "code",
   "execution_count": 5,
   "id": "31f458ff",
   "metadata": {},
   "outputs": [
    {
     "data": {
      "text/plain": [
       "AnnData object with n_obs × n_vars = 5011 × 3000\n",
       "    obs: 'orig.ident', 'nCount_RNA', 'nFeature_RNA', 'patient.id', 'condition', 'labels', 'ident'\n",
       "    var: 'vst.mean', 'vst.variance', 'vst.variance.expected', 'vst.variance.standardized', 'vst.variable'\n",
       "    layers: 'raw', 'log1p'"
      ]
     },
     "execution_count": 5,
     "metadata": {},
     "output_type": "execute_result"
    }
   ],
   "source": [
    "HVG_i = np.argsort(np.asarray(ada.var['vst.variance.standardized']))[-3000:]\n",
    "ada = ada[:, HVG_i].copy()\n",
    "ada"
   ]
  },
  {
   "cell_type": "code",
   "execution_count": 6,
   "id": "81c91f20",
   "metadata": {},
   "outputs": [
    {
     "name": "stderr",
     "output_type": "stream",
     "text": [
      "... storing 'patient.id' as categorical\n",
      "... storing 'condition' as categorical\n",
      "... storing 'ident' as categorical\n"
     ]
    }
   ],
   "source": [
    "ada.write('LS_processed.h5ad')"
   ]
  },
  {
   "cell_type": "code",
   "execution_count": null,
   "id": "138cd3f4",
   "metadata": {},
   "outputs": [],
   "source": []
  }
 ],
 "metadata": {
  "kernelspec": {
   "display_name": "Python 3",
   "language": "python",
   "name": "python3"
  },
  "language_info": {
   "codemirror_mode": {
    "name": "ipython",
    "version": 3
   },
   "file_extension": ".py",
   "mimetype": "text/x-python",
   "name": "python",
   "nbconvert_exporter": "python",
   "pygments_lexer": "ipython3",
   "version": "3.9.4"
  }
 },
 "nbformat": 4,
 "nbformat_minor": 5
}
