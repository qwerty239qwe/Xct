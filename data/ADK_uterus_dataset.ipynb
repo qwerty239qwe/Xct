{
 "cells": [
  {
   "cell_type": "code",
   "execution_count": 1,
   "id": "6da93f69",
   "metadata": {},
   "outputs": [],
   "source": [
    "import numpy as np\n",
    "import pandas as pd\n",
    "import scanpy as sc\n",
    "import scipy"
   ]
  },
  {
   "cell_type": "code",
   "execution_count": 2,
   "id": "23ac9c0a",
   "metadata": {},
   "outputs": [],
   "source": [
    "sc.settings.verbosity = 0"
   ]
  },
  {
   "cell_type": "markdown",
   "id": "d37bc164",
   "metadata": {},
   "source": [
    "### ADK"
   ]
  },
  {
   "cell_type": "code",
   "execution_count": 9,
   "id": "cc66050b",
   "metadata": {},
   "outputs": [
    {
     "data": {
      "text/plain": [
       "AnnData object with n_obs × n_vars = 33125 × 32285\n",
       "    obs: 'orig.ident', 'nCount_RNA', 'nFeature_RNA', 'RNA_snn_res.0.01', 'seurat_clusters', 'RNA_snn_res.0.05', 'RNA_snn_res.0.1', 'cellType'\n",
       "    var: 'vst.mean', 'vst.variance', 'vst.variance.expected', 'vst.variance.standardized', 'vst.variable'"
      ]
     },
     "execution_count": 9,
     "metadata": {},
     "output_type": "execute_result"
    }
   ],
   "source": [
    "ada = sc.read_h5ad('./ADK.h5ad')\n",
    "ada"
   ]
  },
  {
   "cell_type": "code",
   "execution_count": 10,
   "id": "9a6970c5",
   "metadata": {},
   "outputs": [],
   "source": [
    "ada.obs['ident'] = ada.obs['cellType'].copy()"
   ]
  },
  {
   "cell_type": "code",
   "execution_count": 11,
   "id": "86746f1c",
   "metadata": {},
   "outputs": [],
   "source": [
    "ada.layers['raw'] = ada.raw.X\n",
    "ada.layers['log1p'] = ada.X"
   ]
  },
  {
   "cell_type": "code",
   "execution_count": 12,
   "id": "00765338",
   "metadata": {},
   "outputs": [
    {
     "data": {
      "text/plain": [
       "AnnData object with n_obs × n_vars = 33125 × 3000\n",
       "    obs: 'orig.ident', 'nCount_RNA', 'nFeature_RNA', 'RNA_snn_res.0.01', 'seurat_clusters', 'RNA_snn_res.0.05', 'RNA_snn_res.0.1', 'cellType', 'ident'\n",
       "    var: 'vst.mean', 'vst.variance', 'vst.variance.expected', 'vst.variance.standardized', 'vst.variable'\n",
       "    layers: 'raw', 'log1p'"
      ]
     },
     "execution_count": 12,
     "metadata": {},
     "output_type": "execute_result"
    }
   ],
   "source": [
    "HVG_i = np.argsort(np.asarray(ada.var['vst.variance.standardized']))[-3000:]\n",
    "ada = ada[:, HVG_i].copy()\n",
    "ada"
   ]
  },
  {
   "cell_type": "code",
   "execution_count": 13,
   "id": "adc27ff7",
   "metadata": {},
   "outputs": [
    {
     "data": {
      "text/plain": [
       "Hepatocyte           11584\n",
       "T cells               7298\n",
       "Endothelial cells     4756\n",
       "B cell                3927\n",
       "Erythroid-like        1914\n",
       "Monocyte              1714\n",
       "Neutrophil             624\n",
       "Macrophage             620\n",
       "HSC                    551\n",
       "Cholangiocytes         137\n",
       "Name: ident, dtype: int64"
      ]
     },
     "execution_count": 13,
     "metadata": {},
     "output_type": "execute_result"
    }
   ],
   "source": [
    "ada.obs['ident'].value_counts()"
   ]
  },
  {
   "cell_type": "code",
   "execution_count": null,
   "id": "d8baff95",
   "metadata": {},
   "outputs": [],
   "source": [
    "#ada.write('ADK_processed.h5ad')"
   ]
  },
  {
   "cell_type": "code",
   "execution_count": null,
   "id": "138cd3f4",
   "metadata": {},
   "outputs": [],
   "source": []
  },
  {
   "cell_type": "markdown",
   "id": "a741a695",
   "metadata": {},
   "source": [
    "### uterus"
   ]
  },
  {
   "cell_type": "code",
   "execution_count": 3,
   "id": "a24f3d45",
   "metadata": {},
   "outputs": [
    {
     "data": {
      "text/plain": [
       "AnnData object with n_obs × n_vars = 12115 × 25755\n",
       "    obs: 'orig.ident', 'nCount_RNA', 'nFeature_RNA', 'Percent_mito', 'RNA_snn_res.0.1', 'seurat_clusters', 'RNA_snn_res.0.2', 'RNA_snn_res.0.3', 'RNA_snn_res.0.5', 'ident'\n",
       "    var: 'vst.mean', 'vst.variance', 'vst.variance.expected', 'vst.variance.standardized', 'vst.variable'"
      ]
     },
     "execution_count": 3,
     "metadata": {},
     "output_type": "execute_result"
    }
   ],
   "source": [
    "ada = sc.read_h5ad('./uterus.h5ad')\n",
    "ada"
   ]
  },
  {
   "cell_type": "code",
   "execution_count": 4,
   "id": "ba21c6b5",
   "metadata": {},
   "outputs": [
    {
     "data": {
      "text/plain": [
       "AnnData object with n_obs × n_vars = 6487 × 25755\n",
       "    obs: 'orig.ident', 'nCount_RNA', 'nFeature_RNA', 'Percent_mito', 'RNA_snn_res.0.1', 'seurat_clusters', 'RNA_snn_res.0.2', 'RNA_snn_res.0.3', 'RNA_snn_res.0.5', 'ident'\n",
       "    var: 'vst.mean', 'vst.variance', 'vst.variance.expected', 'vst.variance.standardized', 'vst.variable'"
      ]
     },
     "execution_count": 4,
     "metadata": {},
     "output_type": "execute_result"
    }
   ],
   "source": [
    "ada1 = ada[ada.obs['orig.ident'] == 'WT', :].copy()\n",
    "ada1"
   ]
  },
  {
   "cell_type": "code",
   "execution_count": 5,
   "id": "7faf1180",
   "metadata": {},
   "outputs": [
    {
     "data": {
      "text/plain": [
       "array(['ACD+/-', 'WT', 'WTA11'], dtype=object)"
      ]
     },
     "execution_count": 5,
     "metadata": {},
     "output_type": "execute_result"
    }
   ],
   "source": [
    "np.unique(ada.obs['orig.ident'])"
   ]
  },
  {
   "cell_type": "code",
   "execution_count": 6,
   "id": "87526d66",
   "metadata": {},
   "outputs": [
    {
     "data": {
      "text/plain": [
       "stromal cells        3958\n",
       "myocytes             3338\n",
       "epithelial cells     3025\n",
       "endothelial cells     793\n",
       "pericytes             570\n",
       "lymphocytes           215\n",
       "mesothelial cells     110\n",
       "myeloid cells         106\n",
       "Name: ident, dtype: int64"
      ]
     },
     "execution_count": 6,
     "metadata": {},
     "output_type": "execute_result"
    }
   ],
   "source": [
    "ada.obs['ident'].value_counts()"
   ]
  },
  {
   "cell_type": "code",
   "execution_count": 7,
   "id": "e29f2bf0",
   "metadata": {},
   "outputs": [],
   "source": [
    "ada.layers['raw'] = ada.raw.X\n",
    "ada.layers['log1p'] = ada.X"
   ]
  },
  {
   "cell_type": "code",
   "execution_count": 8,
   "id": "44a3454d",
   "metadata": {},
   "outputs": [
    {
     "data": {
      "text/plain": [
       "AnnData object with n_obs × n_vars = 6487 × 3000\n",
       "    obs: 'orig.ident', 'nCount_RNA', 'nFeature_RNA', 'Percent_mito', 'RNA_snn_res.0.1', 'seurat_clusters', 'RNA_snn_res.0.2', 'RNA_snn_res.0.3', 'RNA_snn_res.0.5', 'ident'\n",
       "    var: 'vst.mean', 'vst.variance', 'vst.variance.expected', 'vst.variance.standardized', 'vst.variable'"
      ]
     },
     "execution_count": 8,
     "metadata": {},
     "output_type": "execute_result"
    }
   ],
   "source": [
    "HVG_i = np.argsort(np.asarray(ada1.var['vst.variance.standardized']))[-3000:]\n",
    "ada1 = ada1[:, HVG_i].copy()\n",
    "ada1"
   ]
  },
  {
   "cell_type": "code",
   "execution_count": null,
   "id": "5d0b0f19",
   "metadata": {},
   "outputs": [],
   "source": [
    "#sorted(ada.var['vst.variance.standardized'])[-3000:]"
   ]
  },
  {
   "cell_type": "code",
   "execution_count": null,
   "id": "c4142a08",
   "metadata": {},
   "outputs": [],
   "source": [
    "#ada.write('uterus_processed.h5ad')"
   ]
  },
  {
   "cell_type": "code",
   "execution_count": null,
   "id": "0d7686a0",
   "metadata": {},
   "outputs": [],
   "source": []
  }
 ],
 "metadata": {
  "kernelspec": {
   "display_name": "Python 3",
   "language": "python",
   "name": "python3"
  },
  "language_info": {
   "codemirror_mode": {
    "name": "ipython",
    "version": 3
   },
   "file_extension": ".py",
   "mimetype": "text/x-python",
   "name": "python",
   "nbconvert_exporter": "python",
   "pygments_lexer": "ipython3",
   "version": "3.9.4"
  }
 },
 "nbformat": 4,
 "nbformat_minor": 5
}
